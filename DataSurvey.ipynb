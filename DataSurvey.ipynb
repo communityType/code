{
 "cells": [
  {
   "cell_type": "code",
   "execution_count": 2,
   "id": "2bdc3174",
   "metadata": {},
   "outputs": [],
   "source": [
    "import warnings\n",
    "warnings.filterwarnings('ignore')\n",
    "import sys,os\n",
    "sys.path.append(\"./src/\")\n",
    "import requests\n",
    "import graph_tool.all as gt\n",
    "import pickle\n",
    "import GenModel as GM\n",
    "from Converter import *\n",
    "from preprocess import preprocess\n",
    "import summary_stats_all as SS\n",
    "import numpy as np\n",
    "import seaborn as sns\n",
    "import matplotlib.pyplot as plt\n",
    "from collections import Counter\n",
    "prop_cycle = plt.rcParams['axes.prop_cycle']\n",
    "colors = prop_cycle.by_key()['color']"
   ]
  },
  {
   "cell_type": "code",
   "execution_count": 3,
   "id": "c943f8d2",
   "metadata": {},
   "outputs": [],
   "source": [
    "%load_ext autoreload\n",
    "# %reload_ext autoreload\n",
    "%autoreload 2\n",
    "import pandas as pd\n",
    "import matplotlib.pyplot as plt\n",
    "import ast\n",
    "import random"
   ]
  },
  {
   "cell_type": "markdown",
   "id": "aa687067",
   "metadata": {},
   "source": [
    "# Retrieve Dataset"
   ]
  },
  {
   "cell_type": "code",
   "execution_count": 3,
   "id": "4e3bd3bb",
   "metadata": {},
   "outputs": [],
   "source": [
    "response = requests.get(\"https://networks.skewed.de/api/nets?full=True\").json()"
   ]
  },
  {
   "cell_type": "code",
   "execution_count": 4,
   "id": "42127956",
   "metadata": {},
   "outputs": [],
   "source": [
    "net_names = requests.get(\"https://networks.skewed.de/api/nets\").json()"
   ]
  },
  {
   "cell_type": "markdown",
   "id": "acd343af",
   "metadata": {},
   "source": [
    "Network selection criteria:\n",
    "1. Largest component size in [MIN=50,MAX=20000]\n",
    "2. NOT bipartite\n",
    "3. NOT Multilayer\n",
    "4. NOT Multiple type of edges\n",
    "5. In 5 categories: Online Social, Economic, Technological, Biological and Informational\n"
   ]
  },
  {
   "cell_type": "code",
   "execution_count": 2,
   "id": "c38cbc2d",
   "metadata": {},
   "outputs": [],
   "source": [
    "def eligible_network(response,name,net=None):\n",
    "    if 'Multilayer' in response[name]['tags']:\n",
    "        return False;\n",
    "    if 'Multigraph' in response[name]['tags']:\n",
    "        return False;\n",
    "    if net == None:\n",
    "        network_info = response[name]['analyses']\n",
    "    else:\n",
    "        network_info = response[name]['analyses'][net]\n",
    "    lc = network_info['num_vertices']*network_info['largest_component_fraction']\n",
    "    if lc < MIN or lc > MAX:\n",
    "        return False;\n",
    "    if network_info['is_bipartite']:\n",
    "        return False;\n",
    "    n = 0\n",
    "    for tag in response[name]['tags']:\n",
    "        if tag in eligible_type:\n",
    "            n += 1\n",
    "    if n == len(eligible_type):\n",
    "        return True;\n",
    "    return False;"
   ]
  },
  {
   "cell_type": "markdown",
   "id": "b0fde648",
   "metadata": {},
   "source": [
    "## Social & Online"
   ]
  },
  {
   "cell_type": "code",
   "execution_count": 6,
   "id": "ec872a31",
   "metadata": {},
   "outputs": [],
   "source": [
    "MIN = 50\n",
    "MAX = 20000\n",
    "eligible_type = [\"Social\",\"Online\"]"
   ]
  },
  {
   "cell_type": "code",
   "execution_count": 21,
   "id": "bb3830ee",
   "metadata": {},
   "outputs": [],
   "source": [
    "eligible_name = []\n",
    "for name in net_names:\n",
    "    if len(response[name]['nets']) == 1:\n",
    "        if eligible_network(response,name):\n",
    "            eligible_name.append(name)\n",
    "    else:\n",
    "        for net in response[name]['nets']:\n",
    "            if eligible_network(response,name,net):\n",
    "                eligible_name.append(name+'/'+net)"
   ]
  },
  {
   "cell_type": "code",
   "execution_count": 22,
   "id": "5599104c",
   "metadata": {},
   "outputs": [],
   "source": [
    "#We notice a lot networks under one name which are collected in the same way from same source \n",
    "#so we only choose one network among similar networks in our analysis\n",
    "delete = False\n",
    "names = eligible_name.copy()\n",
    "for name in names:\n",
    "    if name == \"ego_social/gplus_100466178325794757407\" or name == \"ego_social/facebook_0\":\n",
    "        delete = True\n",
    "    if delete:\n",
    "        eligible_name.remove(name)\n",
    "    if name == \"ego_social/gplus_118379821279745746467\" or name == \"ego_social/facebook_3437\":\n",
    "        delete = False"
   ]
  },
  {
   "cell_type": "code",
   "execution_count": 294,
   "id": "0fc5a9f9",
   "metadata": {},
   "outputs": [],
   "source": [
    "with open(\"../Data/Social/fname.list\",\"wb\") as f:\n",
    "    pickle.dump(eligible_name,f)"
   ]
  },
  {
   "cell_type": "code",
   "execution_count": 19,
   "id": "1020f06e",
   "metadata": {},
   "outputs": [],
   "source": [
    "#Download networks we selected\n",
    "#Print potenitial edge weight(if any) for follow-up analysis\n",
    "graphs = {}\n",
    "for f in eligible_name:\n",
    "    try:\n",
    "        g = gt.collection.ns[f]\n",
    "        \n",
    "        \n",
    "        name = f.split(\"/\")\n",
    "        fname = f.replace(\"/\",\"\")\n",
    "        g.save(\"./Data/Social/\" +fname +\".xml.gz\")\n",
    "        if \"Weighted\" in response[name[0]]['tags']:\n",
    "            graphs[f] = [k for k in g.ep.keys()]\n",
    "        else:\n",
    "            graphs[f] = None\n",
    "    except Exception as e:\n",
    "        print(e)\n",
    "        print(f,\" failed! Next try.\")\n",
    "        ;"
   ]
  },
  {
   "cell_type": "code",
   "execution_count": 20,
   "id": "66c802bf",
   "metadata": {},
   "outputs": [
    {
     "data": {
      "text/plain": [
       "{'advogato': ['weight'],\n",
       " 'anybeat': None,\n",
       " 'bitcoin_alpha': ['rating', 'time'],\n",
       " 'bitcoin_trust': ['rating', 'time'],\n",
       " 'ego_social/facebook_combined': None,\n",
       " 'ego_social/gplus_100129275726588145876': None,\n",
       " 'ego_social/gplus_100329698645326486178': None,\n",
       " 'elec': None,\n",
       " 'facebook_friends': None,\n",
       " 'facebook_organizations/S1': None,\n",
       " 'facebook_organizations/S2': None,\n",
       " 'facebook_organizations/M1': None,\n",
       " 'facebook_organizations/M2': None,\n",
       " 'facebook_organizations/L1': None,\n",
       " 'facebook_organizations/L2': None,\n",
       " 'fediverse': None,\n",
       " 'inploid': None,\n",
       " 'qa_user/mathoverflow_c2q': None,\n",
       " 'qa_user/mathoverflow_c2a': None}"
      ]
     },
     "execution_count": 20,
     "metadata": {},
     "output_type": "execute_result"
    }
   ],
   "source": [
    "graphs"
   ]
  },
  {
   "cell_type": "code",
   "execution_count": null,
   "id": "950a7ced",
   "metadata": {},
   "outputs": [],
   "source": []
  },
  {
   "cell_type": "markdown",
   "id": "c0321f67",
   "metadata": {},
   "source": [
    "## Economic"
   ]
  },
  {
   "cell_type": "code",
   "execution_count": 39,
   "id": "3d5259b6",
   "metadata": {},
   "outputs": [],
   "source": [
    "MIN = 50\n",
    "MAX = 20000\n",
    "eligible_type = [\"Economic\"]"
   ]
  },
  {
   "cell_type": "code",
   "execution_count": 40,
   "id": "6e42c889",
   "metadata": {},
   "outputs": [],
   "source": [
    "eligible_name = []\n",
    "for name in net_names:\n",
    "    if len(response[name]['nets']) == 1:\n",
    "        if eligible_network(response,name):\n",
    "            eligible_name.append(name)\n",
    "    else:\n",
    "        for net in response[name]['nets']:\n",
    "            if eligible_network(response,name,net):\n",
    "                eligible_name.append(name+'/'+net)"
   ]
  },
  {
   "cell_type": "code",
   "execution_count": 42,
   "id": "41b48edd",
   "metadata": {},
   "outputs": [],
   "source": [
    "#product space is a projection network from a bipartite network so we also remove this network\n",
    "delete = False\n",
    "names = eligible_name.copy()\n",
    "for name in names:\n",
    "    if name in [\"faculty_hiring_us/domain_applied_sciences\",\"faculty_hiring_us/domain_social_sciences\",\"product_space/HS\"]:\n",
    "        delete = True\n",
    "    if delete:\n",
    "        eligible_name.remove(name)\n",
    "    if name in [\"faculty_hiring_us/domain_medicine_and_health\",\"faculty_hiring_us/field_veterinary_medical_sciences\",'product_space/SITC']:\n",
    "        delete = False\n",
    "    "
   ]
  },
  {
   "cell_type": "code",
   "execution_count": 268,
   "id": "828f2c6a",
   "metadata": {},
   "outputs": [],
   "source": [
    "with open(\"./Data/Economic/fname.list\",\"wb\") as f:\n",
    "    pickle.dump(eligible_name,f)"
   ]
  },
  {
   "cell_type": "code",
   "execution_count": 43,
   "id": "4b398015",
   "metadata": {},
   "outputs": [],
   "source": [
    "graphs = {}\n",
    "for f in eligible_name:\n",
    "    try:\n",
    "        g = gt.collection.ns[f]\n",
    "        \n",
    "        \n",
    "        name = f.split(\"/\")\n",
    "        fname = f.replace(\"/\",\"\")\n",
    "        g.save(\"./Data/Economic/\" +fname +\".xml.gz\")\n",
    "        if \"Weighted\" in response[name[0]]['tags']:\n",
    "            graphs[f] = [k for k in g.ep.keys()]\n",
    "        else:\n",
    "            graphs[f] = None\n",
    "    except Exception as e:\n",
    "        print(e)\n",
    "        print(f,\" failed! Next try.\")\n",
    "        ;"
   ]
  },
  {
   "cell_type": "code",
   "execution_count": 44,
   "id": "fe0118f7",
   "metadata": {},
   "outputs": [
    {
     "name": "stdout",
     "output_type": "stream",
     "text": [
      "{'faculty_hiring/computer_science': ['rank', 'gender'], 'faculty_hiring/business': ['rank', 'gender'], 'faculty_hiring/history': ['rank', 'gender'], 'faculty_hiring_us/academia': ['total', 'men', 'women'], 'faculty_hiring_us/domain_natural_sciences': ['total', 'men', 'women'], 'un_migrations': ['migration_1990_total', 'migration_1990_male', 'migration_1990_female', 'migration_1995_total', 'migration_1995_male', 'migration_1995_female', 'migration_2000_total', 'migration_2000_male', 'migration_2000_female', 'migration_2005_total', 'migration_2005_male', 'migration_2005_female', 'migration_2010_total', 'migration_2010_male', 'migration_2010_female', 'migration_2015_total', 'migration_2015_male', 'migration_2015_female']}\n"
     ]
    }
   ],
   "source": [
    "print(graphs)"
   ]
  },
  {
   "cell_type": "markdown",
   "id": "d9087bc9",
   "metadata": {},
   "source": [
    "## Technological"
   ]
  },
  {
   "cell_type": "code",
   "execution_count": 55,
   "id": "213970b7",
   "metadata": {},
   "outputs": [
    {
     "data": {
      "text/plain": [
       "776"
      ]
     },
     "execution_count": 55,
     "metadata": {},
     "output_type": "execute_result"
    }
   ],
   "source": [
    "eligible_type = [\"Technological\"]\n",
    "eligible_name = []\n",
    "for name in net_names:\n",
    "    if len(response[name]['nets']) == 1:\n",
    "        if eligible_network(response,name):\n",
    "            eligible_name.append(name)\n",
    "    else:\n",
    "        for net in response[name]['nets']:\n",
    "            if eligible_network(response,name,net):\n",
    "                eligible_name.append(name+'/'+net)\n",
    "len(eligible_name)"
   ]
  },
  {
   "cell_type": "code",
   "execution_count": 57,
   "id": "cbbd9975",
   "metadata": {},
   "outputs": [],
   "source": [
    "delete = False\n",
    "names = eligible_name.copy()\n",
    "for name in names:\n",
    "    if name in [\"caida_as/20050704\",'gnutella/06','route_views/19971109',\"software_dependencies/jung-j\"]:\n",
    "        delete = True\n",
    "    if delete:\n",
    "        eligible_name.remove(name)\n",
    "    if name in [\"caida_as/20040105\",'gnutella/09',\"route_views/20000102\",\"software_dependencies/junit\"]:\n",
    "        delete = False\n",
    "    "
   ]
  },
  {
   "cell_type": "code",
   "execution_count": 273,
   "id": "c1d144f7",
   "metadata": {},
   "outputs": [],
   "source": [
    "with open(\"./Data/Technological/fname.list\",\"wb\") as f:\n",
    "    pickle.dump(eligible_name,f)"
   ]
  },
  {
   "cell_type": "code",
   "execution_count": 274,
   "id": "f4c0d36d",
   "metadata": {},
   "outputs": [],
   "source": [
    "graphs = {}\n",
    "for f in eligible_name:\n",
    "    try:\n",
    "        g = gt.collection.ns[f]\n",
    "        \n",
    "        \n",
    "        name = f.split(\"/\")\n",
    "        fname = f.replace(\"/\",\"\")\n",
    "        g.save(\"./Data/Technological/\" +fname +\".xml.gz\")\n",
    "        if \"Weighted\" in response[name[0]]['tags']:\n",
    "            graphs[f] = [k for k in g.ep.keys()]\n",
    "        else:\n",
    "            graphs[f] = None\n",
    "    except Exception as e:\n",
    "        print(e)\n",
    "        print(f,\" failed! Next try.\")\n",
    "        ;"
   ]
  },
  {
   "cell_type": "code",
   "execution_count": 275,
   "id": "427064c9",
   "metadata": {},
   "outputs": [
    {
     "data": {
      "text/plain": [
       "{'caida_as/20070917': None,\n",
       " 'gnutella/04': None,\n",
       " 'jung': None,\n",
       " 'power': None,\n",
       " 'route_views/19971108': None,\n",
       " 'software_dependencies/jdk': None}"
      ]
     },
     "execution_count": 275,
     "metadata": {},
     "output_type": "execute_result"
    }
   ],
   "source": [
    "graphs"
   ]
  },
  {
   "cell_type": "markdown",
   "id": "ba3b8291",
   "metadata": {},
   "source": [
    "## Biological"
   ]
  },
  {
   "cell_type": "code",
   "execution_count": null,
   "id": "f321f071",
   "metadata": {},
   "outputs": [],
   "source": []
  },
  {
   "cell_type": "code",
   "execution_count": 59,
   "id": "81c2c66e",
   "metadata": {},
   "outputs": [
    {
     "data": {
      "text/plain": [
       "25"
      ]
     },
     "execution_count": 59,
     "metadata": {},
     "output_type": "execute_result"
    }
   ],
   "source": [
    "eligible_type = [\"Biological\"]\n",
    "eligible_name = []\n",
    "for name in net_names:\n",
    "    if len(response[name]['nets']) == 1:\n",
    "        if eligible_network(response,name):\n",
    "            eligible_name.append(name)\n",
    "    else:\n",
    "        for net in response[name]['nets']:\n",
    "            if eligible_network(response,name,net):\n",
    "                eligible_name.append(name+'/'+net)\n",
    "                break;\n",
    "len(eligible_name)"
   ]
  },
  {
   "cell_type": "code",
   "execution_count": 277,
   "id": "535a8dae",
   "metadata": {},
   "outputs": [],
   "source": [
    "with open(\"./Data/Biological/fname.list\",\"wb\") as f:\n",
    "    pickle.dump(eligible_name,f)"
   ]
  },
  {
   "cell_type": "code",
   "execution_count": 278,
   "id": "7ed3c744",
   "metadata": {},
   "outputs": [],
   "source": [
    "graphs = {}\n",
    "for f in eligible_name:\n",
    "    try:\n",
    "        g = gt.collection.ns[f]\n",
    "        \n",
    "        \n",
    "        name = f.split(\"/\")\n",
    "        fname = f.replace(\"/\",\"\")\n",
    "        g.save(\"./Data/Biological/\" +fname +\".xml.gz\")\n",
    "        if \"Weighted\" in response[name[0]]['tags']:\n",
    "            graphs[f] = [k for k in g.ep.keys()]\n",
    "        else:\n",
    "            graphs[f] = None\n",
    "    except Exception as e:\n",
    "        print(e)\n",
    "        print(f,\" failed! Next try.\")\n",
    "        ;"
   ]
  },
  {
   "cell_type": "code",
   "execution_count": 279,
   "id": "72b1f2ff",
   "metadata": {},
   "outputs": [
    {
     "data": {
      "text/plain": [
       "{'blumenau_drug': ['tau',\n",
       "  'severity',\n",
       "  'weight',\n",
       "  'color',\n",
       "  'gender',\n",
       "  'patients_norm',\n",
       "  'RRI^F',\n",
       "  'patients',\n",
       "  'tau_norm',\n",
       "  'RRI^M'],\n",
       " 'budapest_connectome/all_20k': ['fiber_count_mean',\n",
       "  'fiber_length_mean',\n",
       "  'fractional_anisotropy_mean',\n",
       "  'electrical_connectivity_median',\n",
       "  'fiber_count_median',\n",
       "  'fiber_length_median',\n",
       "  'fractional_anisotropy_median',\n",
       "  'occurences'],\n",
       " 'celegans_2019/male_chemical': ['connectivity'],\n",
       " 'celegans_interactomes/wi2007': None,\n",
       " 'celegans_metabolic': None,\n",
       " 'celegansneural': ['value'],\n",
       " 'cintestinalis': ['depth'],\n",
       " 'collins_yeast': None,\n",
       " 'ecoli_transcription/v1.0': None,\n",
       " 'foodweb_baywet': ['weight'],\n",
       " 'foodweb_little_rock': None,\n",
       " 'fresh_webs/AkatoreA': None,\n",
       " 'fullerene_structures/C1500': None,\n",
       " 'human_brains/BNU1_0025864_1_DTI_AAL': None,\n",
       " 'interactome_figeys': None,\n",
       " 'interactome_pdz': None,\n",
       " 'interactome_stelzl': None,\n",
       " 'interactome_vidal': None,\n",
       " 'interactome_yeast': None,\n",
       " 'kegg_metabolic/aae': None,\n",
       " 'messal_shale': ['certainty', 'references', 'evidence'],\n",
       " 'reactome': None,\n",
       " 'tree-of-life/394': None,\n",
       " 'yeast_transcription': None}"
      ]
     },
     "execution_count": 279,
     "metadata": {},
     "output_type": "execute_result"
    }
   ],
   "source": [
    "graphs"
   ]
  },
  {
   "cell_type": "markdown",
   "id": "8aa829c1",
   "metadata": {},
   "source": [
    "## Informational"
   ]
  },
  {
   "cell_type": "code",
   "execution_count": 280,
   "id": "00566caf",
   "metadata": {},
   "outputs": [
    {
     "data": {
      "text/plain": [
       "11"
      ]
     },
     "execution_count": 280,
     "metadata": {},
     "output_type": "execute_result"
    }
   ],
   "source": [
    "eligible_type = [\"Informational\"]\n",
    "eligible_name = []\n",
    "for name in net_names:\n",
    "    if len(response[name]['nets']) == 1:\n",
    "        if eligible_network(response,name):\n",
    "            eligible_name.append(name)\n",
    "    else:\n",
    "        for net in response[name]['nets']:\n",
    "            if eligible_network(response,name,net):\n",
    "                eligible_name.append(name+'/'+net)\n",
    "                break;\n",
    "len(eligible_name)"
   ]
  },
  {
   "cell_type": "code",
   "execution_count": 282,
   "id": "8f45d6e5",
   "metadata": {},
   "outputs": [],
   "source": [
    "with open(\"./Data/Informational/fname.list\",\"wb\") as f:\n",
    "    pickle.dump(eligible_name,f)"
   ]
  },
  {
   "cell_type": "code",
   "execution_count": 283,
   "id": "67876fb8",
   "metadata": {},
   "outputs": [],
   "source": [
    "graphs = {}\n",
    "for f in eligible_name:\n",
    "    try:\n",
    "        g = gt.collection.ns[f]\n",
    "        \n",
    "        \n",
    "        name = f.split(\"/\")\n",
    "        fname = f.replace(\"/\",\"\")\n",
    "        g.save(\"./Data/Informational/\" +fname +\".xml.gz\")\n",
    "        if \"Weighted\" in response[name[0]]['tags']:\n",
    "            graphs[f] = [k for k in g.ep.keys()]\n",
    "        else:\n",
    "            graphs[f] = None\n",
    "    except Exception as e:\n",
    "        print(e)\n",
    "        print(f,\" failed! Next try.\")\n",
    "        ;"
   ]
  },
  {
   "cell_type": "code",
   "execution_count": 284,
   "id": "e672c8f6",
   "metadata": {},
   "outputs": [
    {
     "data": {
      "text/plain": [
       "{'adjnoun': None,\n",
       " 'bible_nouns': ['weight'],\n",
       " 'dblp_cite': None,\n",
       " 'foldoc': ['weight'],\n",
       " 'google': None,\n",
       " 'polblogs': None,\n",
       " 'polbooks': None,\n",
       " 'webkb/webkb_wisconsin_link1': ['weight'],\n",
       " 'wiki_science': None,\n",
       " 'wikipedia_link/as': None,\n",
       " 'word_adjacency/darwin': None}"
      ]
     },
     "execution_count": 284,
     "metadata": {},
     "output_type": "execute_result"
    }
   ],
   "source": [
    "graphs"
   ]
  },
  {
   "cell_type": "code",
   "execution_count": 77,
   "id": "5a3890f5",
   "metadata": {},
   "outputs": [],
   "source": [
    "f = \"wikipedia_link/as\"\n",
    "g = gt.collection.ns[f]\n",
    "fname = f.replace(\"/\",\"\")\n",
    "g.save(\"./Data/Informational/\" +fname +\".xml.gz\")"
   ]
  },
  {
   "cell_type": "markdown",
   "id": "b00946d6",
   "metadata": {},
   "source": [
    "# Fit Community Detection Model\n",
    "* For all networks collected from previous step, preprocess networks first\n",
    "\n",
    "* Fit all five community detection methods to these networks\n",
    "\n",
    "* Some methods fail in some networks due to convergence issue\n",
    "\n",
    "* Store all partition results as a dictionary with method name as key and corresponding partition result as value. Results are stored in dataname.par for one dataset\n",
    "\n",
    "* Examples of fitting models are shown in Tutorial.ipynb"
   ]
  },
  {
   "cell_type": "code",
   "execution_count": null,
   "id": "9fb17c1e",
   "metadata": {},
   "outputs": [],
   "source": [
    "from preprocess import preprocess\n",
    "from Converter import *"
   ]
  },
  {
   "cell_type": "code",
   "execution_count": null,
   "id": "6042864f",
   "metadata": {},
   "outputs": [],
   "source": []
  },
  {
   "cell_type": "markdown",
   "id": "2c5255bb",
   "metadata": {},
   "source": [
    "# Classify Community Structure Types"
   ]
  },
  {
   "cell_type": "code",
   "execution_count": 2,
   "id": "98e87880",
   "metadata": {},
   "outputs": [],
   "source": []
  },
  {
   "cell_type": "markdown",
   "id": "192a609e",
   "metadata": {},
   "source": [
    "## Social & Online"
   ]
  },
  {
   "cell_type": "code",
   "execution_count": 3,
   "id": "c6710a82",
   "metadata": {},
   "outputs": [],
   "source": [
    "df = pd.DataFrame({'Name': [],'vp_name':[],'ep_name':[],'Directed': [], 'N': [], 'E':[],\n",
    "                   'Community Size-SBM':[],'Community Size-SBM_DC':[],'Community Size-Louvain':[],\n",
    "                   'Community Size-Infomap':[],'Community Size-Spectral':[],'Community Size-DNGR':[],\n",
    "                   'Community Eligible Size-SBM':[],'Community Eligible Size-SBM_DC':[],'Community Eligible Size-Louvain':[],\n",
    "                   'Community Eligible Size-Infomap':[],'Community Eligible Size-Spectral':[],'Community Eligible Size-DNGR':[],\n",
    "                   'Description Length-SBM':[],'Description Length-SBM_DC':[],'Description Length-Louvain':[],\n",
    "                   'Description Length-Infomap':[],'Description Length-Spectral':[],'Description Length-DNGR':[],\n",
    "                   'Modularity-SBM':[],'Modularity-SBM_DC':[],'Modularity-Louvain':[],\n",
    "                   'Modularity-Infomap':[],'Modularity-Spectral':[],'Modularity-DNGR':[],\n",
    "                   'Interaction Fraction-SBM':[],'Interaction Fraction-SBM_DC':[],'Interaction Fraction-Louvain':[],\n",
    "                   'Interaction Fraction-Infomap':[],'Interaction Fraction-Spectral':[],'Interaction Fraction-DNGR':[],\n",
    "                   'Interaction Fraction All-SBM':[],'Interaction Fraction All-SBM_DC':[],'Interaction Fraction All-Louvain':[],\n",
    "                   'Interaction Fraction All-Infomap':[],'Interaction Fraction All-Spectral':[],'Interaction Fraction All-DNGR':[]})\n",
    "df = df.astype('object')\n",
    "df.to_csv('./Outputs/Social/statistics.csv',index = False)"
   ]
  },
  {
   "cell_type": "code",
   "execution_count": 4,
   "id": "6ebeba6b",
   "metadata": {},
   "outputs": [
    {
     "name": "stdout",
     "output_type": "stream",
     "text": [
      "CPU times: user 5h 54min 57s, sys: 4h 55min 21s, total: 10h 50min 19s\n",
      "Wall time: 10h 52min 19s\n"
     ]
    }
   ],
   "source": [
    "%%time\n",
    "df = SS.stats(df,\"Social\",\"facebook_friends\", vp_name = \"title\",ep_name = None)\n",
    "df = SS.stats(df,\"Social\",\"ego_socialgplus_100329698645326486178\", vp_name = \"title\",ep_name = None)\n",
    "df = SS.stats(df,\"Social\",\"facebook_organizationsL1\", vp_name = \"title\",ep_name = None)\n",
    "df = SS.stats(df,\"Social\",\"facebook_organizationsM1\", vp_name = \"title\",ep_name = None)\n",
    "df = SS.stats(df,\"Social\",\"facebook_organizationsM2\", vp_name = \"title\",ep_name = None)\n",
    "df = SS.stats(df,\"Social\",\"facebook_organizationsS1\", vp_name = \"title\",ep_name = None)\n",
    "df = SS.stats(df,\"Social\",\"facebook_organizationsS2\", vp_name = \"title\",ep_name = None)\n",
    "df = SS.stats(df,\"Social\",\"facebook_organizationsL2\", vp_name = \"title\",ep_name = None)\n",
    "#fediverse does not have spectral partition\n",
    "# df = SS.stats(df,\"Social\",\"fediverse\", vp_name = \"title\",ep_name = None,has_sbm = True,has_sbm_dc = True,has_louvain = True,has_info = True,has_spec=True)\n",
    "df = SS.stats(df,\"Social\",\"anybeat\", vp_name = \"title\",ep_name = None,reverse_dir = True)\n",
    "df = SS.stats(df,\"Social\",\"qa_usermathoverflow_c2a\", vp_name = \"title\",ep_name = None)\n",
    "df = SS.stats(df,\"Social\",\"inploid\", vp_name = \"title\",ep_name = None)\n",
    "\n",
    "df.to_csv('./Outputs/Social/statistics.csv',index = False)\n"
   ]
  },
  {
   "cell_type": "markdown",
   "id": "f8eb6383",
   "metadata": {},
   "source": [
    "## Economic"
   ]
  },
  {
   "cell_type": "code",
   "execution_count": 6,
   "id": "2c7cb73a",
   "metadata": {},
   "outputs": [],
   "source": [
    "df = pd.DataFrame({'Name': [],'vp_name':[],'ep_name':[],'Directed': [], 'N': [], 'E':[],\n",
    "                   'Community Size-SBM':[],'Community Size-SBM_DC':[],'Community Size-Louvain':[],\n",
    "                   'Community Size-Infomap':[],'Community Size-Spectral':[],'Community Size-DNGR':[],\n",
    "                   'Community Eligible Size-SBM':[],'Community Eligible Size-SBM_DC':[],'Community Eligible Size-Louvain':[],\n",
    "                   'Community Eligible Size-Infomap':[],'Community Eligible Size-Spectral':[],'Community Eligible Size-DNGR':[],\n",
    "                   'Description Length-SBM':[],'Description Length-SBM_DC':[],'Description Length-Louvain':[],\n",
    "                   'Description Length-Infomap':[],'Description Length-Spectral':[],'Description Length-DNGR':[],\n",
    "                   'Modularity-SBM':[],'Modularity-SBM_DC':[],'Modularity-Louvain':[],\n",
    "                   'Modularity-Infomap':[],'Modularity-Spectral':[],'Modularity-DNGR':[],\n",
    "                   'Interaction Fraction-SBM':[],'Interaction Fraction-SBM_DC':[],'Interaction Fraction-Louvain':[],\n",
    "                   'Interaction Fraction-Infomap':[],'Interaction Fraction-Spectral':[],'Interaction Fraction-DNGR':[],\n",
    "                   'Interaction Fraction All-SBM':[],'Interaction Fraction All-SBM_DC':[],'Interaction Fraction All-Louvain':[],\n",
    "                   'Interaction Fraction All-Infomap':[],'Interaction Fraction All-Spectral':[],'Interaction Fraction All-DNGR':[]})\n",
    "df = df.astype('object')\n",
    "df.to_csv('./Outputs/Economic/statistics.csv',index = False)"
   ]
  },
  {
   "cell_type": "code",
   "execution_count": 7,
   "id": "c4074011",
   "metadata": {},
   "outputs": [
    {
     "name": "stdout",
     "output_type": "stream",
     "text": [
      "CPU times: user 12.6 s, sys: 1.56 s, total: 14.2 s\n",
      "Wall time: 14.2 s\n"
     ]
    }
   ],
   "source": [
    "%%time\n",
    "#faculty_hiring_usacademia does not have spectral partition\n",
    "# df = SS.stats(df,\"Economic\",\"faculty_hiring_usacademia\", vp_name = \"title\",ep_name = \"total\",has_sbm = True,has_sbm_dc = True,has_louvain = True,has_info = True,has_spec=True)\n",
    "df = SS.stats(df,\"Economic\",\"faculty_hiring_usdomain_natural_sciences\", vp_name = \"title\",ep_name = \"total\")\n",
    "df = SS.stats(df,\"Economic\",\"faculty_hiringbusiness\", vp_name = \"title\",ep_name = None)\n",
    "df = SS.stats(df,\"Economic\",\"faculty_hiringcomputer_science\", vp_name = \"title\",ep_name = None)\n",
    "df = SS.stats(df,\"Economic\",\"faculty_hiringhistory\", vp_name = \"title\",ep_name = None)\n",
    "df = SS.stats(df,\"Economic\",\"un_migrations\", vp_name = \"title\",ep_name = \"migration_2015_total\")\n",
    "df.to_csv('./Outputs/Economic/statistics.csv',index = False)\n",
    "\n"
   ]
  },
  {
   "cell_type": "markdown",
   "id": "f9f7c6b1",
   "metadata": {},
   "source": [
    "## Technological"
   ]
  },
  {
   "cell_type": "code",
   "execution_count": 9,
   "id": "1e12295d",
   "metadata": {},
   "outputs": [],
   "source": [
    "df = pd.DataFrame({'Name': [],'vp_name':[],'ep_name':[],'Directed': [], 'N': [], 'E':[],\n",
    "                   'Community Size-SBM':[],'Community Size-SBM_DC':[],'Community Size-Louvain':[],\n",
    "                   'Community Size-Infomap':[],'Community Size-Spectral':[],'Community Size-DNGR':[],\n",
    "                   'Community Eligible Size-SBM':[],'Community Eligible Size-SBM_DC':[],'Community Eligible Size-Louvain':[],\n",
    "                   'Community Eligible Size-Infomap':[],'Community Eligible Size-Spectral':[],'Community Eligible Size-DNGR':[],\n",
    "                   'Description Length-SBM':[],'Description Length-SBM_DC':[],'Description Length-Louvain':[],\n",
    "                   'Description Length-Infomap':[],'Description Length-Spectral':[],'Description Length-DNGR':[],\n",
    "                   'Modularity-SBM':[],'Modularity-SBM_DC':[],'Modularity-Louvain':[],\n",
    "                   'Modularity-Infomap':[],'Modularity-Spectral':[],'Modularity-DNGR':[],\n",
    "                   'Interaction Fraction-SBM':[],'Interaction Fraction-SBM_DC':[],'Interaction Fraction-Louvain':[],\n",
    "                   'Interaction Fraction-Infomap':[],'Interaction Fraction-Spectral':[],'Interaction Fraction-DNGR':[],\n",
    "                   'Interaction Fraction All-SBM':[],'Interaction Fraction All-SBM_DC':[],'Interaction Fraction All-Louvain':[],\n",
    "                   'Interaction Fraction All-Infomap':[],'Interaction Fraction All-Spectral':[],'Interaction Fraction All-DNGR':[]})\n",
    "df = df.astype('object')\n",
    "df.to_csv('./Outputs/Technological/statistics.csv',index = False)"
   ]
  },
  {
   "cell_type": "code",
   "execution_count": 10,
   "id": "da15339c",
   "metadata": {},
   "outputs": [
    {
     "name": "stdout",
     "output_type": "stream",
     "text": [
      "CPU times: user 1h 14min 12s, sys: 43min 18s, total: 1h 57min 31s\n",
      "Wall time: 1h 58min 30s\n"
     ]
    }
   ],
   "source": [
    "%%time\n",
    "df = SS.stats(df,\"Technological\",\"caida_as20070917\", vp_name = \"title\",ep_name = None,reverse_dir = True)\n",
    "df = SS.stats(df,\"Technological\",\"gnutella04\", vp_name = \"title\",ep_name = None,reverse_dir = True)\n",
    "df = SS.stats(df,\"Technological\",\"jung\", vp_name = \"title\",ep_name = None,reverse_dir = True)\n",
    "df = SS.stats(df,\"Technological\",\"power\", vp_name = \"title\",ep_name = None)\n",
    "df = SS.stats(df,\"Technological\",\"route_views19971108\", vp_name = \"title\",ep_name = None)\n",
    "df = SS.stats(df,\"Technological\",\"software_dependenciesjdk\", vp_name = \"title\",ep_name = None,reverse_dir = True)\n",
    "\n",
    "df.to_csv('./Outputs/Technological/statistics.csv',index = False)\n",
    "\n"
   ]
  },
  {
   "cell_type": "code",
   "execution_count": null,
   "id": "975f9d29",
   "metadata": {},
   "outputs": [],
   "source": []
  },
  {
   "cell_type": "markdown",
   "id": "ea1cba95",
   "metadata": {},
   "source": [
    "## Biological"
   ]
  },
  {
   "cell_type": "code",
   "execution_count": 12,
   "id": "e5cbfcdd",
   "metadata": {},
   "outputs": [],
   "source": [
    "df = pd.DataFrame({'Name': [],'vp_name':[],'ep_name':[],'Directed': [], 'N': [], 'E':[],\n",
    "                   'Community Size-SBM':[],'Community Size-SBM_DC':[],'Community Size-Louvain':[],\n",
    "                   'Community Size-Infomap':[],'Community Size-Spectral':[],'Community Size-DNGR':[],\n",
    "                   'Community Eligible Size-SBM':[],'Community Eligible Size-SBM_DC':[],'Community Eligible Size-Louvain':[],\n",
    "                   'Community Eligible Size-Infomap':[],'Community Eligible Size-Spectral':[],'Community Eligible Size-DNGR':[],\n",
    "                   'Description Length-SBM':[],'Description Length-SBM_DC':[],'Description Length-Louvain':[],\n",
    "                   'Description Length-Infomap':[],'Description Length-Spectral':[],'Description Length-DNGR':[],\n",
    "                   'Modularity-SBM':[],'Modularity-SBM_DC':[],'Modularity-Louvain':[],\n",
    "                   'Modularity-Infomap':[],'Modularity-Spectral':[],'Modularity-DNGR':[],\n",
    "                   'Interaction Fraction-SBM':[],'Interaction Fraction-SBM_DC':[],'Interaction Fraction-Louvain':[],\n",
    "                   'Interaction Fraction-Infomap':[],'Interaction Fraction-Spectral':[],'Interaction Fraction-DNGR':[],\n",
    "                   'Interaction Fraction All-SBM':[],'Interaction Fraction All-SBM_DC':[],'Interaction Fraction All-Louvain':[],\n",
    "                   'Interaction Fraction All-Infomap':[],'Interaction Fraction All-Spectral':[],'Interaction Fraction All-DNGR':[]})\n",
    "df = df.astype('object')\n",
    "df.to_csv('./Outputs/Biological/statistics.csv',index = False)"
   ]
  },
  {
   "cell_type": "code",
   "execution_count": 14,
   "id": "f7f6aad8",
   "metadata": {},
   "outputs": [
    {
     "name": "stdout",
     "output_type": "stream",
     "text": [
      "CPU times: user 1min 16s, sys: 27.7 s, total: 1min 43s\n",
      "Wall time: 1min 44s\n"
     ]
    }
   ],
   "source": [
    "%%time\n",
    "df = SS.stats(df,\"Biological\",\"blumenau_drug\", vp_name = \"title\",ep_name = 'weight')\n",
    "df = SS.stats(df,\"Biological\",\"celegans_metabolic\", vp_name = \"title\",ep_name = None)\n",
    "df = SS.stats(df,\"Biological\",\"celegansneural\", vp_name = \"title\",ep_name = \"value\")\n",
    "df = SS.stats(df,\"Biological\",\"cintestinalis\", vp_name = \"title\",ep_name = \"depth\")\n",
    "df = SS.stats(df,\"Biological\",\"foodweb_little_rock\", vp_name = \"title\",ep_name = None)\n",
    "df = SS.stats(df,\"Biological\",\"fresh_websAkatoreA\", vp_name = \"title\",ep_name = None)\n",
    "df = SS.stats(df,\"Biological\",\"fullerene_structuresC1500\", vp_name = \"title\",ep_name = None)\n",
    "df = SS.stats(df,\"Biological\",\"human_brainsBNU1_0025864_1_DTI_AAL\", vp_name = \"title\",ep_name = None)\n",
    "df = SS.stats(df,\"Biological\",\"interactome_figeys\", vp_name = \"title\",reverse_dir = True,ep_name = None)\n",
    "df = SS.stats(df,\"Biological\",\"interactome_pdz\", vp_name = \"title\",ep_name = None)\n",
    "df = SS.stats(df,\"Biological\",\"interactome_stelzl\", vp_name = \"title\",reverse_dir = True,ep_name = None)\n",
    "df = SS.stats(df,\"Biological\",\"messal_shale\", vp_name = \"title\",reverse_dir = True,ep_name = None)\n",
    "df = SS.stats(df,\"Biological\",\"yeast_transcription\", vp_name = \"title\",ep_name = None)\n",
    "\n",
    "df = SS.stats(df,\"Biological\",\"ecoli_transcriptionv1.0\", vp_name = \"title\",ep_name = None)\n",
    "\n",
    "df = SS.stats(df,\"Biological\",\"budapest_connectomeall_20k\", vp_name = \"title\",ep_name = None)\n",
    "df = SS.stats(df,\"Biological\",\"celegans_2019male_chemical\", vp_name = \"title\",ep_name = \"connectivity\")\n",
    "df = SS.stats(df,\"Biological\",\"celegans_interactomeswi2007\", vp_name = \"title\",ep_name = None)\n",
    "df = SS.stats(df,\"Biological\",\"collins_yeast\", vp_name = \"title\",ep_name = None)\n",
    "df = SS.stats(df,\"Biological\",\"interactome_vidal\", vp_name = \"title\",ep_name = None)\n",
    "df = SS.stats(df,\"Biological\",\"interactome_yeast\", vp_name = \"title\",ep_name = None)\n",
    "df = SS.stats(df,\"Biological\",\"kegg_metabolicaae\", vp_name = \"title\",ep_name = None)\n",
    "df = SS.stats(df,\"Biological\",\"tree-of-life394\", vp_name = \"title\",ep_name = None)\n",
    "\n",
    "\n",
    "df.to_csv('./Outputs/Biological/statistics.csv',index = False)"
   ]
  },
  {
   "cell_type": "markdown",
   "id": "83b15de7",
   "metadata": {},
   "source": [
    "## Informational"
   ]
  },
  {
   "cell_type": "code",
   "execution_count": 16,
   "id": "3fcd8249",
   "metadata": {},
   "outputs": [],
   "source": [
    "df = pd.DataFrame({'Name': [],'vp_name':[],'ep_name':[],'Directed': [], 'N': [], 'E':[],\n",
    "                   'Community Size-SBM':[],'Community Size-SBM_DC':[],'Community Size-Louvain':[],\n",
    "                   'Community Size-Infomap':[],'Community Size-Spectral':[],'Community Size-DNGR':[],\n",
    "                   'Community Eligible Size-SBM':[],'Community Eligible Size-SBM_DC':[],'Community Eligible Size-Louvain':[],\n",
    "                   'Community Eligible Size-Infomap':[],'Community Eligible Size-Spectral':[],'Community Eligible Size-DNGR':[],\n",
    "                   'Description Length-SBM':[],'Description Length-SBM_DC':[],'Description Length-Louvain':[],\n",
    "                   'Description Length-Infomap':[],'Description Length-Spectral':[],'Description Length-DNGR':[],\n",
    "                   'Modularity-SBM':[],'Modularity-SBM_DC':[],'Modularity-Louvain':[],\n",
    "                   'Modularity-Infomap':[],'Modularity-Spectral':[],'Modularity-DNGR':[],\n",
    "                   'Interaction Fraction-SBM':[],'Interaction Fraction-SBM_DC':[],'Interaction Fraction-Louvain':[],\n",
    "                   'Interaction Fraction-Infomap':[],'Interaction Fraction-Spectral':[],'Interaction Fraction-DNGR':[],\n",
    "                   'Interaction Fraction All-SBM':[],'Interaction Fraction All-SBM_DC':[],'Interaction Fraction All-Louvain':[],\n",
    "                   'Interaction Fraction All-Infomap':[],'Interaction Fraction All-Spectral':[],'Interaction Fraction All-DNGR':[]})\n",
    "df = df.astype('object')\n",
    "df.to_csv('./Outputs/Informational/statistics.csv',index = False)"
   ]
  },
  {
   "cell_type": "code",
   "execution_count": 17,
   "id": "962e7299",
   "metadata": {},
   "outputs": [
    {
     "name": "stdout",
     "output_type": "stream",
     "text": [
      "CPU times: user 1h 54min 39s, sys: 1h 33min 26s, total: 3h 28min 6s\n",
      "Wall time: 3h 29min 36s\n"
     ]
    }
   ],
   "source": [
    "%%time\n",
    "df = SS.stats(df,\"Informational\",\"adjnoun\", vp_name = \"title\",ep_name = None)\n",
    "df = SS.stats(df,\"Informational\",\"polblogs\", vp_name = \"title\",ep_name = None,reverse_dir = True)\n",
    "df = SS.stats(df,\"Informational\",\"polbooks\", vp_name = \"title\",ep_name = None)\n",
    "df = SS.stats(df,\"Informational\",\"webkbwebkb_wisconsin_link1\", vp_name = \"title\",ep_name = 'weight')\n",
    "df = SS.stats(df,\"Informational\",\"wiki_science\", vp_name = \"title\",ep_name = None)\n",
    "df = SS.stats(df,\"Informational\",\"word_adjacencydarwin\", vp_name = \"title\",ep_name = None)\n",
    "df = SS.stats(df,\"Informational\",\"bible_nouns\", vp_name = \"title\",ep_name = 'weight')\n",
    "#google does not have spectral partition\n",
    "# df = SS.stats(df,\"Informational\",\"google\", vp_name = \"title\",ep_name = None,has_sbm = True,has_sbm_dc = True,has_louvain = True,has_info = True,has_spec=True)\n",
    "df = SS.stats(df,\"Informational\",\"dblp_cite\", vp_name = \"title\",ep_name = None,reverse_dir = True)\n",
    "\n",
    "\n",
    "\n",
    "\n",
    "\n",
    "df.to_csv('./Outputs/Informational/statistics.csv',index = False)"
   ]
  },
  {
   "cell_type": "markdown",
   "id": "a7f8de8c",
   "metadata": {},
   "source": [
    "## Overall statistics\n",
    "\n",
    "We combine all networks from above 5 categories and save in one file \"statistics_all.csv\""
   ]
  },
  {
   "cell_type": "code",
   "execution_count": 65,
   "id": "fbb4c1c6",
   "metadata": {},
   "outputs": [],
   "source": [
    "df = pd.read_csv('./Outputs/statistics_all.csv')"
   ]
  },
  {
   "cell_type": "code",
   "execution_count": 20,
   "id": "c6acd175",
   "metadata": {},
   "outputs": [
    {
     "data": {
      "text/plain": [
       "(array([34.,  6.,  3.,  3.,  1.,  1.,  3.,  1.,  0.]),\n",
       " array([    0.,  2000.,  4000.,  6000.,  8000., 10000., 12000., 14000.,\n",
       "        16000., 18000.]),\n",
       " <BarContainer object of 9 artists>)"
      ]
     },
     "execution_count": 20,
     "metadata": {},
     "output_type": "execute_result"
    },
    {
     "data": {
      "image/png": "[encoded data removed]",
      "text/plain": [
       "<Figure size 432x288 with 1 Axes>"
      ]
     },
     "metadata": {
      "needs_background": "light"
     },
     "output_type": "display_data"
    }
   ],
   "source": [
    "#Network size\n",
    "plt.hist(df['N'],bins = range(0,20000,2000))"
   ]
  },
  {
   "cell_type": "code",
   "execution_count": 160,
   "id": "168b66ef",
   "metadata": {},
   "outputs": [
    {
     "data": {
      "text/plain": [
       "Text(0.5, 1.0, 'Overall: N vs number of communities')"
      ]
     },
     "execution_count": 160,
     "metadata": {},
     "output_type": "execute_result"
    },
    {
     "data": {
      "image/png": "[encoded data removed]",
      "text/plain": [
       "<Figure size 432x288 with 1 Axes>"
      ]
     },
     "metadata": {
      "needs_background": "light"
     },
     "output_type": "display_data"
    }
   ],
   "source": [
    "plt.plot(df['N'],df['Community Size-SBM_DC'],\"o\")\n",
    "plt.plot(df['N'],df['Community Size-Louvain'],\"*\")\n",
    "plt.plot(df['N'],df['Community Size-Infomap'],\"+\")\n",
    "plt.plot(df['N'],df['Community Size-Spectral'],\".\")\n",
    "plt.xscale('log')\n",
    "plt.yscale('log')\n",
    "plt.gca().legend((\"SBM\",\"Louvain\",\"Infomap\",'Spectral'))\n",
    "plt.title(\"Overall: N vs number of communities\")"
   ]
  },
  {
   "cell_type": "code",
   "execution_count": 67,
   "id": "4624dba5",
   "metadata": {},
   "outputs": [
    {
     "name": "stdout",
     "output_type": "stream",
     "text": [
      "==========================================\n",
      "SBM_DC  Summary:\n",
      "Among all  50  networks,  SBM_DC  finds  92.0 % networks have non-assortative communities.\n",
      "Among all  50  networks,  SBM_DC  finds  68.0 % networks have communities with new structures.\n",
      "\n",
      "For networks with non-assortative community structure, \n",
      "   * 84.0 % has core-periphery structure.\n",
      "   * 54.0 % has disassortative structure.\n",
      "   * 80.77 % has source-basin structure.\n",
      "\n",
      "Overall, the most common interaction type is  Assortative  with fraction  80.0 %\n",
      "==========================================\n",
      "==========================================\n",
      "Louvain  Summary:\n",
      "Among all  52  networks,  Louvain  finds  11.54 % networks have non-assortative communities.\n",
      "Among all  52  networks,  Louvain  finds  5.77 % networks have communities with new structures.\n",
      "\n",
      "For networks with non-assortative community structure, \n",
      "   * 7.69 % has core-periphery structure.\n",
      "   * 1.92 % has disassortative structure.\n",
      "   * 7.69 % has source-basin structure.\n",
      "\n",
      "Overall, the most common interaction type is  Assortative  with fraction  98.08 %\n",
      "==========================================\n",
      "==========================================\n",
      "Infomap  Summary:\n",
      "Among all  50  networks,  Infomap  finds  28.0 % networks have non-assortative communities.\n",
      "Among all  50  networks,  Infomap  finds  16.0 % networks have communities with new structures.\n",
      "\n",
      "For networks with non-assortative community structure, \n",
      "   * 24.0 % has core-periphery structure.\n",
      "   * 2.0 % has disassortative structure.\n",
      "   * 26.92 % has source-basin structure.\n",
      "\n",
      "Overall, the most common interaction type is  Assortative  with fraction  100.0 %\n",
      "==========================================\n",
      "==========================================\n",
      "Spectral  Summary:\n",
      "Among all  45  networks,  Spectral  finds  26.67 % networks have non-assortative communities.\n",
      "Among all  45  networks,  Spectral  finds  15.56 % networks have communities with new structures.\n",
      "\n",
      "For networks with non-assortative community structure, \n",
      "   * 15.56 % has core-periphery structure.\n",
      "   * 0.0 % has disassortative structure.\n",
      "   * 26.92 % has source-basin structure.\n",
      "\n",
      "Overall, the most common interaction type is  Assortative  with fraction  100.0 %\n",
      "==========================================\n",
      "==========================================\n",
      "DNGR  Summary:\n",
      "Among all  52  networks,  DNGR  finds  65.38 % networks have non-assortative communities.\n",
      "Among all  52  networks,  DNGR  finds  51.92 % networks have communities with new structures.\n",
      "\n",
      "For networks with non-assortative community structure, \n",
      "   * 65.38 % has core-periphery structure.\n",
      "   * 19.23 % has disassortative structure.\n",
      "   * 92.31 % has source-basin structure.\n",
      "\n",
      "Overall, the most common interaction type is  Assortative  with fraction  69.23 %\n",
      "==========================================\n"
     ]
    }
   ],
   "source": [
    "irow = df.index.values.tolist() \n",
    "sbm_types = SS.summary(df,'SBM_DC',irow)\n",
    "lou_types = SS.summary(df,'Louvain',irow)\n",
    "info_types = SS.summary(df,'Infomap',irow)\n",
    "spec_types = SS.summary(df,'Spectral',irow)\n",
    "dngr_types = SS.summary(df,'DNGR',irow)"
   ]
  },
  {
   "cell_type": "markdown",
   "id": "3ae73014",
   "metadata": {},
   "source": [
    "## Dominant community structure type detected by each method"
   ]
  },
  {
   "cell_type": "code",
   "execution_count": 26,
   "id": "62d178fc",
   "metadata": {},
   "outputs": [],
   "source": [
    "N_di = []\n",
    "N_di.append(sum(1 for i in irow if df.at[i,'Directed'] and df.at[i,'Community Eligible Size-SBM_DC']>1))\n",
    "N_di.append(sum(1 for i in irow if df.at[i,'Directed'] and df.at[i,'Community Eligible Size-Louvain']>1))\n",
    "N_di.append(sum(1 for i in irow if df.at[i,'Directed'] and df.at[i,'Community Eligible Size-Infomap']>1))\n",
    "N_di.append(sum(1 for i in irow if df.at[i,'Directed'] and df.at[i,'Community Eligible Size-Spectral']>1))\n",
    "N_di.append(sum(1 for i in irow if df.at[i,'Directed'] and df.at[i,'Community Eligible Size-DNGR']>1))\n",
    "N_all = []\n",
    "N_all.append(sum(1 for i in irow if df.at[i,'Community Eligible Size-SBM_DC']>1))\n",
    "N_all.append(sum(1 for i in irow if df.at[i,'Community Eligible Size-Louvain']>1))\n",
    "N_all.append(sum(1 for i in irow if df.at[i,'Community Eligible Size-Infomap']>1))\n",
    "N_all.append(sum(1 for i in irow if df.at[i,'Community Eligible Size-Spectral']>1))\n",
    "N_all.append(sum(1 for i in irow if df.at[i,'Community Eligible Size-DNGR']>1))"
   ]
  },
  {
   "cell_type": "code",
   "execution_count": 27,
   "id": "19537713",
   "metadata": {},
   "outputs": [],
   "source": [
    "values = []\n",
    "labels = [\"Assortative\",\"Core-Periphery\",\"Disassortative\",\"Source-Basin\"]\n",
    "\n",
    "counter = Counter(sbm_types)\n",
    "counts = [counter[k]/N_all[0] if k in counter.keys() else 0 for k in labels]\n",
    "counts[3] = counts[3]*N_all[0]/N_di[0]\n",
    "values.append(counts)\n",
    "\n",
    "\n",
    "counter = Counter(lou_types)\n",
    "counts = [counter[k]/N_all[1] if k in counter.keys() else 0 for k in labels ]\n",
    "counts[3] = counts[3]*N_all[1]/N_di[1]\n",
    "values.append(counts)\n",
    "\n",
    "counter = Counter(info_types)\n",
    "counts = [counter[k]/N_all[2] if k in counter.keys() else 0 for k in labels ]\n",
    "counts[3] = counts[3]*N_all[2]/N_di[2]\n",
    "values.append(counts)\n",
    "\n",
    "\n",
    "counter = Counter(spec_types)\n",
    "counts = [counter[k]/N_all[3] if k in counter.keys() else 0 for k in labels ]\n",
    "counts[3] = counts[3]*N_all[3]/N_di[3]\n",
    "values.append(counts)\n",
    "\n",
    "counter = Counter(dngr_types)\n",
    "counts = [counter[k]/N_all[4] if k in counter.keys() else 0 for k in labels ]\n",
    "counts[3] = counts[3]*N_all[4]/N_di[4]\n",
    "values.append(counts)"
   ]
  },
  {
   "cell_type": "code",
   "execution_count": 28,
   "id": "eaf8d91b",
   "metadata": {},
   "outputs": [],
   "source": [
    "with open(\"./Outputs/Case/null_frac.list\",\"rb\") as f:\n",
    "     _,null_dom_frac= pickle.load(f)"
   ]
  },
  {
   "cell_type": "code",
   "execution_count": 30,
   "id": "913178ac",
   "metadata": {},
   "outputs": [
    {
     "data": {
      "image/png": "[encoded data removed]",
      "text/plain": [
       "<Figure size 936x432 with 1 Axes>"
      ]
     },
     "metadata": {
      "needs_background": "light"
     },
     "output_type": "display_data"
    }
   ],
   "source": [
    "plt.figure(figsize=(13,6))\n",
    "X = [\"Assortative\",\"Core-Periphery\",\"Disassortative\",\"Source-Basin\"]\n",
    "x_axis = np.arange(len(X))\n",
    "plt.bar(x_axis-0.32, values[0],width = 0.16,alpha = 0.5)\n",
    "plt.bar(x_axis-0.16, values[1],width = 0.16,alpha = 0.5)\n",
    "plt.bar(x_axis, values[2],width = 0.16,alpha = 0.5)\n",
    "plt.bar(x_axis+0.16, values[3],width = 0.16,alpha = 0.5)\n",
    "plt.bar(x_axis+0.32, values[4],width = 0.16,alpha = 0.5)\n",
    "\n",
    "plt.errorbar(x_axis-0.32,np.mean(null_dom_frac['SBM_DC'],axis = 1),yerr=np.std(null_dom_frac['SBM_DC'],axis = 1),fmt='o',elinewidth=3,color = colors[0],capsize = 10)\n",
    "plt.errorbar(x_axis-0.16,np.mean(null_dom_frac['Louvain'],axis = 1),yerr=np.std(null_dom_frac['Louvain'],axis = 1),fmt='o',elinewidth=3,color = colors[1],capsize = 10)\n",
    "plt.errorbar(x_axis,np.mean(null_dom_frac['Infomap'],axis = 1),yerr=np.std(null_dom_frac['Infomap'],axis = 1),fmt='o',elinewidth=3,color = colors[2],capsize = 10)\n",
    "plt.errorbar(x_axis+0.16,np.mean(null_dom_frac[\"Spectral\"],axis = 1),yerr=np.std(null_dom_frac[\"Spectral\"],axis = 1),fmt='o',elinewidth=3,color = colors[3],capsize = 10)\n",
    "plt.errorbar(x_axis+0.32,np.mean(null_dom_frac[\"DNGR\"],axis = 1),yerr=np.std(null_dom_frac[\"DNGR\"],axis = 1),fmt='o',elinewidth=3,color = colors[4],capsize = 10)\n",
    "\n",
    "\n",
    "\n",
    "plt.xticks(x_axis, X)\n",
    "# plt.gca().legend((\"SBM\",\"Louvain\",\"Infomap\",\"Spectral\",\"DNGR\"))\n",
    "plt.ylabel('Fraction')\n",
    "# plt.grid(axis='y', alpha=0.75)\n",
    "# plt.axis('off')\n",
    "\n",
    "plt.show()"
   ]
  },
  {
   "cell_type": "markdown",
   "id": "52eacf66",
   "metadata": {},
   "source": [
    "## Propotional Occurrence TYPE "
   ]
  },
  {
   "cell_type": "code",
   "execution_count": 31,
   "id": "4849d126",
   "metadata": {},
   "outputs": [],
   "source": [
    "sbm_occ_frac_types = {\"Assortative\":[],\"Core-Periphery\":[],\"Disassortative\":[],\"Source-Basin\":[]}\n",
    "lou_occ_frac_types = {\"Assortative\":[],\"Core-Periphery\":[],\"Disassortative\":[],\"Source-Basin\":[]}\n",
    "info_occ_frac_types = {\"Assortative\":[],\"Core-Periphery\":[],\"Disassortative\":[],\"Source-Basin\":[]}\n",
    "spec_occ_frac_types = {\"Assortative\":[],\"Core-Periphery\":[],\"Disassortative\":[],\"Source-Basin\":[]}#for each method: SBM_DC, Louvain, Infomap, Spectral\n",
    "dngr_occ_frac_types = {\"Assortative\":[],\"Core-Periphery\":[],\"Disassortative\":[],\"Source-Basin\":[]}#for each method: SBM_DC, Louvain, Infomap, Spectral\n",
    "\n",
    "\n",
    "for i in irow:\n",
    "    method = 'SBM_DC'\n",
    "    col_name = 'Interaction Fraction-'+method\n",
    "    if df.at[i,'Community Eligible Size-'+method] > 1:\n",
    "        types = ast.literal_eval(df.at[i,col_name])\n",
    "        for key in types.keys():\n",
    "            sbm_occ_frac_types[key].append(types[key])\n",
    "            \n",
    "    method = 'Louvain'\n",
    "    col_name = 'Interaction Fraction-'+method\n",
    "    if df.at[i,'Community Eligible Size-'+method] > 1:\n",
    "        types = ast.literal_eval(df.at[i,col_name])\n",
    "        for key in types.keys():\n",
    "            lou_occ_frac_types[key].append(types[key])\n",
    "            \n",
    "    method = 'Infomap'\n",
    "    col_name = 'Interaction Fraction-'+method\n",
    "    if df.at[i,'Community Eligible Size-'+method] > 1:\n",
    "        types = ast.literal_eval(df.at[i,col_name])\n",
    "        for key in types.keys():\n",
    "            info_occ_frac_types[key].append(types[key])\n",
    "    \n",
    "    method = 'Spectral'\n",
    "    col_name = 'Interaction Fraction-'+method\n",
    "    if df.at[i,'Community Eligible Size-'+method] > 1:\n",
    "        types = ast.literal_eval(df.at[i,col_name])\n",
    "        for key in types.keys():\n",
    "            spec_occ_frac_types[key].append(types[key])\n",
    "    \n",
    "    method = 'DNGR'\n",
    "    col_name = 'Interaction Fraction-'+method\n",
    "    if df.at[i,'Community Eligible Size-'+method] > 1:\n",
    "        types = ast.literal_eval(df.at[i,col_name])\n",
    "        for key in types.keys():\n",
    "            dngr_occ_frac_types[key].append(types[key])\n",
    "\n",
    "values = []\n",
    "labels = [\"Assortative\",\"Core-Periphery\",\"Disassortative\",\"Source-Basin\"]\n",
    "\n",
    "\n",
    "counts = [sum(sbm_occ_frac_types[k])/N_all[0] for k in labels]\n",
    "counts[3] = counts[3]*N_all[0]/N_di[0]\n",
    "values.append(counts)\n",
    "\n",
    "\n",
    "counts = [sum(lou_occ_frac_types[k])/N_all[1] for k in labels]\n",
    "counts[3] = counts[3]*N_all[1]/N_di[1]\n",
    "values.append(counts)\n",
    "\n",
    "counts = [sum(info_occ_frac_types[k])/N_all[2] for k in labels]\n",
    "counts[3] = counts[3]*N_all[2]/N_di[2]\n",
    "values.append(counts)\n",
    "\n",
    "\n",
    "counts = [sum(spec_occ_frac_types[k])/N_all[3] for k in labels]\n",
    "counts[3] = counts[3]*N_all[3]/N_di[3]\n",
    "values.append(counts)\n",
    " \n",
    "counts = [sum(dngr_occ_frac_types[k])/N_all[4] for k in labels]\n",
    "counts[3] = counts[3]*N_all[4]/N_di[4]\n",
    "values.append(counts)"
   ]
  },
  {
   "cell_type": "code",
   "execution_count": 32,
   "id": "d78aeecf",
   "metadata": {},
   "outputs": [
    {
     "data": {
      "image/png": "[encoded data removed]",
      "text/plain": [
       "<Figure size 936x432 with 1 Axes>"
      ]
     },
     "metadata": {
      "needs_background": "light"
     },
     "output_type": "display_data"
    }
   ],
   "source": [
    "plt.figure(figsize=(13,6))\n",
    "X = ['Assortative','Core-Periphery',\"Disassortative\",\"Source-Basin\"]\n",
    "x_axis = np.arange(len(X))\n",
    "plt.bar(x_axis-0.32, values[0],width = 0.16,alpha = 0.5)\n",
    "plt.bar(x_axis-0.16, values[1],width = 0.16,alpha = 0.5)\n",
    "plt.bar(x_axis, values[2],width = 0.16,alpha = 0.5)\n",
    "plt.bar(x_axis+0.16, values[3],width = 0.16,alpha = 0.5)\n",
    "plt.bar(x_axis+0.32, values[4],width = 0.16,alpha = 0.5)\n",
    "\n",
    "\n",
    "plt.xticks(x_axis, X)\n",
    "# plt.gca().legend((\"SBM\",\"Louvain\",\"Infomap\",\"Spectral\",\"DNGR\"))\n",
    "plt.ylabel('Proportional Occurrence')\n",
    "plt.show()"
   ]
  },
  {
   "cell_type": "markdown",
   "id": "e0d86abb",
   "metadata": {},
   "source": [
    "## Occurring TYPE"
   ]
  },
  {
   "cell_type": "code",
   "execution_count": 33,
   "id": "caf507eb",
   "metadata": {},
   "outputs": [],
   "source": [
    "sbm_occ_types,lou_occ_types,info_occ_types,spec_occ_types,dngr_occ_types = [],[],[],[],[] #for each method: SBM_DC, Louvain, Infomap, Spectral\n",
    "\n",
    "for i in irow:\n",
    "    method = 'SBM_DC'\n",
    "    col_name = 'Interaction Fraction-'+method\n",
    "    if df.at[i,'Community Eligible Size-'+method] > 1:\n",
    "        sbm_occ_types.extend([key for key in ast.literal_eval(df.at[i,col_name]).keys()])\n",
    "            \n",
    "    method = 'Louvain'\n",
    "    col_name = 'Interaction Fraction-'+method\n",
    "    if df.at[i,'Community Eligible Size-'+method] > 1:\n",
    "        lou_occ_types.extend([key for key in ast.literal_eval(df.at[i,col_name]).keys()])\n",
    "            \n",
    "    method = 'Infomap'\n",
    "    col_name = 'Interaction Fraction-'+method\n",
    "    if df.at[i,'Community Eligible Size-'+method] > 1:\n",
    "        info_occ_types.extend([key for key in ast.literal_eval(df.at[i,col_name]).keys()])\n",
    "            \n",
    "    method = 'Spectral'\n",
    "    col_name = 'Interaction Fraction-'+method\n",
    "    if df.at[i,'Community Eligible Size-'+method] > 1:\n",
    "        spec_occ_types.extend([key for key in ast.literal_eval(df.at[i,col_name]).keys()])\n",
    "        \n",
    "    method = 'DNGR'\n",
    "    col_name = 'Interaction Fraction-'+method\n",
    "    if df.at[i,'Community Eligible Size-'+method] > 1:\n",
    "        dngr_occ_types.extend([key for key in ast.literal_eval(df.at[i,col_name]).keys()])\n",
    "\n",
    "values = []\n",
    "labels = [\"Assortative\",\"Core-Periphery\",\"Disassortative\",\"Source-Basin\"]\n",
    "\n",
    "counter = Counter(sbm_occ_types)\n",
    "counts = [counter[k]/N_all[0] if k in counter.keys() else 0 for k in labels]\n",
    "counts[3] = counts[3]*N_all[0]/N_di[0]\n",
    "values.append(counts)\n",
    "\n",
    "\n",
    "counter = Counter(lou_occ_types)\n",
    "counts = [counter[k]/N_all[1] if k in counter.keys() else 0 for k in labels ]\n",
    "counts[3] = counts[3]*N_all[1]/N_di[1]\n",
    "values.append(counts)\n",
    "\n",
    "counter = Counter(info_occ_types)\n",
    "counts = [counter[k]/N_all[2] if k in counter.keys() else 0 for k in labels ]\n",
    "counts[3] = counts[3]*N_all[2]/N_di[2]\n",
    "values.append(counts)\n",
    "\n",
    "\n",
    "counter = Counter(spec_occ_types)\n",
    "counts = [counter[k]/N_all[3] if k in counter.keys() else 0 for k in labels ]\n",
    "counts[3] = counts[3]*N_all[3]/N_di[3]\n",
    "values.append(counts)\n",
    "   \n",
    "counter = Counter(dngr_occ_types)\n",
    "counts = [counter[k]/N_all[4] if k in counter.keys() else 0 for k in labels ]\n",
    "counts[3] = counts[3]*N_all[4]/N_di[4]\n",
    "values.append(counts)"
   ]
  },
  {
   "cell_type": "code",
   "execution_count": 34,
   "id": "93bb1209",
   "metadata": {},
   "outputs": [],
   "source": [
    "with open(\"./Outputs/Case/null_frac.list\",\"rb\") as f:\n",
    "    null_occ_frac,_ = pickle.load(f)"
   ]
  },
  {
   "cell_type": "code",
   "execution_count": 35,
   "id": "0e519ba8",
   "metadata": {},
   "outputs": [
    {
     "data": {
      "image/png": "[encoded data removed]",
      "text/plain": [
       "<Figure size 936x432 with 1 Axes>"
      ]
     },
     "metadata": {
      "needs_background": "light"
     },
     "output_type": "display_data"
    }
   ],
   "source": [
    "plt.figure(figsize=(13,6))\n",
    "X = ['Assortative','Core-Periphery',\"Disassortative\",\"Source-Basin\"]\n",
    "x_axis = np.arange(len(X))\n",
    "plt.bar(x_axis-0.32, values[0],width = 0.16,alpha = 0.5)\n",
    "plt.bar(x_axis-0.16, values[1],width = 0.16,alpha = 0.5)\n",
    "plt.bar(x_axis, values[2],width = 0.16,alpha = 0.5)\n",
    "plt.bar(x_axis+0.16, values[3],width = 0.16,alpha = 0.5)\n",
    "plt.bar(x_axis+0.32, values[4],width = 0.16,alpha = 0.5)\n",
    "\n",
    "plt.errorbar(x_axis-0.32,np.mean(null_occ_frac['SBM_DC'],axis = 1),yerr=np.std(null_occ_frac['SBM_DC'],axis = 1),fmt='o',elinewidth=3,color = colors[0],capsize = 10)\n",
    "plt.errorbar(x_axis-0.16,np.mean(null_occ_frac['Louvain'],axis = 1),yerr=np.std(null_occ_frac['Louvain'],axis = 1),fmt='o',elinewidth=3,color = colors[1],capsize = 10)\n",
    "plt.errorbar(x_axis,np.mean(null_occ_frac['Infomap'],axis = 1),yerr=np.std(null_occ_frac['Infomap'],axis = 1),fmt='o',elinewidth=3,color = colors[2],capsize = 10)\n",
    "plt.errorbar(x_axis+0.16,np.mean(null_occ_frac[\"Spectral\"],axis = 1),yerr=np.std(null_occ_frac[\"Spectral\"],axis = 1),fmt='o',elinewidth=3,color = colors[3],capsize = 10)\n",
    "plt.errorbar(x_axis+0.32,np.mean(null_occ_frac[\"DNGR\"],axis = 1),yerr=np.std(null_occ_frac[\"DNGR\"],axis = 1),fmt='o',elinewidth=3,color = colors[4],capsize = 10)\n",
    "\n",
    "\n",
    "\n",
    "plt.xticks(x_axis, X)\n",
    "# plt.gca().legend((\"SBM_DC\",\"Louvain\",\"Infomap\",\"Spectral\"))\n",
    "plt.ylabel('Occurrence')\n",
    "plt.show()"
   ]
  },
  {
   "cell_type": "markdown",
   "id": "099e05de",
   "metadata": {},
   "source": [
    "## Non-Assortative Fraction of Each Category"
   ]
  },
  {
   "cell_type": "code",
   "execution_count": 70,
   "id": "8e37ad8b",
   "metadata": {},
   "outputs": [],
   "source": [
    "def non_Ass_prop(df,irow,method,category):\n",
    "    col_name = 'Interaction Fraction-'+method\n",
    "    non_prop = []\n",
    "    N = []\n",
    "    B = []\n",
    "    for i in irow:\n",
    "        if df.at[i,'Category'] == category:\n",
    "            if type(ast.literal_eval(df.at[i,col_name])) == dict:\n",
    "                value = ast.literal_eval(df.at[i,col_name])\n",
    "                if \"Assortative\" in value.keys():\n",
    "                    non_prop.append(1-value['Assortative'])\n",
    "                    \n",
    "                else:\n",
    "                    non_prop.append(1)\n",
    "                dom = max(value, key=value.get)\n",
    "#                 if dom != \"Assortative\":\n",
    "#                     print(method,df.at[i,'Community Eligible Size-'+method],dom,non_prop[-1])\n",
    "#                 else:\n",
    "#                     if non_prop[-1] >0.5:\n",
    "#                         print(method,df.at[i,'Community Eligible Size-'+method],non_prop[-1])\n",
    "            else:\n",
    "                non_prop.append(-1)\n",
    "            B.append(df.at[i,'Community Eligible Size-'+method])\n",
    "            N.append(df.at[i,'N'])\n",
    "    return B,N,non_prop;\n",
    "\n",
    "\n",
    "def single_structure_prop(df,irow,method,category,structure):\n",
    "    col_name = 'Interaction Fraction-'+method\n",
    "    non_prop = []\n",
    "    N = []\n",
    "    for i in irow:\n",
    "        if df.at[i,'Category'] == category:\n",
    "            if type(ast.literal_eval(df.at[i,col_name])) == dict:\n",
    "                value = ast.literal_eval(df.at[i,col_name])\n",
    "                if structure in value.keys():\n",
    "                    non_prop.append(value[structure])\n",
    "                else:\n",
    "                    non_prop.append(0)\n",
    "            else:\n",
    "                non_prop.append(-1)\n",
    "#             N.append(df.at[i,'Community Eligible Size-'+method])\n",
    "            N.append(df.at[i,'N'])\n",
    "    return N,non_prop;"
   ]
  },
  {
   "cell_type": "code",
   "execution_count": 10,
   "id": "9416c485",
   "metadata": {},
   "outputs": [
    {
     "data": {
      "text/plain": [
       "<matplotlib.legend.Legend at 0x15f253550>"
      ]
     },
     "execution_count": 10,
     "metadata": {},
     "output_type": "execute_result"
    },
    {
     "data": {
      "image/png": "[encoded data removed]",
      "text/plain": [
       "<Figure size 576x432 with 1 Axes>"
      ]
     },
     "metadata": {
      "needs_background": "light"
     },
     "output_type": "display_data"
    }
   ],
   "source": [
    "plt.rcParams.update({'font.size': 24})\n",
    "plt.figure(figsize=(8,6))\n",
    "_,N,non_prop = non_Ass_prop(df,irow,'SBM_DC','Social')\n",
    "plt.plot(N,non_prop,\"o\", markersize=10)\n",
    "_,N,non_prop = non_Ass_prop(df,irow,'SBM_DC','Economic')\n",
    "plt.plot(N,non_prop,\"*\", markersize=10)\n",
    "_,N,non_prop = non_Ass_prop(df,irow,'SBM_DC','Technological')\n",
    "plt.plot(N,non_prop,\"+\", markersize=10)\n",
    "_,N,non_prop = non_Ass_prop(df,irow,'SBM_DC','Biological')\n",
    "plt.plot(N,non_prop,\"x\", markersize=10)\n",
    "_,N,non_prop = non_Ass_prop(df,irow,'SBM_DC','Informational')\n",
    "plt.plot(N,non_prop,\"^\", markersize=10)\n",
    "\n",
    "plt.xscale('log')\n",
    "plt.ylim(-0.2,1.2)\n",
    "\n",
    "plt.gca().legend((\"Social\",\"Economic\",\"Technological\",'Biological','Informational'),bbox_to_anchor=(1.05, 1),\n",
    "                         loc='upper left', borderaxespad=0.)\n",
    "# plt.title(\"Overall: N vs Fraction of non-Assortative type\")"
   ]
  },
  {
   "cell_type": "code",
   "execution_count": 73,
   "id": "0b693321",
   "metadata": {},
   "outputs": [
    {
     "data": {
      "text/plain": [
       "<matplotlib.legend.Legend at 0x1753b4a90>"
      ]
     },
     "execution_count": 73,
     "metadata": {},
     "output_type": "execute_result"
    },
    {
     "data": {
      "image/png": "[encoded data removed]",
      "text/plain": [
       "<Figure size 576x432 with 1 Axes>"
      ]
     },
     "metadata": {
      "needs_background": "light"
     },
     "output_type": "display_data"
    }
   ],
   "source": [
    "plt.rcParams.update({'font.size': 24})\n",
    "plt.figure(figsize=(8,6))\n",
    "N,non_prop = [],[]\n",
    "x1,_,x3 = non_Ass_prop(df,irow,'SBM_DC','Social')\n",
    "N.extend(x1)\n",
    "non_prop.extend(x3)\n",
    "x1,_,x3 = non_Ass_prop(df,irow,'SBM_DC','Economic')\n",
    "N.extend(x1)\n",
    "non_prop.extend(x3)\n",
    "x1,_,x3 = non_Ass_prop(df,irow,'SBM_DC','Technological')\n",
    "N.extend(x1)\n",
    "non_prop.extend(x3)\n",
    "x1,_,x3 = non_Ass_prop(df,irow,'SBM_DC','Biological')\n",
    "N.extend(x1)\n",
    "non_prop.extend(x3)\n",
    "x1,_,x3 = non_Ass_prop(df,irow,'SBM_DC','Informational')\n",
    "N.extend(x1)\n",
    "non_prop.extend(x3)\n",
    "\n",
    "plt.plot(N,non_prop,\"o\", markersize=10)\n",
    "\n",
    "N,non_prop = [],[]\n",
    "x1,_,x3 = non_Ass_prop(df,irow,'Louvain','Social')\n",
    "N.extend(x1)\n",
    "non_prop.extend(x3)\n",
    "x1,_,x3 = non_Ass_prop(df,irow,'Louvain','Economic')\n",
    "N.extend(x1)\n",
    "non_prop.extend(x3)\n",
    "x1,_,x3 = non_Ass_prop(df,irow,'Louvain','Technological')\n",
    "N.extend(x1)\n",
    "non_prop.extend(x3)\n",
    "x1,_,x3 = non_Ass_prop(df,irow,'Louvain','Biological')\n",
    "N.extend(x1)\n",
    "non_prop.extend(x3)\n",
    "x1,_,x3 = non_Ass_prop(df,irow,'Louvain','Informational')\n",
    "N.extend(x1)\n",
    "non_prop.extend(x3)\n",
    "\n",
    "plt.plot(N,non_prop,\"*\", markersize=10)\n",
    "\n",
    "N,non_prop = [],[]\n",
    "x1,_,x3 = non_Ass_prop(df,irow,'Infomap','Social')\n",
    "N.extend(x1)\n",
    "non_prop.extend(x3)\n",
    "x1,_,x3 = non_Ass_prop(df,irow,'Infomap','Economic')\n",
    "N.extend(x1)\n",
    "non_prop.extend(x3)\n",
    "x1,_,x3 = non_Ass_prop(df,irow,'Infomap','Technological')\n",
    "N.extend(x1)\n",
    "non_prop.extend(x3)\n",
    "x1,_,x3 = non_Ass_prop(df,irow,'Infomap','Biological')\n",
    "N.extend(x1)\n",
    "non_prop.extend(x3)\n",
    "x1,_,x3 = non_Ass_prop(df,irow,'Infomap','Informational')\n",
    "N.extend(x1)\n",
    "non_prop.extend(x3)\n",
    "\n",
    "plt.plot(N,non_prop,\"+\", markersize=10)\n",
    "\n",
    "N,non_prop = [],[]\n",
    "x1,_,x3 = non_Ass_prop(df,irow,'Spectral','Social')\n",
    "N.extend(x1)\n",
    "non_prop.extend(x3)\n",
    "x1,_,x3 = non_Ass_prop(df,irow,'Spectral','Economic')\n",
    "N.extend(x1)\n",
    "non_prop.extend(x3)\n",
    "x1,_,x3 = non_Ass_prop(df,irow,'Spectral','Technological')\n",
    "N.extend(x1)\n",
    "non_prop.extend(x3)\n",
    "x1,_,x3 = non_Ass_prop(df,irow,'Spectral','Biological')\n",
    "N.extend(x1)\n",
    "non_prop.extend(x3)\n",
    "x1,_,x3 = non_Ass_prop(df,irow,'Spectral','Informational')\n",
    "N.extend(x1)\n",
    "non_prop.extend(x3)\n",
    "\n",
    "plt.plot(N,non_prop,\"x\", markersize=10)\n",
    "\n",
    "N,non_prop = [],[]\n",
    "x1,_,x3 = non_Ass_prop(df,irow,'DNGR','Social')\n",
    "N.extend(x1)\n",
    "non_prop.extend(x3)\n",
    "x1,_,x3 = non_Ass_prop(df,irow,'DNGR','Economic')\n",
    "N.extend(x1)\n",
    "non_prop.extend(x3)\n",
    "x1,_,x3 = non_Ass_prop(df,irow,'DNGR','Technological')\n",
    "N.extend(x1)\n",
    "non_prop.extend(x3)\n",
    "x1,_,x3 = non_Ass_prop(df,irow,'DNGR','Biological')\n",
    "N.extend(x1)\n",
    "non_prop.extend(x3)\n",
    "x1,_,x3 = non_Ass_prop(df,irow,'DNGR','Informational')\n",
    "N.extend(x1)\n",
    "non_prop.extend(x3)\n",
    "\n",
    "plt.plot(N,non_prop,\".\", markersize=10)\n",
    "\n",
    "\n",
    "plt.xscale('log')\n",
    "plt.ylim(-0.2,1.2)\n",
    "\n",
    "plt.gca().legend((\"SBM\",\"Louvain\",\"Infomap\",'Spectral','DNGR'),bbox_to_anchor=(1.05, 1),\n",
    "                         loc='upper left', borderaxespad=0.)\n",
    "# plt.title(\"Overall: N vs Fraction of non-Assortative type\")"
   ]
  },
  {
   "cell_type": "code",
   "execution_count": 15,
   "id": "6c58ab5a",
   "metadata": {},
   "outputs": [
    {
     "data": {
      "text/plain": [
       "([<matplotlib.axis.XTick at 0x167aa5640>,\n",
       "  <matplotlib.axis.XTick at 0x167aa5fa0>,\n",
       "  <matplotlib.axis.XTick at 0x167b08d30>,\n",
       "  <matplotlib.axis.XTick at 0x167b2f6d0>,\n",
       "  <matplotlib.axis.XTick at 0x167b2fe20>],\n",
       " [Text(1, 0, 'Social'),\n",
       "  Text(2, 0, 'Economic'),\n",
       "  Text(3, 0, 'Technological'),\n",
       "  Text(4, 0, 'Biological'),\n",
       "  Text(5, 0, 'Informational')])"
      ]
     },
     "execution_count": 15,
     "metadata": {},
     "output_type": "execute_result"
    },
    {
     "data": {
      "image/png": "[encoded data removed]",
      "text/plain": [
       "<Figure size 576x432 with 1 Axes>"
      ]
     },
     "metadata": {
      "needs_background": "light"
     },
     "output_type": "display_data"
    }
   ],
   "source": [
    "plt.rcParams.update({'font.size': 24})\n",
    "plt.figure(figsize=(8,6))\n",
    "data = []\n",
    "N,non_prop = non_Ass_prop(df,irow,'SBM_DC','Social')\n",
    "non_prop2 = [i for i in non_prop if i != -1]\n",
    "data.append(non_prop2)\n",
    "N,non_prop = non_Ass_prop(df,irow,'SBM_DC','Economic')\n",
    "non_prop2 = [i for i in non_prop if i != -1]\n",
    "data.append(non_prop2)\n",
    "N,non_prop = non_Ass_prop(df,irow,'SBM_DC','Technological')\n",
    "non_prop2 = [i for i in non_prop if i != -1]\n",
    "data.append(non_prop2)\n",
    "N,non_prop = non_Ass_prop(df,irow,'SBM_DC','Biological')\n",
    "non_prop2 = [i for i in non_prop if i != -1]\n",
    "data.append(non_prop2)\n",
    "N,non_prop = non_Ass_prop(df,irow,'SBM_DC','Informational')\n",
    "non_prop2 = [i for i in non_prop if i != -1]\n",
    "data.append(non_prop2)\n",
    "\n",
    "medianprops = dict(color=\"black\",linewidth=1.5)\n",
    "box = plt.boxplot(data, patch_artist=True,medianprops=medianprops)\n",
    "for patch, color in zip(box['boxes'], colors):\n",
    "    patch.set_facecolor(color)\n",
    "plt.ylim(-0.2,1.2)\n",
    "plt.xticks(range(1,6),[\"Social\",\"Economic\",\"Technological\",'Biological','Informational'])"
   ]
  },
  {
   "cell_type": "markdown",
   "id": "6eaf4f63",
   "metadata": {},
   "source": [
    "### Null Model\n",
    "\n",
    "We compare interaction fraction of empirical networks with null model:\n",
    "* create a BxB density matrix with numbers $[1,B^2]$ randomly assigned (if undirected, we do one more step: $\\omega_{ji} = \\omega_{ij}$)\n",
    "* compute BxB interaction structure matrix $U$ or $D$\n",
    "* Store result\n",
    "* repeat above steps k times\n",
    "\n",
    "For our analysis, we focus on dominant community structure (that has highest prevalence) and occuring community structure (that has non-zero prevalence)."
   ]
  },
  {
   "cell_type": "code",
   "execution_count": null,
   "id": "b8cd0f64",
   "metadata": {},
   "outputs": [],
   "source": [
    "from Null import *"
   ]
  },
  {
   "cell_type": "markdown",
   "id": "3d5bd676",
   "metadata": {},
   "source": [
    "Compare with empirical datasets\n",
    "* For each dataset, for each method: compute null model once\n",
    "* repeat above steps k times"
   ]
  },
  {
   "cell_type": "code",
   "execution_count": 171,
   "id": "d9e68d49",
   "metadata": {},
   "outputs": [
    {
     "name": "stdout",
     "output_type": "stream",
     "text": [
      "CPU times: user 7min 27s, sys: 2.08 s, total: 7min 29s\n",
      "Wall time: 7min 29s\n"
     ]
    }
   ],
   "source": [
    "%%time\n",
    "null_occ_frac = {'SBM_DC':[[],[],[],[]],'Louvain':[[],[],[],[]],'Infomap':[[],[],[],[]],\n",
    "                'Spectral':[[],[],[],[]],'DNGR':[[],[],[],[]]}#for each method #for each category\n",
    "null_dom_frac = {'SBM_DC':[[],[],[],[]],'Louvain':[[],[],[],[]],'Infomap':[[],[],[],[]],\n",
    "                'Spectral':[[],[],[],[]],'DNGR':[[],[],[],[]]}#for each method #for each category\n",
    "N_di = []\n",
    "N_di.append(sum(1 for i in irow if df.at[i,'Directed'] and df.at[i,'Community Eligible Size-SBM_DC']>1))\n",
    "N_di.append(sum(1 for i in irow if df.at[i,'Directed'] and df.at[i,'Community Eligible Size-Louvain']>1))\n",
    "N_di.append(sum(1 for i in irow if df.at[i,'Directed'] and df.at[i,'Community Eligible Size-Infomap']>1))\n",
    "N_di.append(sum(1 for i in irow if df.at[i,'Directed'] and df.at[i,'Community Eligible Size-Spectral']>1))\n",
    "N_di.append(sum(1 for i in irow if df.at[i,'Directed'] and df.at[i,'Community Eligible Size-DNGR']>1))\n",
    "N_all = []\n",
    "N_all.append(sum(1 for i in irow if df.at[i,'Community Eligible Size-SBM_DC']>1))\n",
    "N_all.append(sum(1 for i in irow if df.at[i,'Community Eligible Size-Louvain']>1))\n",
    "N_all.append(sum(1 for i in irow if df.at[i,'Community Eligible Size-Infomap']>1))\n",
    "N_all.append(sum(1 for i in irow if df.at[i,'Community Eligible Size-Spectral']>1))\n",
    "N_all.append(sum(1 for i in irow if df.at[i,'Community Eligible Size-DNGR']>1))\n",
    "\n",
    "methods = ['SBM_DC','Louvain','Infomap','Spectral','DNGR']\n",
    "for N in range(100):\n",
    "    occuring = [[],[],[],[],[]]\n",
    "    dominant = [[],[],[],[],[]]\n",
    "    \n",
    "    for i in irow:\n",
    "        directed = df.at[i,'Directed']\n",
    "        for method in methods:\n",
    "            j = methods.index(method)\n",
    "            col_name = 'Community Eligible Size-'+method\n",
    "            B = df.at[i,col_name]\n",
    "            if B >1:\n",
    "                realization = null_model(B,1,directed)\n",
    "                occ_type = get_occuring_type(realization)\n",
    "                count = Counter(occ_type)\n",
    "                for key in count.keys():\n",
    "                    occuring[j].append(key)\n",
    "                dominant[j].append(get_dominant_type(realization)[0])\n",
    "\n",
    "                   \n",
    "    for method in methods:#for each method\n",
    "        i = methods.index(method)\n",
    "        null_occ_frac[method][0].append(occuring[i].count(\"Assortative\")/N_all[i])\n",
    "        null_occ_frac[method][1].append(occuring[i].count(\"Core-Periphery\")/N_all[i])\n",
    "        null_occ_frac[method][2].append(occuring[i].count(\"Disassortative\")/N_all[i])\n",
    "        null_occ_frac[method][3].append(occuring[i].count(\"Source-Basin\")/N_di[i])\n",
    "        \n",
    "        null_dom_frac[method][0].append(dominant[i].count(\"Assortative\")/N_all[i])\n",
    "        null_dom_frac[method][1].append(dominant[i].count(\"Core-Periphery\")/N_all[i])\n",
    "        null_dom_frac[method][2].append(dominant[i].count(\"Disassortative\")/N_all[i])\n",
    "        null_dom_frac[method][3].append(dominant[i].count(\"Source-Basin\")/N_di[i])"
   ]
  },
  {
   "cell_type": "code",
   "execution_count": 172,
   "id": "fe631677",
   "metadata": {},
   "outputs": [],
   "source": [
    "with open(\"./Outputs/Case/null_frac.list\",\"wb\") as f:\n",
    "    pickle.dump([null_occ_frac,null_dom_frac],f)"
   ]
  },
  {
   "cell_type": "code",
   "execution_count": null,
   "id": "f32dd30c",
   "metadata": {},
   "outputs": [],
   "source": []
  },
  {
   "cell_type": "markdown",
   "id": "7bcf39ce",
   "metadata": {},
   "source": [
    "# Case Study\n",
    "\n",
    "We analysed two social networks to gain deeper understanding of our newly finding type: Source-Basin.\n",
    "\n",
    "One network is political blogs from a well-known paper [] and another one is constructed ourselves relating with a political debate in Twitter about bushfire in 2019/2020"
   ]
  },
  {
   "cell_type": "markdown",
   "id": "b35d332a",
   "metadata": {},
   "source": [
    "## Polblogs"
   ]
  },
  {
   "cell_type": "code",
   "execution_count": 60,
   "id": "472efe9a",
   "metadata": {},
   "outputs": [],
   "source": [
    "G_gt = gt.collection.data[\"polblogs\"] \n",
    "G_gt = preprocess(G_gt,graph_type = 'gt')\n",
    "G_nx = convert_gt_to_nx(G_gt, vp_name=\"title\",ep_name=None)"
   ]
  },
  {
   "cell_type": "code",
   "execution_count": 21,
   "id": "232e3495",
   "metadata": {},
   "outputs": [
    {
     "name": "stdout",
     "output_type": "stream",
     "text": [
      "<Graph object, directed, with 1222 vertices and 19086 edges, 5 internal vertex properties, 2 internal graph properties, at 0x167b4ea30>\n"
     ]
    }
   ],
   "source": [
    "print(G_gt)"
   ]
  },
  {
   "cell_type": "markdown",
   "id": "2916af03",
   "metadata": {},
   "source": [
    "Try SBM with number of groups specified from 2 to 14"
   ]
  },
  {
   "cell_type": "code",
   "execution_count": 46,
   "id": "5bf47026",
   "metadata": {},
   "outputs": [
    {
     "name": "stdout",
     "output_type": "stream",
     "text": [
      "CPU times: user 4min 3s, sys: 14.7 s, total: 4min 18s\n",
      "Wall time: 4min 18s\n"
     ]
    }
   ],
   "source": [
    "%%time\n",
    "SBM_B_par = {}\n",
    "ep_name = None\n",
    "for B in range(2,15):\n",
    "    sbm_par =GM.detect_community(G_gt,method = \"SBM\",ep_name = ep_name)\n",
    "    spar = SS.sort_par(sbm_par)\n",
    "    SBM_B_par['B='+str(B)] = list(map(lambda x: spar[x], sbm_par))"
   ]
  },
  {
   "cell_type": "code",
   "execution_count": 65,
   "id": "259b72c6",
   "metadata": {},
   "outputs": [],
   "source": [
    "with open(\"./Outputs/Case/polblogs_SBM_B.par\",\"wb\") as f:\n",
    "    pickle.dump(SBM_B_par,f)"
   ]
  },
  {
   "cell_type": "code",
   "execution_count": 61,
   "id": "e65b2bc9",
   "metadata": {},
   "outputs": [],
   "source": [
    "with open(\"./Outputs/Case/polblogs_SBM_B.par\",\"rb\") as f:\n",
    "    SBM_B_par = pickle.load(f)"
   ]
  },
  {
   "cell_type": "code",
   "execution_count": 23,
   "id": "d2a1291b",
   "metadata": {},
   "outputs": [],
   "source": [
    "value = [G_gt.vp['value'][v] for v in G_gt.vertices()]\n",
    "SBM_B_par['value']=value\n",
    "df = pd.DataFrame (SBM_B_par, columns = ['B=2','B=3','B=4','B=5','B=6','B=7','B=8','B=9','B=10','B=11','B=12','B=13','B=14','value','blog'])"
   ]
  },
  {
   "cell_type": "markdown",
   "id": "4a3b9777",
   "metadata": {},
   "source": [
    "node label:\n",
    "0: liberal 1:conservative"
   ]
  },
  {
   "cell_type": "markdown",
   "id": "e7e372de",
   "metadata": {},
   "source": [
    "###### B = 2"
   ]
  },
  {
   "cell_type": "code",
   "execution_count": 145,
   "id": "aa9a75c7",
   "metadata": {},
   "outputs": [
    {
     "name": "stdout",
     "output_type": "stream",
     "text": [
      "Reliable community number:  2\n",
      "sbm_dc  has prevalence: {'Assortative': 1.0}\n"
     ]
    },
    {
     "data": {
      "image/png": "[encoded data removed]",
      "text/plain": [
       "<Figure size 576x432 with 2 Axes>"
      ]
     },
     "metadata": {
      "needs_background": "light"
     },
     "output_type": "display_data"
    }
   ],
   "source": [
    "vp_name = 'title'\n",
    "d = SS.summary_case(G_gt,SBM_B_par['B=2'],'sbm_dc',node_order=[G_gt.vp[vp_name][v] for v in G_gt.vertices()],vp_name=\"title\",reverse_dir = True,fig_size=(8, 6))"
   ]
  },
  {
   "cell_type": "code",
   "execution_count": 133,
   "id": "79a67bd9",
   "metadata": {},
   "outputs": [
    {
     "data": {
      "text/html": [
       "<div>\n",
       "<style scoped>\n",
       "    .dataframe tbody tr th:only-of-type {\n",
       "        vertical-align: middle;\n",
       "    }\n",
       "\n",
       "    .dataframe tbody tr th {\n",
       "        vertical-align: top;\n",
       "    }\n",
       "\n",
       "    .dataframe thead th {\n",
       "        text-align: right;\n",
       "    }\n",
       "</style>\n",
       "<table border=\"1\" class=\"dataframe\">\n",
       "  <thead>\n",
       "    <tr style=\"text-align: right;\">\n",
       "      <th>value</th>\n",
       "      <th>0.0</th>\n",
       "      <th>1.0</th>\n",
       "    </tr>\n",
       "    <tr>\n",
       "      <th>B=2</th>\n",
       "      <th></th>\n",
       "      <th></th>\n",
       "    </tr>\n",
       "  </thead>\n",
       "  <tbody>\n",
       "    <tr>\n",
       "      <th>0</th>\n",
       "      <td>44</td>\n",
       "      <td>621</td>\n",
       "    </tr>\n",
       "    <tr>\n",
       "      <th>1</th>\n",
       "      <td>542</td>\n",
       "      <td>15</td>\n",
       "    </tr>\n",
       "  </tbody>\n",
       "</table>\n",
       "</div>"
      ],
      "text/plain": [
       "value  0.0  1.0\n",
       "B=2            \n",
       "0       44  621\n",
       "1      542   15"
      ]
     },
     "execution_count": 133,
     "metadata": {},
     "output_type": "execute_result"
    }
   ],
   "source": [
    "pd.crosstab(df['B=2'],df.value)"
   ]
  },
  {
   "cell_type": "markdown",
   "id": "4b857ea5",
   "metadata": {},
   "source": [
    "We see that community 0 has more \"1\"s(conservative) while community 1 has more \"0\"s(liberal). Also, the certainty scores are all 1 which means the community structure type is always classified as Assortative during 100 boostrapping interations."
   ]
  },
  {
   "cell_type": "code",
   "execution_count": 146,
   "id": "a3d29832",
   "metadata": {},
   "outputs": [
    {
     "name": "stdout",
     "output_type": "stream",
     "text": [
      "Reliable community number:  3\n",
      "sbm_dc  has prevalence: {'Assortative': 1.0}\n"
     ]
    },
    {
     "data": {
      "image/png": "[encoded data removed]",
      "text/plain": [
       "<Figure size 576x432 with 2 Axes>"
      ]
     },
     "metadata": {
      "needs_background": "light"
     },
     "output_type": "display_data"
    }
   ],
   "source": [
    "vp_name = 'title'\n",
    "d = SS.summary_case(G_gt,SBM_B_par['B=3'],'sbm_dc',node_order=[G_gt.vp[vp_name][v] for v in G_gt.vertices()],vp_name=\"title\",reverse_dir = True,fig_size=(8, 6))"
   ]
  },
  {
   "cell_type": "code",
   "execution_count": 51,
   "id": "ae145a54",
   "metadata": {},
   "outputs": [
    {
     "data": {
      "text/html": [
       "<div>\n",
       "<style scoped>\n",
       "    .dataframe tbody tr th:only-of-type {\n",
       "        vertical-align: middle;\n",
       "    }\n",
       "\n",
       "    .dataframe tbody tr th {\n",
       "        vertical-align: top;\n",
       "    }\n",
       "\n",
       "    .dataframe thead th {\n",
       "        text-align: right;\n",
       "    }\n",
       "</style>\n",
       "<table border=\"1\" class=\"dataframe\">\n",
       "  <thead>\n",
       "    <tr style=\"text-align: right;\">\n",
       "      <th>value</th>\n",
       "      <th>0.0</th>\n",
       "      <th>1.0</th>\n",
       "    </tr>\n",
       "    <tr>\n",
       "      <th>B=3</th>\n",
       "      <th></th>\n",
       "      <th></th>\n",
       "    </tr>\n",
       "  </thead>\n",
       "  <tbody>\n",
       "    <tr>\n",
       "      <th>0</th>\n",
       "      <td>539</td>\n",
       "      <td>15</td>\n",
       "    </tr>\n",
       "    <tr>\n",
       "      <th>1</th>\n",
       "      <td>28</td>\n",
       "      <td>339</td>\n",
       "    </tr>\n",
       "    <tr>\n",
       "      <th>2</th>\n",
       "      <td>19</td>\n",
       "      <td>282</td>\n",
       "    </tr>\n",
       "  </tbody>\n",
       "</table>\n",
       "</div>"
      ],
      "text/plain": [
       "value  0.0  1.0\n",
       "B=3            \n",
       "0      539   15\n",
       "1       28  339\n",
       "2       19  282"
      ]
     },
     "execution_count": 51,
     "metadata": {},
     "output_type": "execute_result"
    }
   ],
   "source": [
    "pd.crosstab(df['B=3'],df.value)"
   ]
  },
  {
   "cell_type": "code",
   "execution_count": null,
   "id": "6b4dbffa",
   "metadata": {},
   "outputs": [],
   "source": []
  },
  {
   "cell_type": "code",
   "execution_count": 147,
   "id": "d0abcf94",
   "metadata": {},
   "outputs": [
    {
     "name": "stdout",
     "output_type": "stream",
     "text": [
      "Reliable community number:  4\n",
      "sbm_dc  has prevalence: {'Assortative': 0.6666666666666666, 'Core-Periphery': 0.3333333333333333}\n"
     ]
    },
    {
     "data": {
      "image/png": "[encoded data removed]",
      "text/plain": [
       "<Figure size 576x432 with 2 Axes>"
      ]
     },
     "metadata": {
      "needs_background": "light"
     },
     "output_type": "display_data"
    }
   ],
   "source": [
    "d = SS.summary_case(G_gt,SBM_B_par['B=4'],'sbm_dc',node_order=[G_gt.vp[vp_name][v] for v in G_gt.vertices()],vp_name=\"title\",reverse_dir = True,fig_size=(8, 6))"
   ]
  },
  {
   "cell_type": "code",
   "execution_count": 53,
   "id": "9705ea26",
   "metadata": {},
   "outputs": [
    {
     "data": {
      "text/html": [
       "<div>\n",
       "<style scoped>\n",
       "    .dataframe tbody tr th:only-of-type {\n",
       "        vertical-align: middle;\n",
       "    }\n",
       "\n",
       "    .dataframe tbody tr th {\n",
       "        vertical-align: top;\n",
       "    }\n",
       "\n",
       "    .dataframe thead th {\n",
       "        text-align: right;\n",
       "    }\n",
       "</style>\n",
       "<table border=\"1\" class=\"dataframe\">\n",
       "  <thead>\n",
       "    <tr style=\"text-align: right;\">\n",
       "      <th>value</th>\n",
       "      <th>0.0</th>\n",
       "      <th>1.0</th>\n",
       "    </tr>\n",
       "    <tr>\n",
       "      <th>B=4</th>\n",
       "      <th></th>\n",
       "      <th></th>\n",
       "    </tr>\n",
       "  </thead>\n",
       "  <tbody>\n",
       "    <tr>\n",
       "      <th>0</th>\n",
       "      <td>541</td>\n",
       "      <td>16</td>\n",
       "    </tr>\n",
       "    <tr>\n",
       "      <th>1</th>\n",
       "      <td>5</td>\n",
       "      <td>288</td>\n",
       "    </tr>\n",
       "    <tr>\n",
       "      <th>2</th>\n",
       "      <td>19</td>\n",
       "      <td>273</td>\n",
       "    </tr>\n",
       "    <tr>\n",
       "      <th>3</th>\n",
       "      <td>21</td>\n",
       "      <td>59</td>\n",
       "    </tr>\n",
       "  </tbody>\n",
       "</table>\n",
       "</div>"
      ],
      "text/plain": [
       "value  0.0  1.0\n",
       "B=4            \n",
       "0      541   16\n",
       "1        5  288\n",
       "2       19  273\n",
       "3       21   59"
      ]
     },
     "execution_count": 53,
     "metadata": {},
     "output_type": "execute_result"
    }
   ],
   "source": [
    "pd.crosstab(df['B=4'],df.value)"
   ]
  },
  {
   "cell_type": "code",
   "execution_count": 62,
   "id": "b1492e33",
   "metadata": {},
   "outputs": [
    {
     "name": "stdout",
     "output_type": "stream",
     "text": [
      "Reliable community number:  5\n",
      "sbm_dc  has prevalence: {'Assortative': 0.7, 'Core-Periphery': 0.2, 'Source-Basin': 0.1}\n"
     ]
    },
    {
     "data": {
      "image/png": "[encoded data removed]",
      "text/plain": [
       "<Figure size 576x432 with 2 Axes>"
      ]
     },
     "metadata": {
      "needs_background": "light"
     },
     "output_type": "display_data"
    }
   ],
   "source": [
    "d = SS.summary_case(G_gt,SBM_B_par['B=5'],'sbm_dc',node_order=[G_gt.vp[vp_name][v] for v in G_gt.vertices()],vp_name=\"title\",reverse_dir = True,fig_size=(8, 6))"
   ]
  },
  {
   "cell_type": "code",
   "execution_count": 131,
   "id": "8a20b9bd",
   "metadata": {},
   "outputs": [
    {
     "data": {
      "text/plain": [
       "array([[0.01239577, 0.02923056],\n",
       "       [0.0113936 , 0.08603326]])"
      ]
     },
     "execution_count": 131,
     "metadata": {},
     "output_type": "execute_result"
    }
   ],
   "source": [
    "d[np.ix_([0,3],[0,3])]"
   ]
  },
  {
   "cell_type": "code",
   "execution_count": 28,
   "id": "ab045c66",
   "metadata": {},
   "outputs": [
    {
     "data": {
      "text/html": [
       "<div>\n",
       "<style scoped>\n",
       "    .dataframe tbody tr th:only-of-type {\n",
       "        vertical-align: middle;\n",
       "    }\n",
       "\n",
       "    .dataframe tbody tr th {\n",
       "        vertical-align: top;\n",
       "    }\n",
       "\n",
       "    .dataframe thead th {\n",
       "        text-align: right;\n",
       "    }\n",
       "</style>\n",
       "<table border=\"1\" class=\"dataframe\">\n",
       "  <thead>\n",
       "    <tr style=\"text-align: right;\">\n",
       "      <th>value</th>\n",
       "      <th>0.0</th>\n",
       "      <th>1.0</th>\n",
       "    </tr>\n",
       "    <tr>\n",
       "      <th>B=5</th>\n",
       "      <th></th>\n",
       "      <th></th>\n",
       "    </tr>\n",
       "  </thead>\n",
       "  <tbody>\n",
       "    <tr>\n",
       "      <th>0</th>\n",
       "      <td>341</td>\n",
       "      <td>13</td>\n",
       "    </tr>\n",
       "    <tr>\n",
       "      <th>1</th>\n",
       "      <td>18</td>\n",
       "      <td>273</td>\n",
       "    </tr>\n",
       "    <tr>\n",
       "      <th>2</th>\n",
       "      <td>4</td>\n",
       "      <td>287</td>\n",
       "    </tr>\n",
       "    <tr>\n",
       "      <th>3</th>\n",
       "      <td>205</td>\n",
       "      <td>5</td>\n",
       "    </tr>\n",
       "    <tr>\n",
       "      <th>4</th>\n",
       "      <td>18</td>\n",
       "      <td>58</td>\n",
       "    </tr>\n",
       "  </tbody>\n",
       "</table>\n",
       "</div>"
      ],
      "text/plain": [
       "value  0.0  1.0\n",
       "B=5            \n",
       "0      341   13\n",
       "1       18  273\n",
       "2        4  287\n",
       "3      205    5\n",
       "4       18   58"
      ]
     },
     "execution_count": 28,
     "metadata": {},
     "output_type": "execute_result"
    }
   ],
   "source": [
    "pd.crosstab(df['B=5'],df.value)"
   ]
  },
  {
   "cell_type": "code",
   "execution_count": 112,
   "id": "e3eba4a2",
   "metadata": {},
   "outputs": [
    {
     "data": {
      "text/html": [
       "<div>\n",
       "<style scoped>\n",
       "    .dataframe tbody tr th:only-of-type {\n",
       "        vertical-align: middle;\n",
       "    }\n",
       "\n",
       "    .dataframe tbody tr th {\n",
       "        vertical-align: top;\n",
       "    }\n",
       "\n",
       "    .dataframe thead th {\n",
       "        text-align: right;\n",
       "    }\n",
       "</style>\n",
       "<table border=\"1\" class=\"dataframe\">\n",
       "  <thead>\n",
       "    <tr style=\"text-align: right;\">\n",
       "      <th>B=3</th>\n",
       "      <th>0</th>\n",
       "      <th>1</th>\n",
       "      <th>2</th>\n",
       "    </tr>\n",
       "    <tr>\n",
       "      <th>B=2</th>\n",
       "      <th></th>\n",
       "      <th></th>\n",
       "      <th></th>\n",
       "    </tr>\n",
       "  </thead>\n",
       "  <tbody>\n",
       "    <tr>\n",
       "      <th>0</th>\n",
       "      <td>2</td>\n",
       "      <td>362</td>\n",
       "      <td>301</td>\n",
       "    </tr>\n",
       "    <tr>\n",
       "      <th>1</th>\n",
       "      <td>552</td>\n",
       "      <td>5</td>\n",
       "      <td>0</td>\n",
       "    </tr>\n",
       "  </tbody>\n",
       "</table>\n",
       "</div>"
      ],
      "text/plain": [
       "B=3    0    1    2\n",
       "B=2               \n",
       "0      2  362  301\n",
       "1    552    5    0"
      ]
     },
     "execution_count": 112,
     "metadata": {},
     "output_type": "execute_result"
    }
   ],
   "source": [
    "pd.crosstab(df['B=2'],df['B=3'])"
   ]
  },
  {
   "cell_type": "code",
   "execution_count": 113,
   "id": "77476fd9",
   "metadata": {},
   "outputs": [
    {
     "data": {
      "text/html": [
       "<div>\n",
       "<style scoped>\n",
       "    .dataframe tbody tr th:only-of-type {\n",
       "        vertical-align: middle;\n",
       "    }\n",
       "\n",
       "    .dataframe tbody tr th {\n",
       "        vertical-align: top;\n",
       "    }\n",
       "\n",
       "    .dataframe thead th {\n",
       "        text-align: right;\n",
       "    }\n",
       "</style>\n",
       "<table border=\"1\" class=\"dataframe\">\n",
       "  <thead>\n",
       "    <tr style=\"text-align: right;\">\n",
       "      <th>B=4</th>\n",
       "      <th>0</th>\n",
       "      <th>1</th>\n",
       "      <th>2</th>\n",
       "      <th>3</th>\n",
       "    </tr>\n",
       "    <tr>\n",
       "      <th>B=3</th>\n",
       "      <th></th>\n",
       "      <th></th>\n",
       "      <th></th>\n",
       "      <th></th>\n",
       "    </tr>\n",
       "  </thead>\n",
       "  <tbody>\n",
       "    <tr>\n",
       "      <th>0</th>\n",
       "      <td>554</td>\n",
       "      <td>0</td>\n",
       "      <td>0</td>\n",
       "      <td>0</td>\n",
       "    </tr>\n",
       "    <tr>\n",
       "      <th>1</th>\n",
       "      <td>2</td>\n",
       "      <td>280</td>\n",
       "      <td>5</td>\n",
       "      <td>80</td>\n",
       "    </tr>\n",
       "    <tr>\n",
       "      <th>2</th>\n",
       "      <td>1</td>\n",
       "      <td>13</td>\n",
       "      <td>287</td>\n",
       "      <td>0</td>\n",
       "    </tr>\n",
       "  </tbody>\n",
       "</table>\n",
       "</div>"
      ],
      "text/plain": [
       "B=4    0    1    2   3\n",
       "B=3                   \n",
       "0    554    0    0   0\n",
       "1      2  280    5  80\n",
       "2      1   13  287   0"
      ]
     },
     "execution_count": 113,
     "metadata": {},
     "output_type": "execute_result"
    }
   ],
   "source": [
    "pd.crosstab(df['B=3'],df['B=4'])"
   ]
  },
  {
   "cell_type": "code",
   "execution_count": 114,
   "id": "8158b9d5",
   "metadata": {},
   "outputs": [
    {
     "data": {
      "text/html": [
       "<div>\n",
       "<style scoped>\n",
       "    .dataframe tbody tr th:only-of-type {\n",
       "        vertical-align: middle;\n",
       "    }\n",
       "\n",
       "    .dataframe tbody tr th {\n",
       "        vertical-align: top;\n",
       "    }\n",
       "\n",
       "    .dataframe thead th {\n",
       "        text-align: right;\n",
       "    }\n",
       "</style>\n",
       "<table border=\"1\" class=\"dataframe\">\n",
       "  <thead>\n",
       "    <tr style=\"text-align: right;\">\n",
       "      <th>B=5</th>\n",
       "      <th>0</th>\n",
       "      <th>1</th>\n",
       "      <th>2</th>\n",
       "      <th>3</th>\n",
       "      <th>4</th>\n",
       "    </tr>\n",
       "    <tr>\n",
       "      <th>B=4</th>\n",
       "      <th></th>\n",
       "      <th></th>\n",
       "      <th></th>\n",
       "      <th></th>\n",
       "      <th></th>\n",
       "    </tr>\n",
       "  </thead>\n",
       "  <tbody>\n",
       "    <tr>\n",
       "      <th>0</th>\n",
       "      <td>347</td>\n",
       "      <td>0</td>\n",
       "      <td>0</td>\n",
       "      <td>210</td>\n",
       "      <td>0</td>\n",
       "    </tr>\n",
       "    <tr>\n",
       "      <th>1</th>\n",
       "      <td>3</td>\n",
       "      <td>0</td>\n",
       "      <td>290</td>\n",
       "      <td>0</td>\n",
       "      <td>0</td>\n",
       "    </tr>\n",
       "    <tr>\n",
       "      <th>2</th>\n",
       "      <td>2</td>\n",
       "      <td>290</td>\n",
       "      <td>0</td>\n",
       "      <td>0</td>\n",
       "      <td>0</td>\n",
       "    </tr>\n",
       "    <tr>\n",
       "      <th>3</th>\n",
       "      <td>2</td>\n",
       "      <td>1</td>\n",
       "      <td>1</td>\n",
       "      <td>0</td>\n",
       "      <td>76</td>\n",
       "    </tr>\n",
       "  </tbody>\n",
       "</table>\n",
       "</div>"
      ],
      "text/plain": [
       "B=5    0    1    2    3   4\n",
       "B=4                        \n",
       "0    347    0    0  210   0\n",
       "1      3    0  290    0   0\n",
       "2      2  290    0    0   0\n",
       "3      2    1    1    0  76"
      ]
     },
     "execution_count": 114,
     "metadata": {},
     "output_type": "execute_result"
    }
   ],
   "source": [
    "pd.crosstab(df['B=4'],df['B=5'])"
   ]
  },
  {
   "cell_type": "markdown",
   "id": "c86b6734",
   "metadata": {},
   "source": [
    "## Climate retweet "
   ]
  },
  {
   "cell_type": "code",
   "execution_count": 38,
   "id": "6d27dc7f",
   "metadata": {},
   "outputs": [
    {
     "name": "stdout",
     "output_type": "stream",
     "text": [
      "<Graph object, directed, with 4029 vertices and 429235 edges, 3 internal vertex properties, 1 internal edge property, at 0x174193e20>\n"
     ]
    }
   ],
   "source": [
    "G_gt = gt.load_graph(\"./Data/Case/Climate.xml.gz\")\n",
    "G_gt = preprocess(G_gt,\"./Data/Case/Climate.xml.gz\")\n",
    "G_nx = convert_gt_to_nx(G_gt, vp_name=\"title\",ep_name=None)\n",
    "print(G_gt)"
   ]
  },
  {
   "cell_type": "markdown",
   "id": "ee99a24a",
   "metadata": {},
   "source": [
    "try DC-SBM with number of groups specified from 2 to 10"
   ]
  },
  {
   "cell_type": "code",
   "execution_count": 10,
   "id": "97797c45",
   "metadata": {},
   "outputs": [
    {
     "name": "stdout",
     "output_type": "stream",
     "text": [
      "CPU times: user 2h 6min 43s, sys: 3min 35s, total: 2h 10min 19s\n",
      "Wall time: 2h 10min 19s\n"
     ]
    }
   ],
   "source": [
    "%%time\n",
    "SBM_B_par = {}\n",
    "ep_name = None\n",
    "for B in range(2,11):\n",
    "    sbm_par =detect_community(G_gt,method = \"SBM\",ep_name = ep_name)\n",
    "    spar = SS.sort_par(sbm_par)\n",
    "    SBM_B_par['B='+str(B)] = list(map(lambda x: spar[x], sbm_par))"
   ]
  },
  {
   "cell_type": "code",
   "execution_count": 11,
   "id": "b715c0e5",
   "metadata": {},
   "outputs": [],
   "source": [
    "with open(\"./Outputs/Case/Climate_SBM_B.par\",\"wb\") as f:\n",
    "    pickle.dump(SBM_B_par,f)"
   ]
  },
  {
   "cell_type": "code",
   "execution_count": 39,
   "id": "ccbe5637",
   "metadata": {},
   "outputs": [],
   "source": [
    "with open(\"./Outputs/Case/Climate_SBM_B.par\",\"rb\") as f:\n",
    "    SBM_B_par = pickle.load(f)"
   ]
  },
  {
   "cell_type": "code",
   "execution_count": 40,
   "id": "3e19755c",
   "metadata": {},
   "outputs": [],
   "source": [
    "vp_name = 'title'"
   ]
  },
  {
   "cell_type": "code",
   "execution_count": 47,
   "id": "4b98cd6e",
   "metadata": {},
   "outputs": [
    {
     "name": "stdout",
     "output_type": "stream",
     "text": [
      "Reliable community number:  2\n",
      "sbm_dc  has prevalence: {'Assortative': 1.0}\n"
     ]
    },
    {
     "data": {
      "image/png": "[encoded data removed]",
      "text/plain": [
       "<Figure size 576x432 with 2 Axes>"
      ]
     },
     "metadata": {
      "needs_background": "light"
     },
     "output_type": "display_data"
    }
   ],
   "source": [
    "d = SS.summary_case(G_gt,SBM_B_par['B=2'],'sbm_dc',node_order=[G_gt.vp[vp_name][v] for v in G_gt.vertices()],vp_name=\"title\",reverse_dir = False,fig_size=(8, 6))"
   ]
  },
  {
   "cell_type": "code",
   "execution_count": 58,
   "id": "45af7740",
   "metadata": {},
   "outputs": [
    {
     "data": {
      "text/html": [
       "<div>\n",
       "<style scoped>\n",
       "    .dataframe tbody tr th:only-of-type {\n",
       "        vertical-align: middle;\n",
       "    }\n",
       "\n",
       "    .dataframe tbody tr th {\n",
       "        vertical-align: top;\n",
       "    }\n",
       "\n",
       "    .dataframe thead th {\n",
       "        text-align: right;\n",
       "    }\n",
       "</style>\n",
       "<table border=\"1\" class=\"dataframe\">\n",
       "  <thead>\n",
       "    <tr style=\"text-align: right;\">\n",
       "      <th>arson_value</th>\n",
       "      <th>N/A</th>\n",
       "      <th>Oppose</th>\n",
       "      <th>Support</th>\n",
       "    </tr>\n",
       "    <tr>\n",
       "      <th>B=2</th>\n",
       "      <th></th>\n",
       "      <th></th>\n",
       "      <th></th>\n",
       "    </tr>\n",
       "  </thead>\n",
       "  <tbody>\n",
       "    <tr>\n",
       "      <th>0</th>\n",
       "      <td>2389</td>\n",
       "      <td>26</td>\n",
       "      <td>0</td>\n",
       "    </tr>\n",
       "    <tr>\n",
       "      <th>1</th>\n",
       "      <td>1585</td>\n",
       "      <td>4</td>\n",
       "      <td>25</td>\n",
       "    </tr>\n",
       "  </tbody>\n",
       "</table>\n",
       "</div>"
      ],
      "text/plain": [
       "arson_value   N/A  Oppose  Support\n",
       "B=2                               \n",
       "0            2389      26        0\n",
       "1            1585       4       25"
      ]
     },
     "execution_count": 58,
     "metadata": {},
     "output_type": "execute_result"
    }
   ],
   "source": [
    "pd.crosstab(df['B=2'],df.arson_value)"
   ]
  },
  {
   "cell_type": "code",
   "execution_count": 59,
   "id": "fb051af9",
   "metadata": {},
   "outputs": [
    {
     "data": {
      "text/html": [
       "<div>\n",
       "<style scoped>\n",
       "    .dataframe tbody tr th:only-of-type {\n",
       "        vertical-align: middle;\n",
       "    }\n",
       "\n",
       "    .dataframe tbody tr th {\n",
       "        vertical-align: top;\n",
       "    }\n",
       "\n",
       "    .dataframe thead th {\n",
       "        text-align: right;\n",
       "    }\n",
       "</style>\n",
       "<table border=\"1\" class=\"dataframe\">\n",
       "  <thead>\n",
       "    <tr style=\"text-align: right;\">\n",
       "      <th>climate_value</th>\n",
       "      <th>N/A</th>\n",
       "      <th>Oppose</th>\n",
       "      <th>Support</th>\n",
       "    </tr>\n",
       "    <tr>\n",
       "      <th>B=2</th>\n",
       "      <th></th>\n",
       "      <th></th>\n",
       "      <th></th>\n",
       "    </tr>\n",
       "  </thead>\n",
       "  <tbody>\n",
       "    <tr>\n",
       "      <th>0</th>\n",
       "      <td>2202</td>\n",
       "      <td>14</td>\n",
       "      <td>199</td>\n",
       "    </tr>\n",
       "    <tr>\n",
       "      <th>1</th>\n",
       "      <td>1573</td>\n",
       "      <td>25</td>\n",
       "      <td>16</td>\n",
       "    </tr>\n",
       "  </tbody>\n",
       "</table>\n",
       "</div>"
      ],
      "text/plain": [
       "climate_value   N/A  Oppose  Support\n",
       "B=2                                 \n",
       "0              2202      14      199\n",
       "1              1573      25       16"
      ]
     },
     "execution_count": 59,
     "metadata": {},
     "output_type": "execute_result"
    }
   ],
   "source": [
    "pd.crosstab(df['B=2'],df.climate_value)"
   ]
  },
  {
   "cell_type": "code",
   "execution_count": 48,
   "id": "197944c0",
   "metadata": {},
   "outputs": [
    {
     "name": "stdout",
     "output_type": "stream",
     "text": [
      "Reliable community number:  3\n",
      "sbm_dc  has prevalence: {'Assortative': 1.0}\n",
      "CPU times: user 9min 58s, sys: 6min 1s, total: 16min\n",
      "Wall time: 11min 30s\n"
     ]
    },
    {
     "data": {
      "image/png": "[encoded data removed]",
      "text/plain": [
       "<Figure size 576x432 with 2 Axes>"
      ]
     },
     "metadata": {
      "needs_background": "light"
     },
     "output_type": "display_data"
    }
   ],
   "source": [
    "%%time\n",
    "d = SS.summary_case(G_gt,SBM_B_par['B=3'],'sbm_dc',node_order=[G_gt.vp[vp_name][v] for v in G_gt.vertices()],vp_name=\"title\",reverse_dir = False,fig_size=(8, 6))"
   ]
  },
  {
   "cell_type": "code",
   "execution_count": 56,
   "id": "f2771043",
   "metadata": {},
   "outputs": [
    {
     "data": {
      "text/html": [
       "<div>\n",
       "<style scoped>\n",
       "    .dataframe tbody tr th:only-of-type {\n",
       "        vertical-align: middle;\n",
       "    }\n",
       "\n",
       "    .dataframe tbody tr th {\n",
       "        vertical-align: top;\n",
       "    }\n",
       "\n",
       "    .dataframe thead th {\n",
       "        text-align: right;\n",
       "    }\n",
       "</style>\n",
       "<table border=\"1\" class=\"dataframe\">\n",
       "  <thead>\n",
       "    <tr style=\"text-align: right;\">\n",
       "      <th>arson_value</th>\n",
       "      <th>N/A</th>\n",
       "      <th>Oppose</th>\n",
       "      <th>Support</th>\n",
       "    </tr>\n",
       "    <tr>\n",
       "      <th>B=3</th>\n",
       "      <th></th>\n",
       "      <th></th>\n",
       "      <th></th>\n",
       "    </tr>\n",
       "  </thead>\n",
       "  <tbody>\n",
       "    <tr>\n",
       "      <th>0</th>\n",
       "      <td>2389</td>\n",
       "      <td>26</td>\n",
       "      <td>0</td>\n",
       "    </tr>\n",
       "    <tr>\n",
       "      <th>1</th>\n",
       "      <td>1044</td>\n",
       "      <td>4</td>\n",
       "      <td>0</td>\n",
       "    </tr>\n",
       "    <tr>\n",
       "      <th>2</th>\n",
       "      <td>541</td>\n",
       "      <td>0</td>\n",
       "      <td>25</td>\n",
       "    </tr>\n",
       "  </tbody>\n",
       "</table>\n",
       "</div>"
      ],
      "text/plain": [
       "arson_value   N/A  Oppose  Support\n",
       "B=3                               \n",
       "0            2389      26        0\n",
       "1            1044       4        0\n",
       "2             541       0       25"
      ]
     },
     "execution_count": 56,
     "metadata": {},
     "output_type": "execute_result"
    }
   ],
   "source": [
    "pd.crosstab(df['B=3'],df.arson_value)"
   ]
  },
  {
   "cell_type": "code",
   "execution_count": 57,
   "id": "ad20be3f",
   "metadata": {},
   "outputs": [
    {
     "data": {
      "text/html": [
       "<div>\n",
       "<style scoped>\n",
       "    .dataframe tbody tr th:only-of-type {\n",
       "        vertical-align: middle;\n",
       "    }\n",
       "\n",
       "    .dataframe tbody tr th {\n",
       "        vertical-align: top;\n",
       "    }\n",
       "\n",
       "    .dataframe thead th {\n",
       "        text-align: right;\n",
       "    }\n",
       "</style>\n",
       "<table border=\"1\" class=\"dataframe\">\n",
       "  <thead>\n",
       "    <tr style=\"text-align: right;\">\n",
       "      <th>climate_value</th>\n",
       "      <th>N/A</th>\n",
       "      <th>Oppose</th>\n",
       "      <th>Support</th>\n",
       "    </tr>\n",
       "    <tr>\n",
       "      <th>B=3</th>\n",
       "      <th></th>\n",
       "      <th></th>\n",
       "      <th></th>\n",
       "    </tr>\n",
       "  </thead>\n",
       "  <tbody>\n",
       "    <tr>\n",
       "      <th>0</th>\n",
       "      <td>2200</td>\n",
       "      <td>14</td>\n",
       "      <td>201</td>\n",
       "    </tr>\n",
       "    <tr>\n",
       "      <th>1</th>\n",
       "      <td>1036</td>\n",
       "      <td>2</td>\n",
       "      <td>10</td>\n",
       "    </tr>\n",
       "    <tr>\n",
       "      <th>2</th>\n",
       "      <td>539</td>\n",
       "      <td>23</td>\n",
       "      <td>4</td>\n",
       "    </tr>\n",
       "  </tbody>\n",
       "</table>\n",
       "</div>"
      ],
      "text/plain": [
       "climate_value   N/A  Oppose  Support\n",
       "B=3                                 \n",
       "0              2200      14      201\n",
       "1              1036       2       10\n",
       "2               539      23        4"
      ]
     },
     "execution_count": 57,
     "metadata": {},
     "output_type": "execute_result"
    }
   ],
   "source": [
    "pd.crosstab(df['B=3'],df.climate_value)"
   ]
  },
  {
   "cell_type": "code",
   "execution_count": 49,
   "id": "c175b0ff",
   "metadata": {},
   "outputs": [
    {
     "name": "stdout",
     "output_type": "stream",
     "text": [
      "Reliable community number:  4\n",
      "sbm_dc  has prevalence: {'Assortative': 0.8333333333333334, 'Source-Basin': 0.16666666666666666}\n",
      "CPU times: user 9min 56s, sys: 6min 5s, total: 16min 1s\n",
      "Wall time: 11min 21s\n"
     ]
    },
    {
     "data": {
      "image/png": "[encoded data removed]",
      "text/plain": [
       "<Figure size 576x432 with 2 Axes>"
      ]
     },
     "metadata": {
      "needs_background": "light"
     },
     "output_type": "display_data"
    }
   ],
   "source": [
    "%%time\n",
    "d = SS.summary_case(G_gt,SBM_B_par['B=4'],'sbm_dc',node_order=[G_gt.vp[vp_name][v] for v in G_gt.vertices()],vp_name=\"title\",reverse_dir = False,fig_size=(8, 6))"
   ]
  },
  {
   "cell_type": "code",
   "execution_count": 54,
   "id": "db89a93b",
   "metadata": {},
   "outputs": [
    {
     "data": {
      "text/html": [
       "<div>\n",
       "<style scoped>\n",
       "    .dataframe tbody tr th:only-of-type {\n",
       "        vertical-align: middle;\n",
       "    }\n",
       "\n",
       "    .dataframe tbody tr th {\n",
       "        vertical-align: top;\n",
       "    }\n",
       "\n",
       "    .dataframe thead th {\n",
       "        text-align: right;\n",
       "    }\n",
       "</style>\n",
       "<table border=\"1\" class=\"dataframe\">\n",
       "  <thead>\n",
       "    <tr style=\"text-align: right;\">\n",
       "      <th>arson_value</th>\n",
       "      <th>N/A</th>\n",
       "      <th>Oppose</th>\n",
       "      <th>Support</th>\n",
       "    </tr>\n",
       "    <tr>\n",
       "      <th>B=4</th>\n",
       "      <th></th>\n",
       "      <th></th>\n",
       "      <th></th>\n",
       "    </tr>\n",
       "  </thead>\n",
       "  <tbody>\n",
       "    <tr>\n",
       "      <th>0</th>\n",
       "      <td>1460</td>\n",
       "      <td>14</td>\n",
       "      <td>0</td>\n",
       "    </tr>\n",
       "    <tr>\n",
       "      <th>1</th>\n",
       "      <td>1030</td>\n",
       "      <td>4</td>\n",
       "      <td>0</td>\n",
       "    </tr>\n",
       "    <tr>\n",
       "      <th>2</th>\n",
       "      <td>945</td>\n",
       "      <td>12</td>\n",
       "      <td>0</td>\n",
       "    </tr>\n",
       "    <tr>\n",
       "      <th>3</th>\n",
       "      <td>539</td>\n",
       "      <td>0</td>\n",
       "      <td>25</td>\n",
       "    </tr>\n",
       "  </tbody>\n",
       "</table>\n",
       "</div>"
      ],
      "text/plain": [
       "arson_value   N/A  Oppose  Support\n",
       "B=4                               \n",
       "0            1460      14        0\n",
       "1            1030       4        0\n",
       "2             945      12        0\n",
       "3             539       0       25"
      ]
     },
     "execution_count": 54,
     "metadata": {},
     "output_type": "execute_result"
    }
   ],
   "source": [
    "pd.crosstab(df['B=4'],df.arson_value)"
   ]
  },
  {
   "cell_type": "code",
   "execution_count": 55,
   "id": "1689560d",
   "metadata": {},
   "outputs": [
    {
     "data": {
      "text/html": [
       "<div>\n",
       "<style scoped>\n",
       "    .dataframe tbody tr th:only-of-type {\n",
       "        vertical-align: middle;\n",
       "    }\n",
       "\n",
       "    .dataframe tbody tr th {\n",
       "        vertical-align: top;\n",
       "    }\n",
       "\n",
       "    .dataframe thead th {\n",
       "        text-align: right;\n",
       "    }\n",
       "</style>\n",
       "<table border=\"1\" class=\"dataframe\">\n",
       "  <thead>\n",
       "    <tr style=\"text-align: right;\">\n",
       "      <th>climate_value</th>\n",
       "      <th>N/A</th>\n",
       "      <th>Oppose</th>\n",
       "      <th>Support</th>\n",
       "    </tr>\n",
       "    <tr>\n",
       "      <th>B=4</th>\n",
       "      <th></th>\n",
       "      <th></th>\n",
       "      <th></th>\n",
       "    </tr>\n",
       "  </thead>\n",
       "  <tbody>\n",
       "    <tr>\n",
       "      <th>0</th>\n",
       "      <td>1361</td>\n",
       "      <td>9</td>\n",
       "      <td>104</td>\n",
       "    </tr>\n",
       "    <tr>\n",
       "      <th>1</th>\n",
       "      <td>1022</td>\n",
       "      <td>2</td>\n",
       "      <td>10</td>\n",
       "    </tr>\n",
       "    <tr>\n",
       "      <th>2</th>\n",
       "      <td>855</td>\n",
       "      <td>5</td>\n",
       "      <td>97</td>\n",
       "    </tr>\n",
       "    <tr>\n",
       "      <th>3</th>\n",
       "      <td>537</td>\n",
       "      <td>23</td>\n",
       "      <td>4</td>\n",
       "    </tr>\n",
       "  </tbody>\n",
       "</table>\n",
       "</div>"
      ],
      "text/plain": [
       "climate_value   N/A  Oppose  Support\n",
       "B=4                                 \n",
       "0              1361       9      104\n",
       "1              1022       2       10\n",
       "2               855       5       97\n",
       "3               537      23        4"
      ]
     },
     "execution_count": 55,
     "metadata": {},
     "output_type": "execute_result"
    }
   ],
   "source": [
    "pd.crosstab(df['B=4'],df.climate_value)"
   ]
  },
  {
   "cell_type": "code",
   "execution_count": 50,
   "id": "95ab88c2",
   "metadata": {},
   "outputs": [],
   "source": [
    "df_arson = pd.read_csv('./Outputs/Case/climate_classifications_arson.csv',header=0, \n",
    "            names=['Node', 'Classification'])\n",
    "df_climate = pd.read_csv('../Outputs/Case/climate_classifications_climate.csv',header=0, \n",
    "            names=['Node', 'Classification'])"
   ]
  },
  {
   "cell_type": "code",
   "execution_count": 51,
   "id": "98d09d50",
   "metadata": {},
   "outputs": [],
   "source": [
    "irow = df_arson.index.values.tolist() \n",
    "arson = {}\n",
    "for i in irow:\n",
    "    if df_arson.at[i,'Classification'] in ['Oppose','Support']:\n",
    "        arson[str(df_arson.at[i,'Node'])] = df_arson.at[i,'Classification']\n",
    "irow = df_climate.index.values.tolist() \n",
    "climate = {}\n",
    "for i in irow:\n",
    "    if df_climate.at[i,'Classification'] in ['Link','Reject denial']:\n",
    "        climate[str(df_climate.at[i,'Node'])] = 'Support'\n",
    "    elif df_climate.at[i,'Classification'] in ['Denial','Reject link']: \n",
    "        climate[str(df_climate.at[i,'Node'])] = 'Oppose'    "
   ]
  },
  {
   "cell_type": "code",
   "execution_count": 52,
   "id": "4aeea7c4",
   "metadata": {},
   "outputs": [],
   "source": [
    "arson_value = [arson[G_gt.vp.name[v]] if G_gt.vp.name[v] in arson.keys() else 'N/A' for v in G_gt.vertices()]\n",
    "climate_value = [climate[G_gt.vp.name[v]] if G_gt.vp.name[v] in climate.keys() else 'N/A' for v in G_gt.vertices()]"
   ]
  },
  {
   "cell_type": "code",
   "execution_count": 53,
   "id": "d783ec66",
   "metadata": {},
   "outputs": [],
   "source": [
    "SBM_B_par['arson_value']=arson_value\n",
    "SBM_B_par['climate_value']=climate_value\n",
    "SBM_B_par['Node']=[G_gt.vp.name[v] for v in G_gt.vertices()]\n",
    "df = pd.DataFrame (SBM_B_par, columns = ['Node','B=2','B=3','B=4','B=5','arson_value','climate_value'])"
   ]
  }
 ],
 "metadata": {
  "kernelspec": {
   "display_name": "Python 3 (ipykernel)",
   "language": "python",
   "name": "python3"
  },
  "language_info": {
   "codemirror_mode": {
    "name": "ipython",
    "version": 3
   },
   "file_extension": ".py",
   "mimetype": "text/x-python",
   "name": "python",
   "nbconvert_exporter": "python",
   "pygments_lexer": "ipython3",
   "version": "3.11.6"
  }
 },
 "nbformat": 4,
 "nbformat_minor": 5
}
