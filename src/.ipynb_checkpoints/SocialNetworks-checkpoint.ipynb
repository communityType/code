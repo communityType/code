{
 "cells": [
  {
   "cell_type": "code",
   "execution_count": 1,
   "id": "9762be5e",
   "metadata": {},
   "outputs": [],
   "source": [
    "import json\n",
    "from collections import Counter \n",
    "import time\n",
    "import os\n",
    "import seaborn as sns; sns.set_theme()\n",
    "import pandas as pd\n",
    "import matplotlib.pyplot as plt\n",
    "import ast\n",
    "import math"
   ]
  },
  {
   "cell_type": "code",
   "execution_count": 2,
   "id": "49f6fbca",
   "metadata": {},
   "outputs": [],
   "source": [
    "import graph_tool.all as gt"
   ]
  },
  {
   "cell_type": "code",
   "execution_count": 3,
   "id": "ec70d520",
   "metadata": {},
   "outputs": [],
   "source": [
    "%load_ext autoreload\n",
    "%autoreload 2\n",
    "\n",
    "from collections import Counter,defaultdict\n",
    "import GenModel as GM\n",
    "import numpy as np\n",
    "import networkx as nx\n",
    "import pickle\n",
    "import networkx.algorithms.community as nxcom\n",
    "import infomap\n",
    "import socialonline_stats as SS"
   ]
  },
  {
   "cell_type": "markdown",
   "id": "0ec6a396",
   "metadata": {},
   "source": [
    "# Collect Data"
   ]
  },
  {
   "cell_type": "markdown",
   "id": "20940285",
   "metadata": {},
   "source": [
    "* facebook_organizations：friendships among users on Facebook who indicated employment at one of the target corporation\n",
    "* ego_social: Ego networks associated with a set of accounts of Facebook\n",
    "* facebook_friends: A small anonymized Facebook ego network\n",
    "* uni_email: A network representing the exchange of emails among members of the Rovira i Virgili University in Spain, in 2003.\n",
    "* new_zealand_collab: A network of scientific collaborations among institutions in New Zealand. Nodes are institutions (universities, organizations, etc.), and two nodes i,j are connected if Scopus lists at least one publication with authors at institutions i and j, in the period 2010-2015. Edges are weighted by the number of such collaborations.\n",
    "\n",
    "* advogato: A network of trust relationships among users on Advogato, an online community of open source software developers.\n",
    "\n",
    "* anybeat: A snapshot of the Anybeat online social network from 2013, before it was shut down. Nodes are users and links represent friendships. The edge direction (i, j) denotes the user i follows user j.\n",
    "* digg_reply: Network of replies among users of digg.com. Each node in the network is a digg user, and each directed edge indicates that user i replied to user j.\n",
    "* arxiv_collab: Collaboration graphs for scientists\n",
    "* twitter_15m: A network representing follower-following relations among Twitter users associated with the 15-M Movement or Anti-austerity movement in Spain, in the period April-May 2011.\n",
    "\n",
    "* twitter: A directed network of following relationships from Twitter, from a snowball sample crawl across \"quality\" users in 2009. A directed edge (i, j) indicates that user i follows user j.\n",
    "* ego_twitter: This directed networks contains Twitter user–user following information. A node represents a user. An edge indicates that the user represented by the left node follows the user represented by the right node.\n",
    "\n",
    "* ego_facebook: This directed networks contains Facebook user–user friendships. A node represents a user. An edge indicates that the user represented by the left node is a friend of the user represented by the right node.\n",
    "\n",
    "* twitter_sample:A sample of the Twitter follower network in 2012, obtained by crawling follower links outward breadth- or depth-first from an arbitrary set of seed profiles. Nodes are twitter accounts, and edges represent the directed following relationship.\n",
    "* twitter_social: This network contains the social graph of twitter, where a directed edge (i,j) means that user i follows user j\n",
    "* twitter_2009: A large (possibly complete) snapshot of Twitter in 2009, represented as an anonymized network of accounts and their follow links."
   ]
  },
  {
   "cell_type": "code",
   "execution_count": 266,
   "id": "53f3c1ce",
   "metadata": {
    "scrolled": true
   },
   "outputs": [],
   "source": [
    "g = gt.collection.ns[\"twitter_sample\"]\n",
    "g.save(\"../Data/twitter_sample.xml.gz\")"
   ]
  },
  {
   "cell_type": "code",
   "execution_count": 267,
   "id": "689f4e83",
   "metadata": {
    "scrolled": true
   },
   "outputs": [
    {
     "ename": "KeyboardInterrupt",
     "evalue": "",
     "output_type": "error",
     "traceback": [
      "\u001b[0;31m---------------------------------------------------------------------------\u001b[0m",
      "\u001b[0;31mKeyboardInterrupt\u001b[0m                         Traceback (most recent call last)",
      "\u001b[0;32m<ipython-input-267-70aa8be00b2e>\u001b[0m in \u001b[0;36m<module>\u001b[0;34m\u001b[0m\n\u001b[0;32m----> 1\u001b[0;31m \u001b[0mg\u001b[0m \u001b[0;34m=\u001b[0m \u001b[0mgt\u001b[0m\u001b[0;34m.\u001b[0m\u001b[0mcollection\u001b[0m\u001b[0;34m.\u001b[0m\u001b[0mns\u001b[0m\u001b[0;34m[\u001b[0m\u001b[0;34m\"twitter_social\"\u001b[0m\u001b[0;34m]\u001b[0m\u001b[0;34m\u001b[0m\u001b[0;34m\u001b[0m\u001b[0m\n\u001b[0m\u001b[1;32m      2\u001b[0m \u001b[0mg\u001b[0m\u001b[0;34m.\u001b[0m\u001b[0msave\u001b[0m\u001b[0;34m(\u001b[0m\u001b[0;34m\"../Data/twitter_social.xml.gz\"\u001b[0m\u001b[0;34m)\u001b[0m\u001b[0;34m\u001b[0m\u001b[0;34m\u001b[0m\u001b[0m\n",
      "\u001b[0;32m/usr/local/lib/python3.9/site-packages/graph_tool/collection/netzschleuder.py\u001b[0m in \u001b[0;36m__getitem__\u001b[0;34m(self, k)\u001b[0m\n\u001b[1;32m    117\u001b[0m         \u001b[0;32mif\u001b[0m \u001b[0mk\u001b[0m \u001b[0;32mnot\u001b[0m \u001b[0;32min\u001b[0m \u001b[0mself\u001b[0m\u001b[0;34m:\u001b[0m\u001b[0;34m\u001b[0m\u001b[0;34m\u001b[0m\u001b[0m\n\u001b[1;32m    118\u001b[0m             \u001b[0;32mtry\u001b[0m\u001b[0;34m:\u001b[0m\u001b[0;34m\u001b[0m\u001b[0;34m\u001b[0m\u001b[0m\n\u001b[0;32m--> 119\u001b[0;31m                 \u001b[0mg\u001b[0m \u001b[0;34m=\u001b[0m \u001b[0mget_ns_network\u001b[0m\u001b[0;34m(\u001b[0m\u001b[0mk\u001b[0m\u001b[0;34m,\u001b[0m \u001b[0mself\u001b[0m\u001b[0;34m.\u001b[0m\u001b[0mtoken\u001b[0m\u001b[0;34m)\u001b[0m\u001b[0;34m\u001b[0m\u001b[0;34m\u001b[0m\u001b[0m\n\u001b[0m\u001b[1;32m    120\u001b[0m             \u001b[0;32mexcept\u001b[0m \u001b[0murllib\u001b[0m\u001b[0;34m.\u001b[0m\u001b[0merror\u001b[0m\u001b[0;34m.\u001b[0m\u001b[0mURLError\u001b[0m \u001b[0;32mas\u001b[0m \u001b[0me\u001b[0m\u001b[0;34m:\u001b[0m\u001b[0;34m\u001b[0m\u001b[0;34m\u001b[0m\u001b[0m\n\u001b[1;32m    121\u001b[0m                 \u001b[0;32mraise\u001b[0m \u001b[0mKeyError\u001b[0m\u001b[0;34m(\u001b[0m\u001b[0mstr\u001b[0m\u001b[0;34m(\u001b[0m\u001b[0me\u001b[0m\u001b[0;34m)\u001b[0m\u001b[0;34m)\u001b[0m\u001b[0;34m\u001b[0m\u001b[0;34m\u001b[0m\u001b[0m\n",
      "\u001b[0;32m/usr/local/lib/python3.9/site-packages/graph_tool/collection/netzschleuder.py\u001b[0m in \u001b[0;36mget_ns_network\u001b[0;34m(k, token)\u001b[0m\n\u001b[1;32m     71\u001b[0m             \u001b[0;32mraise\u001b[0m \u001b[0mNotImplementedError\u001b[0m\u001b[0;34m(\u001b[0m\u001b[0;34m\"zstandard module not installed, but it's required for zstd de-compression\"\u001b[0m\u001b[0;34m)\u001b[0m\u001b[0;34m\u001b[0m\u001b[0;34m\u001b[0m\u001b[0m\n\u001b[1;32m     72\u001b[0m         \u001b[0;32mwith\u001b[0m \u001b[0mcctx\u001b[0m\u001b[0;34m.\u001b[0m\u001b[0mstream_reader\u001b[0m\u001b[0;34m(\u001b[0m\u001b[0mf\u001b[0m\u001b[0;34m)\u001b[0m \u001b[0;32mas\u001b[0m \u001b[0mfc\u001b[0m\u001b[0;34m:\u001b[0m\u001b[0;34m\u001b[0m\u001b[0;34m\u001b[0m\u001b[0m\n\u001b[0;32m---> 73\u001b[0;31m             \u001b[0mg\u001b[0m \u001b[0;34m=\u001b[0m \u001b[0mload_graph\u001b[0m\u001b[0;34m(\u001b[0m\u001b[0mfc\u001b[0m\u001b[0;34m,\u001b[0m \u001b[0mfmt\u001b[0m\u001b[0;34m=\u001b[0m\u001b[0;34m\"gt\"\u001b[0m\u001b[0;34m)\u001b[0m\u001b[0;34m\u001b[0m\u001b[0;34m\u001b[0m\u001b[0m\n\u001b[0m\u001b[1;32m     74\u001b[0m \u001b[0;34m\u001b[0m\u001b[0m\n\u001b[1;32m     75\u001b[0m     \u001b[0;32mreturn\u001b[0m \u001b[0mg\u001b[0m\u001b[0;34m\u001b[0m\u001b[0;34m\u001b[0m\u001b[0m\n",
      "\u001b[0;32m/usr/local/lib/python3.9/site-packages/graph_tool/__init__.py\u001b[0m in \u001b[0;36mload_graph\u001b[0;34m(file_name, fmt, ignore_vp, ignore_ep, ignore_gp)\u001b[0m\n\u001b[1;32m   3378\u001b[0m     \"\"\"\n\u001b[1;32m   3379\u001b[0m     \u001b[0mg\u001b[0m \u001b[0;34m=\u001b[0m \u001b[0mGraph\u001b[0m\u001b[0;34m(\u001b[0m\u001b[0;34m)\u001b[0m\u001b[0;34m\u001b[0m\u001b[0;34m\u001b[0m\u001b[0m\n\u001b[0;32m-> 3380\u001b[0;31m     \u001b[0mg\u001b[0m\u001b[0;34m.\u001b[0m\u001b[0mload\u001b[0m\u001b[0;34m(\u001b[0m\u001b[0mfile_name\u001b[0m\u001b[0;34m,\u001b[0m \u001b[0mfmt\u001b[0m\u001b[0;34m,\u001b[0m \u001b[0mignore_vp\u001b[0m\u001b[0;34m,\u001b[0m \u001b[0mignore_ep\u001b[0m\u001b[0;34m,\u001b[0m \u001b[0mignore_gp\u001b[0m\u001b[0;34m)\u001b[0m\u001b[0;34m\u001b[0m\u001b[0;34m\u001b[0m\u001b[0m\n\u001b[0m\u001b[1;32m   3381\u001b[0m     \u001b[0;32mreturn\u001b[0m \u001b[0mg\u001b[0m\u001b[0;34m\u001b[0m\u001b[0;34m\u001b[0m\u001b[0m\n\u001b[1;32m   3382\u001b[0m \u001b[0;34m\u001b[0m\u001b[0m\n",
      "\u001b[0;32m/usr/local/lib/python3.9/site-packages/graph_tool/__init__.py\u001b[0m in \u001b[0;36mload\u001b[0;34m(self, file_name, fmt, ignore_vp, ignore_ep, ignore_gp)\u001b[0m\n\u001b[1;32m   2924\u001b[0m         \u001b[0;32melse\u001b[0m\u001b[0;34m:\u001b[0m\u001b[0;34m\u001b[0m\u001b[0;34m\u001b[0m\u001b[0m\n\u001b[1;32m   2925\u001b[0m             \u001b[0;32mwith\u001b[0m \u001b[0mfctx\u001b[0m\u001b[0;34m:\u001b[0m\u001b[0;34m\u001b[0m\u001b[0;34m\u001b[0m\u001b[0m\n\u001b[0;32m-> 2926\u001b[0;31m                 props = self.__graph.read_from_file(\"\", file_name, fmt,\n\u001b[0m\u001b[1;32m   2927\u001b[0m                                                     \u001b[0mignore_vp\u001b[0m\u001b[0;34m,\u001b[0m \u001b[0mignore_ep\u001b[0m\u001b[0;34m,\u001b[0m\u001b[0;34m\u001b[0m\u001b[0;34m\u001b[0m\u001b[0m\n\u001b[1;32m   2928\u001b[0m                                                     ignore_gp)\n",
      "\u001b[0;32m/usr/local/Cellar/python@3.9/3.9.12/Frameworks/Python.framework/Versions/3.9/lib/python3.9/http/client.py\u001b[0m in \u001b[0;36mread\u001b[0;34m(self, amt)\u001b[0m\n\u001b[1;32m    461\u001b[0m             \u001b[0;31m# Amount is given, implement using readinto\u001b[0m\u001b[0;34m\u001b[0m\u001b[0;34m\u001b[0m\u001b[0m\n\u001b[1;32m    462\u001b[0m             \u001b[0mb\u001b[0m \u001b[0;34m=\u001b[0m \u001b[0mbytearray\u001b[0m\u001b[0;34m(\u001b[0m\u001b[0mamt\u001b[0m\u001b[0;34m)\u001b[0m\u001b[0;34m\u001b[0m\u001b[0;34m\u001b[0m\u001b[0m\n\u001b[0;32m--> 463\u001b[0;31m             \u001b[0mn\u001b[0m \u001b[0;34m=\u001b[0m \u001b[0mself\u001b[0m\u001b[0;34m.\u001b[0m\u001b[0mreadinto\u001b[0m\u001b[0;34m(\u001b[0m\u001b[0mb\u001b[0m\u001b[0;34m)\u001b[0m\u001b[0;34m\u001b[0m\u001b[0;34m\u001b[0m\u001b[0m\n\u001b[0m\u001b[1;32m    464\u001b[0m             \u001b[0;32mreturn\u001b[0m \u001b[0mmemoryview\u001b[0m\u001b[0;34m(\u001b[0m\u001b[0mb\u001b[0m\u001b[0;34m)\u001b[0m\u001b[0;34m[\u001b[0m\u001b[0;34m:\u001b[0m\u001b[0mn\u001b[0m\u001b[0;34m]\u001b[0m\u001b[0;34m.\u001b[0m\u001b[0mtobytes\u001b[0m\u001b[0;34m(\u001b[0m\u001b[0;34m)\u001b[0m\u001b[0;34m\u001b[0m\u001b[0;34m\u001b[0m\u001b[0m\n\u001b[1;32m    465\u001b[0m         \u001b[0;32melse\u001b[0m\u001b[0;34m:\u001b[0m\u001b[0;34m\u001b[0m\u001b[0;34m\u001b[0m\u001b[0m\n",
      "\u001b[0;32m/usr/local/Cellar/python@3.9/3.9.12/Frameworks/Python.framework/Versions/3.9/lib/python3.9/http/client.py\u001b[0m in \u001b[0;36mreadinto\u001b[0;34m(self, b)\u001b[0m\n\u001b[1;32m    505\u001b[0m         \u001b[0;31m# connection, and the user is reading more bytes than will be provided\u001b[0m\u001b[0;34m\u001b[0m\u001b[0;34m\u001b[0m\u001b[0m\n\u001b[1;32m    506\u001b[0m         \u001b[0;31m# (for example, reading in 1k chunks)\u001b[0m\u001b[0;34m\u001b[0m\u001b[0;34m\u001b[0m\u001b[0m\n\u001b[0;32m--> 507\u001b[0;31m         \u001b[0mn\u001b[0m \u001b[0;34m=\u001b[0m \u001b[0mself\u001b[0m\u001b[0;34m.\u001b[0m\u001b[0mfp\u001b[0m\u001b[0;34m.\u001b[0m\u001b[0mreadinto\u001b[0m\u001b[0;34m(\u001b[0m\u001b[0mb\u001b[0m\u001b[0;34m)\u001b[0m\u001b[0;34m\u001b[0m\u001b[0;34m\u001b[0m\u001b[0m\n\u001b[0m\u001b[1;32m    508\u001b[0m         \u001b[0;32mif\u001b[0m \u001b[0;32mnot\u001b[0m \u001b[0mn\u001b[0m \u001b[0;32mand\u001b[0m \u001b[0mb\u001b[0m\u001b[0;34m:\u001b[0m\u001b[0;34m\u001b[0m\u001b[0;34m\u001b[0m\u001b[0m\n\u001b[1;32m    509\u001b[0m             \u001b[0;31m# Ideally, we would raise IncompleteRead if the content-length\u001b[0m\u001b[0;34m\u001b[0m\u001b[0;34m\u001b[0m\u001b[0m\n",
      "\u001b[0;32m/usr/local/Cellar/python@3.9/3.9.12/Frameworks/Python.framework/Versions/3.9/lib/python3.9/socket.py\u001b[0m in \u001b[0;36mreadinto\u001b[0;34m(self, b)\u001b[0m\n\u001b[1;32m    702\u001b[0m         \u001b[0;32mwhile\u001b[0m \u001b[0;32mTrue\u001b[0m\u001b[0;34m:\u001b[0m\u001b[0;34m\u001b[0m\u001b[0;34m\u001b[0m\u001b[0m\n\u001b[1;32m    703\u001b[0m             \u001b[0;32mtry\u001b[0m\u001b[0;34m:\u001b[0m\u001b[0;34m\u001b[0m\u001b[0;34m\u001b[0m\u001b[0m\n\u001b[0;32m--> 704\u001b[0;31m                 \u001b[0;32mreturn\u001b[0m \u001b[0mself\u001b[0m\u001b[0;34m.\u001b[0m\u001b[0m_sock\u001b[0m\u001b[0;34m.\u001b[0m\u001b[0mrecv_into\u001b[0m\u001b[0;34m(\u001b[0m\u001b[0mb\u001b[0m\u001b[0;34m)\u001b[0m\u001b[0;34m\u001b[0m\u001b[0;34m\u001b[0m\u001b[0m\n\u001b[0m\u001b[1;32m    705\u001b[0m             \u001b[0;32mexcept\u001b[0m \u001b[0mtimeout\u001b[0m\u001b[0;34m:\u001b[0m\u001b[0;34m\u001b[0m\u001b[0;34m\u001b[0m\u001b[0m\n\u001b[1;32m    706\u001b[0m                 \u001b[0mself\u001b[0m\u001b[0;34m.\u001b[0m\u001b[0m_timeout_occurred\u001b[0m \u001b[0;34m=\u001b[0m \u001b[0;32mTrue\u001b[0m\u001b[0;34m\u001b[0m\u001b[0;34m\u001b[0m\u001b[0m\n",
      "\u001b[0;32m/usr/local/Cellar/python@3.9/3.9.12/Frameworks/Python.framework/Versions/3.9/lib/python3.9/ssl.py\u001b[0m in \u001b[0;36mrecv_into\u001b[0;34m(self, buffer, nbytes, flags)\u001b[0m\n\u001b[1;32m   1239\u001b[0m                   \u001b[0;34m\"non-zero flags not allowed in calls to recv_into() on %s\"\u001b[0m \u001b[0;34m%\u001b[0m\u001b[0;34m\u001b[0m\u001b[0;34m\u001b[0m\u001b[0m\n\u001b[1;32m   1240\u001b[0m                   self.__class__)\n\u001b[0;32m-> 1241\u001b[0;31m             \u001b[0;32mreturn\u001b[0m \u001b[0mself\u001b[0m\u001b[0;34m.\u001b[0m\u001b[0mread\u001b[0m\u001b[0;34m(\u001b[0m\u001b[0mnbytes\u001b[0m\u001b[0;34m,\u001b[0m \u001b[0mbuffer\u001b[0m\u001b[0;34m)\u001b[0m\u001b[0;34m\u001b[0m\u001b[0;34m\u001b[0m\u001b[0m\n\u001b[0m\u001b[1;32m   1242\u001b[0m         \u001b[0;32melse\u001b[0m\u001b[0;34m:\u001b[0m\u001b[0;34m\u001b[0m\u001b[0;34m\u001b[0m\u001b[0m\n\u001b[1;32m   1243\u001b[0m             \u001b[0;32mreturn\u001b[0m \u001b[0msuper\u001b[0m\u001b[0;34m(\u001b[0m\u001b[0;34m)\u001b[0m\u001b[0;34m.\u001b[0m\u001b[0mrecv_into\u001b[0m\u001b[0;34m(\u001b[0m\u001b[0mbuffer\u001b[0m\u001b[0;34m,\u001b[0m \u001b[0mnbytes\u001b[0m\u001b[0;34m,\u001b[0m \u001b[0mflags\u001b[0m\u001b[0;34m)\u001b[0m\u001b[0;34m\u001b[0m\u001b[0;34m\u001b[0m\u001b[0m\n",
      "\u001b[0;32m/usr/local/Cellar/python@3.9/3.9.12/Frameworks/Python.framework/Versions/3.9/lib/python3.9/ssl.py\u001b[0m in \u001b[0;36mread\u001b[0;34m(self, len, buffer)\u001b[0m\n\u001b[1;32m   1097\u001b[0m         \u001b[0;32mtry\u001b[0m\u001b[0;34m:\u001b[0m\u001b[0;34m\u001b[0m\u001b[0;34m\u001b[0m\u001b[0m\n\u001b[1;32m   1098\u001b[0m             \u001b[0;32mif\u001b[0m \u001b[0mbuffer\u001b[0m \u001b[0;32mis\u001b[0m \u001b[0;32mnot\u001b[0m \u001b[0;32mNone\u001b[0m\u001b[0;34m:\u001b[0m\u001b[0;34m\u001b[0m\u001b[0;34m\u001b[0m\u001b[0m\n\u001b[0;32m-> 1099\u001b[0;31m                 \u001b[0;32mreturn\u001b[0m \u001b[0mself\u001b[0m\u001b[0;34m.\u001b[0m\u001b[0m_sslobj\u001b[0m\u001b[0;34m.\u001b[0m\u001b[0mread\u001b[0m\u001b[0;34m(\u001b[0m\u001b[0mlen\u001b[0m\u001b[0;34m,\u001b[0m \u001b[0mbuffer\u001b[0m\u001b[0;34m)\u001b[0m\u001b[0;34m\u001b[0m\u001b[0;34m\u001b[0m\u001b[0m\n\u001b[0m\u001b[1;32m   1100\u001b[0m             \u001b[0;32melse\u001b[0m\u001b[0;34m:\u001b[0m\u001b[0;34m\u001b[0m\u001b[0;34m\u001b[0m\u001b[0m\n\u001b[1;32m   1101\u001b[0m                 \u001b[0;32mreturn\u001b[0m \u001b[0mself\u001b[0m\u001b[0;34m.\u001b[0m\u001b[0m_sslobj\u001b[0m\u001b[0;34m.\u001b[0m\u001b[0mread\u001b[0m\u001b[0;34m(\u001b[0m\u001b[0mlen\u001b[0m\u001b[0;34m)\u001b[0m\u001b[0;34m\u001b[0m\u001b[0;34m\u001b[0m\u001b[0m\n",
      "\u001b[0;31mKeyboardInterrupt\u001b[0m: "
     ]
    }
   ],
   "source": [
    "g = gt.collection.ns[\"twitter_social\"]\n",
    "g.save(\"../Data/twitter_social.xml.gz\")"
   ]
  },
  {
   "cell_type": "code",
   "execution_count": null,
   "id": "e7fdbf7b",
   "metadata": {},
   "outputs": [],
   "source": [
    "g = gt.collection.ns[\"twitter_2009\"]\n",
    "g.save(\"../Data/twitter_2009.xml.gz\")"
   ]
  },
  {
   "cell_type": "code",
   "execution_count": 13,
   "id": "f1ac94d2",
   "metadata": {},
   "outputs": [
    {
     "name": "stdout",
     "output_type": "stream",
     "text": [
      "{'name': <VertexPropertyMap object with value type 'string', for Graph 0x145491e50, at 0x145491b50>, 'title': <VertexPropertyMap object with value type 'string', for Graph 0x145491e50, at 0x1454919d0>}\n",
      "{'weight': <EdgePropertyMap object with value type 'int32_t', for Graph 0x145491e50, at 0x145491a00>}\n"
     ]
    }
   ],
   "source": [
    "g = gt.load_graph('../Data/NYClimate.xml.gz')\n",
    "print(g.vp)\n",
    "print(g.ep)"
   ]
  },
  {
   "cell_type": "code",
   "execution_count": 262,
   "id": "54de2e5a",
   "metadata": {},
   "outputs": [],
   "source": [
    "df = pd.read_csv('../Data/out.ego-facebook', sep=' ',index_col=False,skiprows=2)"
   ]
  },
  {
   "cell_type": "code",
   "execution_count": 263,
   "id": "0455421a",
   "metadata": {},
   "outputs": [
    {
     "data": {
      "text/html": [
       "<div>\n",
       "<style scoped>\n",
       "    .dataframe tbody tr th:only-of-type {\n",
       "        vertical-align: middle;\n",
       "    }\n",
       "\n",
       "    .dataframe tbody tr th {\n",
       "        vertical-align: top;\n",
       "    }\n",
       "\n",
       "    .dataframe thead th {\n",
       "        text-align: right;\n",
       "    }\n",
       "</style>\n",
       "<table border=\"1\" class=\"dataframe\">\n",
       "  <thead>\n",
       "    <tr style=\"text-align: right;\">\n",
       "      <th></th>\n",
       "      <th>1</th>\n",
       "      <th>2</th>\n",
       "    </tr>\n",
       "  </thead>\n",
       "  <tbody>\n",
       "    <tr>\n",
       "      <th>0</th>\n",
       "      <td>1</td>\n",
       "      <td>3</td>\n",
       "    </tr>\n",
       "    <tr>\n",
       "      <th>1</th>\n",
       "      <td>1</td>\n",
       "      <td>4</td>\n",
       "    </tr>\n",
       "    <tr>\n",
       "      <th>2</th>\n",
       "      <td>1</td>\n",
       "      <td>5</td>\n",
       "    </tr>\n",
       "    <tr>\n",
       "      <th>3</th>\n",
       "      <td>1</td>\n",
       "      <td>6</td>\n",
       "    </tr>\n",
       "    <tr>\n",
       "      <th>4</th>\n",
       "      <td>1</td>\n",
       "      <td>7</td>\n",
       "    </tr>\n",
       "    <tr>\n",
       "      <th>...</th>\n",
       "      <td>...</td>\n",
       "      <td>...</td>\n",
       "    </tr>\n",
       "    <tr>\n",
       "      <th>2975</th>\n",
       "      <td>2699</td>\n",
       "      <td>2884</td>\n",
       "    </tr>\n",
       "    <tr>\n",
       "      <th>2976</th>\n",
       "      <td>2699</td>\n",
       "      <td>2885</td>\n",
       "    </tr>\n",
       "    <tr>\n",
       "      <th>2977</th>\n",
       "      <td>2699</td>\n",
       "      <td>2886</td>\n",
       "    </tr>\n",
       "    <tr>\n",
       "      <th>2978</th>\n",
       "      <td>2699</td>\n",
       "      <td>2887</td>\n",
       "    </tr>\n",
       "    <tr>\n",
       "      <th>2979</th>\n",
       "      <td>2699</td>\n",
       "      <td>2888</td>\n",
       "    </tr>\n",
       "  </tbody>\n",
       "</table>\n",
       "<p>2980 rows × 2 columns</p>\n",
       "</div>"
      ],
      "text/plain": [
       "         1     2\n",
       "0        1     3\n",
       "1        1     4\n",
       "2        1     5\n",
       "3        1     6\n",
       "4        1     7\n",
       "...    ...   ...\n",
       "2975  2699  2884\n",
       "2976  2699  2885\n",
       "2977  2699  2886\n",
       "2978  2699  2887\n",
       "2979  2699  2888\n",
       "\n",
       "[2980 rows x 2 columns]"
      ]
     },
     "execution_count": 263,
     "metadata": {},
     "output_type": "execute_result"
    }
   ],
   "source": [
    "df"
   ]
  },
  {
   "cell_type": "code",
   "execution_count": 264,
   "id": "00c23ce3",
   "metadata": {},
   "outputs": [],
   "source": [
    "df.to_csv('../Data/ego_facebook.csv',index = False)"
   ]
  },
  {
   "cell_type": "code",
   "execution_count": 265,
   "id": "01e8ea68",
   "metadata": {},
   "outputs": [],
   "source": [
    "g = gt.load_graph_from_csv('../Data/ego_facebook.csv', skip_first=True, directed=True)\n",
    "g.save(\"../Data/ego_facebook.xml.gz\")"
   ]
  },
  {
   "cell_type": "markdown",
   "id": "ecc7431f",
   "metadata": {},
   "source": [
    "# Community"
   ]
  },
  {
   "cell_type": "markdown",
   "id": "d8c46202",
   "metadata": {},
   "source": [
    "## SBM"
   ]
  },
  {
   "cell_type": "code",
   "execution_count": 4,
   "id": "0260c191",
   "metadata": {},
   "outputs": [],
   "source": [
    "def SBM(fname,vp_name,ep_name = None):\n",
    "    path_data = \"../Data\"\n",
    "    fname_data = fname + \".xml.gz\"\n",
    "    filename = os.path.join(path_data,fname_data)\n",
    "\n",
    "    G_gt = gt.load_graph(filename)\n",
    "\n",
    "    path_data = \"../Outputs\"\n",
    "\n",
    "    #SBM\n",
    "    sbm_par,r =GM.SBM_partition(G_gt,nested = False,degree_correction = False,ep_name = ep_name,iteration = 10,SM=True)\n",
    "    fname_data = fname + \"_sbm.list\"\n",
    "    filename = os.path.join(path_data,fname_data)\n",
    "    with open(filename,\"wb\") as f:\n",
    "        pickle.dump(sbm_par,f)\n",
    "\n",
    "    #SBM_DC\n",
    "    sbm_par,r =GM.SBM_partition(G_gt,nested = False,degree_correction = True,ep_name = ep_name,iteration = 10,SM=True)\n",
    "    fname_data = fname + \"_sbm_dc.list\"\n",
    "    filename = os.path.join(path_data,fname_data)\n",
    "    with open(filename,\"wb\") as f:\n",
    "        pickle.dump(sbm_par,f)\n",
    "    return;"
   ]
  },
  {
   "cell_type": "code",
   "execution_count": 15,
   "id": "788cd173",
   "metadata": {},
   "outputs": [],
   "source": [
    "SBM('facebook_organizations','title')"
   ]
  },
  {
   "cell_type": "code",
   "execution_count": 16,
   "id": "7dbc7fda",
   "metadata": {},
   "outputs": [],
   "source": [
    "SBM('facebook_organizations2','title')"
   ]
  },
  {
   "cell_type": "code",
   "execution_count": 17,
   "id": "2ca46c90",
   "metadata": {},
   "outputs": [],
   "source": [
    "SBM('facebook_organizations3','title')"
   ]
  },
  {
   "cell_type": "code",
   "execution_count": 18,
   "id": "fcbf9777",
   "metadata": {},
   "outputs": [],
   "source": [
    "SBM('facebook_organizations4','title')"
   ]
  },
  {
   "cell_type": "code",
   "execution_count": 19,
   "id": "ca58b996",
   "metadata": {},
   "outputs": [],
   "source": [
    "SBM('facebook_organizations5','title')"
   ]
  },
  {
   "cell_type": "code",
   "execution_count": 20,
   "id": "807b3668",
   "metadata": {},
   "outputs": [],
   "source": [
    "SBM('facebook_organizations6','title')"
   ]
  },
  {
   "cell_type": "code",
   "execution_count": 21,
   "id": "fc67d1e5",
   "metadata": {},
   "outputs": [],
   "source": [
    "SBM('ego_social','title')"
   ]
  },
  {
   "cell_type": "code",
   "execution_count": 22,
   "id": "2ab65b94",
   "metadata": {},
   "outputs": [],
   "source": [
    "SBM('facebook_friends','title')"
   ]
  },
  {
   "cell_type": "code",
   "execution_count": 23,
   "id": "6df09c04",
   "metadata": {},
   "outputs": [],
   "source": [
    "SBM('uni_email','title')"
   ]
  },
  {
   "cell_type": "code",
   "execution_count": 24,
   "id": "2981120a",
   "metadata": {},
   "outputs": [],
   "source": [
    "SBM('new_zealand_collab','title',ep_name = 'weight')"
   ]
  },
  {
   "cell_type": "code",
   "execution_count": 25,
   "id": "0b067f8c",
   "metadata": {},
   "outputs": [],
   "source": [
    "SBM('advogato','title')"
   ]
  },
  {
   "cell_type": "code",
   "execution_count": 26,
   "id": "031325e0",
   "metadata": {},
   "outputs": [],
   "source": [
    "SBM('anybeat','title')"
   ]
  },
  {
   "cell_type": "code",
   "execution_count": 27,
   "id": "3e488bd4",
   "metadata": {},
   "outputs": [],
   "source": [
    "SBM('digg_reply','title',ep_name = 'weight')"
   ]
  },
  {
   "cell_type": "code",
   "execution_count": 5,
   "id": "24458d20",
   "metadata": {},
   "outputs": [],
   "source": [
    "SBM('arxiv_collab','title',ep_name = 'value')"
   ]
  },
  {
   "cell_type": "code",
   "execution_count": 28,
   "id": "f3c46db3",
   "metadata": {},
   "outputs": [],
   "source": [
    "SBM('NYClimate','title',ep_name = 'weight')"
   ]
  },
  {
   "cell_type": "code",
   "execution_count": 29,
   "id": "6f2bd989",
   "metadata": {},
   "outputs": [],
   "source": [
    "SBM('Moscow','title',ep_name = 'weight')"
   ]
  },
  {
   "cell_type": "code",
   "execution_count": 30,
   "id": "3f21bca4",
   "metadata": {},
   "outputs": [],
   "source": [
    "SBM('MLKing','title',ep_name = 'weight')"
   ]
  },
  {
   "cell_type": "code",
   "execution_count": 31,
   "id": "261a928c",
   "metadata": {},
   "outputs": [],
   "source": [
    "SBM('Cannes','title',ep_name = 'weight')"
   ]
  },
  {
   "cell_type": "code",
   "execution_count": 32,
   "id": "131f2c3f",
   "metadata": {},
   "outputs": [
    {
     "name": "stdout",
     "output_type": "stream",
     "text": [
      "CPU times: user 14.4 s, sys: 1.01 s, total: 15.4 s\n",
      "Wall time: 15.4 s\n"
     ]
    }
   ],
   "source": [
    "%%time\n",
    "SBM('NYClimatereply','title',ep_name = 'weight')\n",
    "SBM('Moscowreply','title',ep_name = 'weight')\n",
    "SBM('MLKingreply','title',ep_name = 'weight')\n",
    "SBM('Cannesreply','title',ep_name = 'weight')"
   ]
  },
  {
   "cell_type": "code",
   "execution_count": 33,
   "id": "ee0a065c",
   "metadata": {},
   "outputs": [
    {
     "name": "stdout",
     "output_type": "stream",
     "text": [
      "CPU times: user 36.1 s, sys: 1.21 s, total: 37.3 s\n",
      "Wall time: 37.3 s\n"
     ]
    }
   ],
   "source": [
    "%%time\n",
    "SBM('twitter','title')\n",
    "SBM('ego_twitter','title')"
   ]
  },
  {
   "cell_type": "markdown",
   "id": "50d7c116",
   "metadata": {},
   "source": [
    "## Louvain"
   ]
  },
  {
   "cell_type": "code",
   "execution_count": 4,
   "id": "79ffb64f",
   "metadata": {},
   "outputs": [],
   "source": [
    "from community import community_louvain"
   ]
  },
  {
   "cell_type": "code",
   "execution_count": 228,
   "id": "a29a0826",
   "metadata": {},
   "outputs": [],
   "source": [
    "def Louvain(fname,vp_name,ep_name = None):\n",
    "    path_data = \"../Data\"\n",
    "    fname_data = fname + \".xml.gz\"\n",
    "    filename = os.path.join(path_data,fname_data)\n",
    "\n",
    "    G_gt = gt.load_graph(filename)\n",
    "    G_nx = GM.convert_gt_to_nx(G_gt, vp_name=vp_name,ep_name=ep_name)\n",
    "    path_data = \"../Outputs\"\n",
    "\n",
    "    #Louvain\n",
    "    louvain_par,r = GM.Louvain_partition(G_nx,iteration = 1)\n",
    "    path_data = \"../Outputs\"\n",
    "    name_data = fname + \"_louvian.par\"\n",
    "    filename = os.path.join(path_data,name_data)\n",
    "    with open(filename,\"wb\") as f:\n",
    "        pickle.dump(louvain_par,f)\n",
    "    return;"
   ]
  },
  {
   "cell_type": "code",
   "execution_count": 6,
   "id": "e48922ba",
   "metadata": {},
   "outputs": [
    {
     "name": "stdout",
     "output_type": "stream",
     "text": [
      "CPU times: user 11.1 s, sys: 104 ms, total: 11.2 s\n",
      "Wall time: 11.2 s\n"
     ]
    }
   ],
   "source": [
    "%%time\n",
    "Louvain('facebook_organizations','title')\n",
    "Louvain('facebook_organizations2','title')\n",
    "Louvain('facebook_organizations3','title')\n",
    "Louvain('facebook_organizations4','title')\n",
    "Louvain('facebook_organizations5','title')\n",
    "Louvain('facebook_organizations6','title')"
   ]
  },
  {
   "cell_type": "code",
   "execution_count": 7,
   "id": "56cb2613",
   "metadata": {},
   "outputs": [
    {
     "name": "stdout",
     "output_type": "stream",
     "text": [
      "CPU times: user 168 ms, sys: 1.95 ms, total: 170 ms\n",
      "Wall time: 172 ms\n"
     ]
    }
   ],
   "source": [
    "%%time\n",
    "Louvain('ego_social','title')"
   ]
  },
  {
   "cell_type": "code",
   "execution_count": 8,
   "id": "d5a528ef",
   "metadata": {},
   "outputs": [
    {
     "name": "stdout",
     "output_type": "stream",
     "text": [
      "CPU times: user 141 ms, sys: 1.52 ms, total: 143 ms\n",
      "Wall time: 143 ms\n"
     ]
    }
   ],
   "source": [
    "%%time\n",
    "Louvain('facebook_friends','title')"
   ]
  },
  {
   "cell_type": "code",
   "execution_count": 9,
   "id": "00966012",
   "metadata": {},
   "outputs": [
    {
     "name": "stdout",
     "output_type": "stream",
     "text": [
      "CPU times: user 311 ms, sys: 2.69 ms, total: 314 ms\n",
      "Wall time: 315 ms\n"
     ]
    }
   ],
   "source": [
    "%%time\n",
    "Louvain('uni_email','title')"
   ]
  },
  {
   "cell_type": "code",
   "execution_count": 10,
   "id": "5357d48e",
   "metadata": {},
   "outputs": [
    {
     "name": "stdout",
     "output_type": "stream",
     "text": [
      "CPU times: user 264 ms, sys: 3.45 ms, total: 267 ms\n",
      "Wall time: 268 ms\n"
     ]
    }
   ],
   "source": [
    "%%time\n",
    "Louvain('new_zealand_collab','title',ep_name = 'weight')"
   ]
  },
  {
   "cell_type": "code",
   "execution_count": 11,
   "id": "7062da95",
   "metadata": {},
   "outputs": [
    {
     "name": "stdout",
     "output_type": "stream",
     "text": [
      "CPU times: user 2.49 s, sys: 15.7 ms, total: 2.5 s\n",
      "Wall time: 2.51 s\n"
     ]
    }
   ],
   "source": [
    "%%time\n",
    "Louvain('advogato','title',ep_name = 'weight')"
   ]
  },
  {
   "cell_type": "code",
   "execution_count": 12,
   "id": "dd329d94",
   "metadata": {},
   "outputs": [
    {
     "name": "stdout",
     "output_type": "stream",
     "text": [
      "CPU times: user 2.42 s, sys: 21 ms, total: 2.44 s\n",
      "Wall time: 2.44 s\n"
     ]
    }
   ],
   "source": [
    "%%time\n",
    "Louvain('anybeat','title')"
   ]
  },
  {
   "cell_type": "code",
   "execution_count": 13,
   "id": "7eabab85",
   "metadata": {},
   "outputs": [
    {
     "name": "stdout",
     "output_type": "stream",
     "text": [
      "CPU times: user 3.67 s, sys: 20.3 ms, total: 3.69 s\n",
      "Wall time: 3.69 s\n"
     ]
    }
   ],
   "source": [
    "%%time\n",
    "Louvain('digg_reply','title',ep_name = 'weight')"
   ]
  },
  {
   "cell_type": "code",
   "execution_count": 14,
   "id": "3aa502a6",
   "metadata": {},
   "outputs": [
    {
     "name": "stdout",
     "output_type": "stream",
     "text": [
      "CPU times: user 4.31 s, sys: 27.2 ms, total: 4.33 s\n",
      "Wall time: 4.34 s\n"
     ]
    }
   ],
   "source": [
    "%%time\n",
    "Louvain('arxiv_collab','title',ep_name = 'value')"
   ]
  },
  {
   "cell_type": "code",
   "execution_count": 15,
   "id": "cad31d29",
   "metadata": {},
   "outputs": [
    {
     "name": "stdout",
     "output_type": "stream",
     "text": [
      "CPU times: user 3.24 s, sys: 19.6 ms, total: 3.26 s\n",
      "Wall time: 3.27 s\n"
     ]
    }
   ],
   "source": [
    "%%time\n",
    "Louvain('NYClimate','title',ep_name = 'weight')\n",
    "Louvain('Moscow','title',ep_name = 'weight')\n",
    "Louvain('MLKing','title',ep_name = 'weight')\n",
    "Louvain('Cannes','title',ep_name = 'weight')"
   ]
  },
  {
   "cell_type": "code",
   "execution_count": 16,
   "id": "3f5e1a5d",
   "metadata": {},
   "outputs": [
    {
     "name": "stdout",
     "output_type": "stream",
     "text": [
      "CPU times: user 409 ms, sys: 3.16 ms, total: 413 ms\n",
      "Wall time: 414 ms\n"
     ]
    }
   ],
   "source": [
    "%%time\n",
    "Louvain('NYClimatereply','title',ep_name = 'weight')\n",
    "Louvain('Moscowreply','title',ep_name = 'weight')\n",
    "Louvain('MLKingreply','title',ep_name = 'weight')\n",
    "Louvain('Cannesreply','title',ep_name = 'weight')"
   ]
  },
  {
   "cell_type": "code",
   "execution_count": 233,
   "id": "73acce30",
   "metadata": {},
   "outputs": [
    {
     "name": "stdout",
     "output_type": "stream",
     "text": [
      "CPU times: user 856 ms, sys: 11.4 ms, total: 867 ms\n",
      "Wall time: 867 ms\n"
     ]
    }
   ],
   "source": [
    "%%time\n",
    "Louvain('twitter','title')\n",
    "Louvain('ego_twitter','title')"
   ]
  },
  {
   "cell_type": "markdown",
   "id": "1a6f4823",
   "metadata": {},
   "source": [
    "## Infomap"
   ]
  },
  {
   "cell_type": "code",
   "execution_count": 234,
   "id": "4832b472",
   "metadata": {},
   "outputs": [],
   "source": [
    "def Infomap(fname,vp_name,ep_name = None):\n",
    "    path_data = \"../Data\"\n",
    "    fname_data = fname + \".xml.gz\"\n",
    "    filename = os.path.join(path_data,fname_data)\n",
    "\n",
    "    G_gt = gt.load_graph(filename)\n",
    "    G_nx = GM.convert_gt_to_nx(G_gt, vp_name=vp_name,ep_name=ep_name)\n",
    "    path_data = \"../Outputs\"\n",
    "\n",
    "    #Louvain\n",
    "    info_par = GM.Infomap_partition(G_nx)\n",
    "    path_data = \"../Outputs\"\n",
    "    name_data = fname + \"_info.list\"\n",
    "    filename = os.path.join(path_data,name_data)\n",
    "    with open(filename,\"wb\") as f:\n",
    "        pickle.dump(info_par,f)\n",
    "    return;"
   ]
  },
  {
   "cell_type": "code",
   "execution_count": 12,
   "id": "035171e9",
   "metadata": {},
   "outputs": [
    {
     "name": "stdout",
     "output_type": "stream",
     "text": [
      "CPU times: user 19.7 s, sys: 1.13 s, total: 20.8 s\n",
      "Wall time: 5.11 s\n"
     ]
    }
   ],
   "source": [
    "%%time\n",
    "Infomap('facebook_organizations','title')\n",
    "Infomap('facebook_organizations2','title')\n",
    "Infomap('facebook_organizations3','title')\n",
    "Infomap('facebook_organizations4','title')\n",
    "Infomap('facebook_organizations5','title')\n",
    "Infomap('facebook_organizations6','title')"
   ]
  },
  {
   "cell_type": "code",
   "execution_count": 13,
   "id": "92392211",
   "metadata": {},
   "outputs": [
    {
     "name": "stdout",
     "output_type": "stream",
     "text": [
      "CPU times: user 26.7 s, sys: 1.57 s, total: 28.3 s\n",
      "Wall time: 6.38 s\n"
     ]
    }
   ],
   "source": [
    "%%time\n",
    "Infomap('ego_social','title')\n",
    "Infomap('facebook_friends','title')\n",
    "Infomap('uni_email','title')\n",
    "Infomap('new_zealand_collab','title',ep_name = 'weight')\n",
    "Infomap('advogato','title',ep_name = 'weight')\n",
    "Infomap('anybeat','title')\n",
    "Infomap('digg_reply','title',ep_name = 'weight')\n",
    "Infomap('arxiv_collab','title',ep_name = 'value')"
   ]
  },
  {
   "cell_type": "code",
   "execution_count": 14,
   "id": "984d8e6c",
   "metadata": {},
   "outputs": [
    {
     "name": "stdout",
     "output_type": "stream",
     "text": [
      "CPU times: user 11.4 s, sys: 341 ms, total: 11.7 s\n",
      "Wall time: 1.9 s\n"
     ]
    }
   ],
   "source": [
    "%%time\n",
    "Infomap('NYClimate','title',ep_name = 'weight')\n",
    "Infomap('Moscow','title',ep_name = 'weight')\n",
    "Infomap('MLKing','title',ep_name = 'weight')\n",
    "Infomap('Cannes','title',ep_name = 'weight')"
   ]
  },
  {
   "cell_type": "code",
   "execution_count": 29,
   "id": "3384c046",
   "metadata": {},
   "outputs": [
    {
     "name": "stdout",
     "output_type": "stream",
     "text": [
      "CPU times: user 3.66 s, sys: 183 ms, total: 3.85 s\n",
      "Wall time: 276 ms\n"
     ]
    }
   ],
   "source": [
    "%%time\n",
    "Infomap('NYClimatereply','title',ep_name = 'weight')\n",
    "Infomap('Moscowreply','title',ep_name = 'weight')\n",
    "Infomap('MLKingreply','title',ep_name = 'weight')\n",
    "Infomap('Cannesreply','title',ep_name = 'weight')"
   ]
  },
  {
   "cell_type": "code",
   "execution_count": 235,
   "id": "3ba43e1c",
   "metadata": {},
   "outputs": [
    {
     "name": "stdout",
     "output_type": "stream",
     "text": [
      "CPU times: user 4.34 s, sys: 396 ms, total: 4.73 s\n",
      "Wall time: 718 ms\n"
     ]
    }
   ],
   "source": [
    "%%time\n",
    "Infomap('twitter','title')\n",
    "Infomap('ego_twitter','title')"
   ]
  },
  {
   "cell_type": "markdown",
   "id": "81f693d9",
   "metadata": {},
   "source": [
    "## Spectral Clustering"
   ]
  },
  {
   "cell_type": "code",
   "execution_count": 30,
   "id": "7d71f2f8",
   "metadata": {},
   "outputs": [],
   "source": [
    "def Spectral(fname,vp_name,ep_name = None):\n",
    "    path_data = \"../Data\"\n",
    "    fname_data = fname + \".xml.gz\"\n",
    "    filename = os.path.join(path_data,fname_data)\n",
    "\n",
    "    G_gt = gt.load_graph(filename)\n",
    "    G_nx =G_nx = GM.convert_gt_to_nx(G_gt, vp_name=vp_name,ep_name=ep_name)\n",
    "    path_data = \"../Outputs\"\n",
    "\n",
    "    #Louvain\n",
    "    spec_par = GM.Spectral_partition(G_nx)\n",
    "    path_data = \"../Outputs\"\n",
    "    name_data = fname + \"_spec.par\"\n",
    "    filename = os.path.join(path_data,name_data)\n",
    "    with open(filename,\"wb\") as f:\n",
    "        pickle.dump(spec_par,f)\n",
    "    return;"
   ]
  },
  {
   "cell_type": "code",
   "execution_count": 19,
   "id": "b9b5cb05",
   "metadata": {},
   "outputs": [
    {
     "name": "stdout",
     "output_type": "stream",
     "text": [
      "CPU times: user 13 s, sys: 9.25 s, total: 22.2 s\n",
      "Wall time: 5min 35s\n"
     ]
    }
   ],
   "source": [
    "%%time\n",
    "Spectral('facebook_organizations','title')\n",
    "Spectral('facebook_organizations2','title')\n",
    "Spectral('facebook_organizations3','title')\n",
    "Spectral('facebook_organizations4','title')\n",
    "Spectral('facebook_organizations5','title')\n",
    "Spectral('facebook_organizations6','title')"
   ]
  },
  {
   "cell_type": "code",
   "execution_count": 21,
   "id": "9e4e4607",
   "metadata": {},
   "outputs": [
    {
     "name": "stdout",
     "output_type": "stream",
     "text": [
      "CPU times: user 4.73 s, sys: 3.12 s, total: 7.85 s\n",
      "Wall time: 1min 8s\n"
     ]
    }
   ],
   "source": [
    "%%time\n",
    "Spectral('ego_social','title')\n",
    "Spectral('facebook_friends','title')\n",
    "Spectral('uni_email','title')\n",
    "Spectral('new_zealand_collab','title',ep_name = 'weight')\n",
    "Spectral('advogato','title',ep_name = 'weight')"
   ]
  },
  {
   "cell_type": "code",
   "execution_count": 22,
   "id": "b1344966",
   "metadata": {},
   "outputs": [
    {
     "name": "stdout",
     "output_type": "stream",
     "text": [
      "CPU times: user 5.52 s, sys: 4.46 s, total: 9.98 s\n",
      "Wall time: 1min 6s\n"
     ]
    }
   ],
   "source": [
    "%%time\n",
    "Spectral('anybeat','title')"
   ]
  },
  {
   "cell_type": "code",
   "execution_count": 23,
   "id": "42ca75ee",
   "metadata": {},
   "outputs": [
    {
     "name": "stdout",
     "output_type": "stream",
     "text": [
      "CPU times: user 3.88 s, sys: 2.89 s, total: 6.77 s\n",
      "Wall time: 35.8 s\n"
     ]
    }
   ],
   "source": [
    "%%time\n",
    "Spectral('digg_reply','title',ep_name = 'weight')"
   ]
  },
  {
   "cell_type": "code",
   "execution_count": 20,
   "id": "1e747176",
   "metadata": {},
   "outputs": [
    {
     "name": "stdout",
     "output_type": "stream",
     "text": [
      "CPU times: user 6.51 s, sys: 5 s, total: 11.5 s\n",
      "Wall time: 1min 43s\n"
     ]
    }
   ],
   "source": [
    "%%time\n",
    "Spectral('NYClimate','title',ep_name = 'weight')\n",
    "Spectral('Moscow','title',ep_name = 'weight')\n",
    "Spectral('MLKing','title',ep_name = 'weight')\n",
    "Spectral('Cannes','title',ep_name = 'weight')"
   ]
  },
  {
   "cell_type": "code",
   "execution_count": 31,
   "id": "14fdc1f1",
   "metadata": {},
   "outputs": [
    {
     "name": "stdout",
     "output_type": "stream",
     "text": [
      "CPU times: user 1.08 s, sys: 828 ms, total: 1.9 s\n",
      "Wall time: 18 s\n"
     ]
    }
   ],
   "source": [
    "%%time\n",
    "Spectral('NYClimatereply','title',ep_name = 'weight')\n",
    "Spectral('Moscowreply','title',ep_name = 'weight')\n",
    "Spectral('MLKingreply','title',ep_name = 'weight')\n",
    "Spectral('Cannesreply','title',ep_name = 'weight')"
   ]
  },
  {
   "cell_type": "markdown",
   "id": "e8df3a0f",
   "metadata": {},
   "source": [
    "# Statistics"
   ]
  },
  {
   "cell_type": "code",
   "execution_count": 13,
   "id": "b379443b",
   "metadata": {},
   "outputs": [],
   "source": [
    "df = pd.DataFrame({'Name': [],'vp_name':[],'ep_name':[],'Directed': [], 'N': [], 'E':[],\n",
    "                   'Community Size-SBM':[],'Community Size-SBM_DC':[],'Community Size-Louvain':[],\n",
    "                   'Community Size-Infomap':[],'Community Size-Spectral':[],\n",
    "                   'Community Eligible Size-SBM':[],'Community Eligible Size-SBM_DC':[],'Community Eligible Size-Louvain':[],\n",
    "                   'Community Eligible Size-Infomap':[],'Community Eligible Size-Spectral':[],\n",
    "                   'Description Length-SBM':[],'Description Length-SBM_DC':[],'Description Length-Louvain':[],\n",
    "                   'Description Length-Infomap':[],'Description Length-Spectral':[],\n",
    "                   'Modularity-SBM':[],'Modularity-SBM_DC':[],'Modularity-Louvain':[],'Modularity-Infomap':[],'Modularity-Spectral':[],\n",
    "                   'Interaction Fraction-SBM':[],'Interaction Fraction-SBM_DC':[],'Interaction Fraction-Louvain':[],\n",
    "                   'Interaction Fraction-Infomap':[],'Interaction Fraction-Spectral':[],\n",
    "                   'Community Fraction 1-SBM':[],'Community Fraction 1-SBM_DC':[],'Community Fraction 1-Louvain':[],\n",
    "                   'Community Fraction 1-Infomap':[],'Community Fraction 1-Spectral':[],\n",
    "                   'Community Fraction 2-SBM':[],'Community Fraction 2-SBM_DC':[],'Community Fraction 2-Louvain':[],\n",
    "                   'Community Fraction 2-Infomap':[],'Community Fraction 2-Spectral':[]})\n",
    "df = df.astype('object')\n",
    "df.to_csv('../Outputs/statistics.csv',index = False)"
   ]
  },
  {
   "cell_type": "code",
   "execution_count": 14,
   "id": "71c97259",
   "metadata": {},
   "outputs": [],
   "source": [
    "df = SS.stats(df,\"facebook_organizations\", vp_name = \"title\",ep_name = None,has_sbm = True,has_sbm_dc = True,has_louvain = True,has_info = True,has_spec=True)\n",
    "df = SS.stats(df,\"facebook_organizations2\", vp_name = \"title\",ep_name = None,has_sbm = True,has_sbm_dc = True,has_louvain = True,has_info = True,has_spec=True)\n",
    "df = SS.stats(df,\"facebook_organizations3\", vp_name = \"title\",ep_name = None,has_sbm = True,has_sbm_dc = True,has_louvain = True,has_info = True,has_spec=True)\n",
    "df = SS.stats(df,\"facebook_organizations4\", vp_name = \"title\",ep_name = None,has_sbm = True,has_sbm_dc = True,has_louvain = True,has_info = True,has_spec=True)\n",
    "df = SS.stats(df,\"facebook_organizations5\", vp_name = \"title\",ep_name = None,has_sbm = True,has_sbm_dc = True,has_louvain = True,has_info = True,has_spec=True)\n",
    "df = SS.stats(df,\"facebook_organizations6\", vp_name = \"title\",ep_name = None,has_sbm = True,has_sbm_dc = True,has_louvain = True,has_info = True,has_spec=True)\n",
    "df = SS.stats(df,\"ego_social\", vp_name = \"title\",ep_name = None,has_sbm = True,has_sbm_dc = True,has_louvain = True,has_info = True,has_spec=True)\n",
    "df = SS.stats(df,\"facebook_friends\", vp_name = \"title\",ep_name = None,has_sbm = True,has_sbm_dc = True,has_louvain = True,has_info = True,has_spec=True)\n",
    "df = SS.stats(df,\"uni_email\", vp_name = \"title\",ep_name = None,has_sbm = True,has_sbm_dc = True,has_louvain = True,has_info = True,has_spec=True)\n",
    "df = SS.stats(df,\"new_zealand_collab\", vp_name = \"title\",ep_name = 'weight',has_sbm = True,has_sbm_dc = True,has_louvain = True,has_info = True,has_spec=True)"
   ]
  },
  {
   "cell_type": "code",
   "execution_count": 15,
   "id": "e6eee4d2",
   "metadata": {},
   "outputs": [],
   "source": [
    "df = SS.stats(df,\"advogato\", vp_name = \"title\",ep_name = 'weight',has_sbm = True,has_sbm_dc = True,has_louvain = True,has_info = True,has_spec=True)\n",
    "df = SS.stats(df,\"anybeat\", vp_name = \"title\",ep_name = None,has_sbm = True,has_sbm_dc = True,has_louvain = True,has_info = True,has_spec=True)\n",
    "df = SS.stats(df,\"digg_reply\", vp_name = \"title\",ep_name = 'weight',has_sbm = True,has_sbm_dc = True,has_louvain = True,has_info = True,has_spec=True)\n",
    "df = SS.stats(df,\"arxiv_collab\", vp_name = \"title\",ep_name = 'value',has_sbm = True,has_sbm_dc = True,has_louvain = True,has_info = True,has_spec=False)"
   ]
  },
  {
   "cell_type": "code",
   "execution_count": 16,
   "id": "4df10c8a",
   "metadata": {},
   "outputs": [],
   "source": [
    "df = SS.stats(df,\"NYClimate\", vp_name = \"title\",ep_name = 'weight',has_sbm = True,has_sbm_dc = True,has_louvain = True,has_info = True,has_spec=True)\n",
    "df = SS.stats(df,\"Moscow\", vp_name = \"title\",ep_name = 'weight',has_sbm = True,has_sbm_dc = True,has_louvain = True,has_info = True,has_spec=True)\n",
    "df = SS.stats(df,\"MLKing\", vp_name = \"title\",ep_name = 'weight',has_sbm = True,has_sbm_dc = True,has_louvain = True,has_info = True,has_spec=True)\n",
    "df = SS.stats(df,\"Cannes\", vp_name = \"title\",ep_name = 'weight',has_sbm = True,has_sbm_dc = True,has_louvain = True,has_info = True,has_spec=True)"
   ]
  },
  {
   "cell_type": "code",
   "execution_count": 17,
   "id": "35f4ffe4",
   "metadata": {},
   "outputs": [],
   "source": [
    "df = SS.stats(df,\"NYClimatereply\", vp_name = \"title\",ep_name = 'weight',has_sbm = True,has_sbm_dc = True,has_louvain = True,has_info = True,has_spec=True)\n",
    "df = SS.stats(df,\"Moscowreply\", vp_name = \"title\",ep_name = 'weight',has_sbm = True,has_sbm_dc = True,has_louvain = True,has_info = True,has_spec=True)\n",
    "df = SS.stats(df,\"MLKingreply\", vp_name = \"title\",ep_name = 'weight',has_sbm = True,has_sbm_dc = True,has_louvain = True,has_info = True,has_spec=True)\n",
    "df = SS.stats(df,\"Cannesreply\", vp_name = \"title\",ep_name = 'weight',has_sbm = True,has_sbm_dc = True,has_louvain = True,has_info = True,has_spec=True)"
   ]
  },
  {
   "cell_type": "code",
   "execution_count": 18,
   "id": "26689a7a",
   "metadata": {},
   "outputs": [],
   "source": [
    "df = SS.stats(df,\"Slovenian\", vp_name = \"name\",ep_name = 'count',has_sbm = False,has_sbm_dc = True,has_louvain = False,has_info = False,has_spec=False)"
   ]
  },
  {
   "cell_type": "code",
   "execution_count": 19,
   "id": "45e6519b",
   "metadata": {},
   "outputs": [],
   "source": [
    "df = SS.stats(df,\"twitter\", vp_name = \"title\",ep_name = None,has_sbm = True,has_sbm_dc = True,has_louvain = True,has_info = True,has_spec=False)\n",
    "df = SS.stats(df,\"ego_twitter\", vp_name = \"title\",ep_name = None,has_sbm = True,has_sbm_dc = True,has_louvain = True,has_info = True,has_spec=False)"
   ]
  },
  {
   "cell_type": "code",
   "execution_count": 74,
   "id": "55e48a3b",
   "metadata": {},
   "outputs": [
    {
     "data": {
      "text/html": [
       "<div>\n",
       "<style scoped>\n",
       "    .dataframe tbody tr th:only-of-type {\n",
       "        vertical-align: middle;\n",
       "    }\n",
       "\n",
       "    .dataframe tbody tr th {\n",
       "        vertical-align: top;\n",
       "    }\n",
       "\n",
       "    .dataframe thead th {\n",
       "        text-align: right;\n",
       "    }\n",
       "</style>\n",
       "<table border=\"1\" class=\"dataframe\">\n",
       "  <thead>\n",
       "    <tr style=\"text-align: right;\">\n",
       "      <th></th>\n",
       "      <th>Name</th>\n",
       "      <th>vp_name</th>\n",
       "      <th>ep_name</th>\n",
       "      <th>Directed</th>\n",
       "      <th>N</th>\n",
       "      <th>E</th>\n",
       "      <th>Community Size-SBM</th>\n",
       "      <th>Community Size-SBM_DC</th>\n",
       "      <th>Community Size-Louvain</th>\n",
       "      <th>Community Size-Infomap</th>\n",
       "      <th>...</th>\n",
       "      <th>Community Fraction 1-SBM</th>\n",
       "      <th>Community Fraction 1-SBM_DC</th>\n",
       "      <th>Community Fraction 1-Louvain</th>\n",
       "      <th>Community Fraction 1-Infomap</th>\n",
       "      <th>Community Fraction 1-Spectral</th>\n",
       "      <th>Community Fraction 2-SBM</th>\n",
       "      <th>Community Fraction 2-SBM_DC</th>\n",
       "      <th>Community Fraction 2-Louvain</th>\n",
       "      <th>Community Fraction 2-Infomap</th>\n",
       "      <th>Community Fraction 2-Spectral</th>\n",
       "    </tr>\n",
       "  </thead>\n",
       "  <tbody>\n",
       "    <tr>\n",
       "      <th>0</th>\n",
       "      <td>facebook_organizations</td>\n",
       "      <td>title</td>\n",
       "      <td>None</td>\n",
       "      <td>False</td>\n",
       "      <td>320</td>\n",
       "      <td>2369</td>\n",
       "      <td>21</td>\n",
       "      <td>16</td>\n",
       "      <td>9</td>\n",
       "      <td>14</td>\n",
       "      <td>...</td>\n",
       "      <td>{'Assortative': 0.9999999999999999, 'Core-Peri...</td>\n",
       "      <td>{'Assortative': 0.9999999999999998, 'Core-Peri...</td>\n",
       "      <td>{'Assortative': 0.9999999999999998, 'Core-Peri...</td>\n",
       "      <td>{'Assortative': 0.9999999999999999, 'Core-Peri...</td>\n",
       "      <td>{'Assortative': 0.6000000000000001, 'Core-Peri...</td>\n",
       "      <td>{'Assortative': 0.9999999999999999, 'Core-Peri...</td>\n",
       "      <td>{'Assortative': 0.9999999999999998, 'Core-Peri...</td>\n",
       "      <td>{'Assortative': 0.9999999999999998, 'Core-Peri...</td>\n",
       "      <td>{'Assortative': 0.9999999999999999, 'Core-Peri...</td>\n",
       "      <td>{'Assortative': 0.8, 'Core-Periphery': 0, 'Dis...</td>\n",
       "    </tr>\n",
       "    <tr>\n",
       "      <th>1</th>\n",
       "      <td>facebook_organizations2</td>\n",
       "      <td>title</td>\n",
       "      <td>None</td>\n",
       "      <td>False</td>\n",
       "      <td>165</td>\n",
       "      <td>726</td>\n",
       "      <td>11</td>\n",
       "      <td>7</td>\n",
       "      <td>6</td>\n",
       "      <td>8</td>\n",
       "      <td>...</td>\n",
       "      <td>{'Assortative': 1.0, 'Core-Periphery': 0, 'Dis...</td>\n",
       "      <td>{'Assortative': 1.0, 'Core-Periphery': 0, 'Dis...</td>\n",
       "      <td>{'Assortative': 1.0, 'Core-Periphery': 0, 'Dis...</td>\n",
       "      <td>{'Assortative': 1.0, 'Core-Periphery': 0, 'Dis...</td>\n",
       "      <td>{'Assortative': 1.0, 'Core-Periphery': 0, 'Dis...</td>\n",
       "      <td>{'Assortative': 1.0, 'Core-Periphery': 0, 'Dis...</td>\n",
       "      <td>{'Assortative': 1.0, 'Core-Periphery': 0, 'Dis...</td>\n",
       "      <td>{'Assortative': 1.0, 'Core-Periphery': 0, 'Dis...</td>\n",
       "      <td>{'Assortative': 1.0, 'Core-Periphery': 0, 'Dis...</td>\n",
       "      <td>{'Assortative': 1.0, 'Core-Periphery': 0, 'Dis...</td>\n",
       "    </tr>\n",
       "    <tr>\n",
       "      <th>2</th>\n",
       "      <td>facebook_organizations3</td>\n",
       "      <td>title</td>\n",
       "      <td>None</td>\n",
       "      <td>False</td>\n",
       "      <td>1429</td>\n",
       "      <td>32876</td>\n",
       "      <td>86</td>\n",
       "      <td>72</td>\n",
       "      <td>9</td>\n",
       "      <td>32</td>\n",
       "      <td>...</td>\n",
       "      <td>{'Assortative': 0.6666666666666665, 'Core-Peri...</td>\n",
       "      <td>{'Assortative': 0.9999999999999996, 'Core-Peri...</td>\n",
       "      <td>{'Assortative': 1.0000000000000002, 'Core-Peri...</td>\n",
       "      <td>{'Assortative': 1.0, 'Core-Periphery': 0, 'Dis...</td>\n",
       "      <td>{'Assortative': 0.20833333333333331, 'Core-Per...</td>\n",
       "      <td>{'Assortative': 0.8148148148148144, 'Core-Peri...</td>\n",
       "      <td>{'Assortative': 0.9999999999999996, 'Core-Peri...</td>\n",
       "      <td>{'Assortative': 1.0000000000000002, 'Core-Peri...</td>\n",
       "      <td>{'Assortative': 1.0, 'Core-Periphery': 0, 'Dis...</td>\n",
       "      <td>{'Assortative': 0.9583333333333329, 'Core-Peri...</td>\n",
       "    </tr>\n",
       "    <tr>\n",
       "      <th>3</th>\n",
       "      <td>facebook_organizations4</td>\n",
       "      <td>title</td>\n",
       "      <td>None</td>\n",
       "      <td>False</td>\n",
       "      <td>3862</td>\n",
       "      <td>87324</td>\n",
       "      <td>145</td>\n",
       "      <td>130</td>\n",
       "      <td>13</td>\n",
       "      <td>37</td>\n",
       "      <td>...</td>\n",
       "      <td>{'Assortative': 0.7228915662650607, 'Core-Peri...</td>\n",
       "      <td>{'Assortative': 0.9787234042553176, 'Core-Peri...</td>\n",
       "      <td>{'Assortative': 0.9999999999999998, 'Core-Peri...</td>\n",
       "      <td>{'Assortative': 1.0, 'Core-Periphery': 0, 'Dis...</td>\n",
       "      <td>{'Assortative': 0.31818181818181807, 'Core-Per...</td>\n",
       "      <td>{'Assortative': 0.8554216867469888, 'Core-Peri...</td>\n",
       "      <td>{'Assortative': 0.989361702127658, 'Core-Perip...</td>\n",
       "      <td>{'Assortative': 0.9999999999999998, 'Core-Peri...</td>\n",
       "      <td>{'Assortative': 1.0, 'Core-Periphery': 0, 'Dis...</td>\n",
       "      <td>{'Assortative': 0.8863636363636358, 'Core-Peri...</td>\n",
       "    </tr>\n",
       "    <tr>\n",
       "      <th>4</th>\n",
       "      <td>facebook_organizations5</td>\n",
       "      <td>title</td>\n",
       "      <td>None</td>\n",
       "      <td>False</td>\n",
       "      <td>5793</td>\n",
       "      <td>45266</td>\n",
       "      <td>68</td>\n",
       "      <td>50</td>\n",
       "      <td>20</td>\n",
       "      <td>248</td>\n",
       "      <td>...</td>\n",
       "      <td>{'Assortative': 0.5000000000000001, 'Core-Peri...</td>\n",
       "      <td>{'Assortative': 0.8108108108108103, 'Core-Peri...</td>\n",
       "      <td>{'Assortative': 0.9999999999999999, 'Core-Peri...</td>\n",
       "      <td>{'Assortative': 0.9999999999999982, 'Core-Peri...</td>\n",
       "      <td>{'Assortative': 0.2058823529411765, 'Core-Peri...</td>\n",
       "      <td>{'Assortative': 0.7500000000000003, 'Core-Peri...</td>\n",
       "      <td>{'Assortative': 0.9189189189189182, 'Core-Peri...</td>\n",
       "      <td>{'Assortative': 0.9999999999999999, 'Core-Peri...</td>\n",
       "      <td>{'Assortative': 0.9999999999999982, 'Core-Peri...</td>\n",
       "      <td>{'Assortative': 0.8823529411764707, 'Core-Peri...</td>\n",
       "    </tr>\n",
       "    <tr>\n",
       "      <th>5</th>\n",
       "      <td>facebook_organizations6</td>\n",
       "      <td>title</td>\n",
       "      <td>None</td>\n",
       "      <td>False</td>\n",
       "      <td>5524</td>\n",
       "      <td>94218</td>\n",
       "      <td>126</td>\n",
       "      <td>107</td>\n",
       "      <td>10</td>\n",
       "      <td>51</td>\n",
       "      <td>...</td>\n",
       "      <td>{'Assortative': 0.3936170212765958, 'Core-Peri...</td>\n",
       "      <td>{'Assortative': 0.9999999999999993, 'Core-Peri...</td>\n",
       "      <td>{'Assortative': 0.9999999999999999, 'Core-Peri...</td>\n",
       "      <td>{'Assortative': 1.0000000000000004, 'Core-Peri...</td>\n",
       "      <td>{'Assortative': 0.32673267326732686, 'Core-Per...</td>\n",
       "      <td>{'Assortative': 0.6702127659574464, 'Core-Peri...</td>\n",
       "      <td>{'Assortative': 0.9999999999999993, 'Core-Peri...</td>\n",
       "      <td>{'Assortative': 0.9999999999999999, 'Core-Peri...</td>\n",
       "      <td>{'Assortative': 1.0000000000000004, 'Core-Peri...</td>\n",
       "      <td>{'Assortative': 0.9108910891089115, 'Core-Peri...</td>\n",
       "    </tr>\n",
       "    <tr>\n",
       "      <th>6</th>\n",
       "      <td>ego_social</td>\n",
       "      <td>title</td>\n",
       "      <td>None</td>\n",
       "      <td>False</td>\n",
       "      <td>324</td>\n",
       "      <td>2514</td>\n",
       "      <td>19</td>\n",
       "      <td>11</td>\n",
       "      <td>10</td>\n",
       "      <td>16</td>\n",
       "      <td>...</td>\n",
       "      <td>{'Assortative': 1.0, 'Core-Periphery': 0, 'Dis...</td>\n",
       "      <td>{'Assortative': 0.9999999999999998, 'Core-Peri...</td>\n",
       "      <td>{'Assortative': 0.9999999999999998, 'Core-Peri...</td>\n",
       "      <td>{'Assortative': 1.0, 'Core-Periphery': 0, 'Dis...</td>\n",
       "      <td>{'Assortative': 0.3333333333333333, 'Core-Peri...</td>\n",
       "      <td>{'Assortative': 1.0, 'Core-Periphery': 0, 'Dis...</td>\n",
       "      <td>{'Assortative': 0.9999999999999998, 'Core-Peri...</td>\n",
       "      <td>{'Assortative': 0.9999999999999998, 'Core-Peri...</td>\n",
       "      <td>{'Assortative': 1.0, 'Core-Periphery': 0, 'Dis...</td>\n",
       "      <td>{'Assortative': 0.6666666666666666, 'Core-Peri...</td>\n",
       "    </tr>\n",
       "    <tr>\n",
       "      <th>7</th>\n",
       "      <td>facebook_friends</td>\n",
       "      <td>title</td>\n",
       "      <td>None</td>\n",
       "      <td>False</td>\n",
       "      <td>329</td>\n",
       "      <td>1954</td>\n",
       "      <td>14</td>\n",
       "      <td>12</td>\n",
       "      <td>9</td>\n",
       "      <td>21</td>\n",
       "      <td>...</td>\n",
       "      <td>{'Assortative': 1.0, 'Core-Periphery': 0, 'Dis...</td>\n",
       "      <td>{'Assortative': 1.0000000000000002, 'Core-Peri...</td>\n",
       "      <td>{'Assortative': 1.0, 'Core-Periphery': 0, 'Dis...</td>\n",
       "      <td>{'Assortative': 1.0, 'Core-Periphery': 0, 'Dis...</td>\n",
       "      <td>{'Assortative': 0.5, 'Core-Periphery': 0.5, 'D...</td>\n",
       "      <td>{'Assortative': 1.0, 'Core-Periphery': 0, 'Dis...</td>\n",
       "      <td>{'Assortative': 1.0000000000000002, 'Core-Peri...</td>\n",
       "      <td>{'Assortative': 1.0, 'Core-Periphery': 0, 'Dis...</td>\n",
       "      <td>{'Assortative': 1.0, 'Core-Periphery': 0, 'Dis...</td>\n",
       "      <td>{'Assortative': 0.75, 'Core-Periphery': 0, 'Di...</td>\n",
       "    </tr>\n",
       "    <tr>\n",
       "      <th>8</th>\n",
       "      <td>uni_email</td>\n",
       "      <td>title</td>\n",
       "      <td>None</td>\n",
       "      <td>True</td>\n",
       "      <td>1133</td>\n",
       "      <td>10902</td>\n",
       "      <td>39</td>\n",
       "      <td>26</td>\n",
       "      <td>12</td>\n",
       "      <td>48</td>\n",
       "      <td>...</td>\n",
       "      <td>{'Assortative': 0.30434782608695654, 'Core-Per...</td>\n",
       "      <td>{'Assortative': 0.9999999999999997, 'Core-Peri...</td>\n",
       "      <td>{'Assortative': 1.0, 'Core-Periphery': 0, 'Dis...</td>\n",
       "      <td>{'Assortative': 1.0000000000000002, 'Core-Peri...</td>\n",
       "      <td>{'Assortative': 0.125, 'Core-Periphery': 0.875...</td>\n",
       "      <td>{'Assortative': 0.7826086956521736, 'Core-Peri...</td>\n",
       "      <td>{'Assortative': 0.9999999999999997, 'Core-Peri...</td>\n",
       "      <td>{'Assortative': 1.0, 'Core-Periphery': 0, 'Dis...</td>\n",
       "      <td>{'Assortative': 1.0000000000000002, 'Core-Peri...</td>\n",
       "      <td>{'Assortative': 0.875, 'Core-Periphery': 0, 'D...</td>\n",
       "    </tr>\n",
       "    <tr>\n",
       "      <th>9</th>\n",
       "      <td>new_zealand_collab</td>\n",
       "      <td>title</td>\n",
       "      <td>weight</td>\n",
       "      <td>False</td>\n",
       "      <td>1463</td>\n",
       "      <td>4246</td>\n",
       "      <td>43</td>\n",
       "      <td>32</td>\n",
       "      <td>8</td>\n",
       "      <td>69</td>\n",
       "      <td>...</td>\n",
       "      <td>{'Assortative': 0.1, 'Core-Periphery': 0.89999...</td>\n",
       "      <td>{'Assortative': 0.7272727272727274, 'Core-Peri...</td>\n",
       "      <td>{'Assortative': 1.0, 'Core-Periphery': 0, 'Dis...</td>\n",
       "      <td>0</td>\n",
       "      <td>{'Assortative': 1.0, 'Core-Periphery': 0, 'Dis...</td>\n",
       "      <td>{'Assortative': 0.6, 'Core-Periphery': 0, 'Dis...</td>\n",
       "      <td>{'Assortative': 0.8181818181818183, 'Core-Peri...</td>\n",
       "      <td>{'Assortative': 1.0, 'Core-Periphery': 0, 'Dis...</td>\n",
       "      <td>0</td>\n",
       "      <td>{'Assortative': 1.0, 'Core-Periphery': 0, 'Dis...</td>\n",
       "    </tr>\n",
       "    <tr>\n",
       "      <th>10</th>\n",
       "      <td>advogato</td>\n",
       "      <td>title</td>\n",
       "      <td>weight</td>\n",
       "      <td>True</td>\n",
       "      <td>3140</td>\n",
       "      <td>39995</td>\n",
       "      <td>73</td>\n",
       "      <td>53</td>\n",
       "      <td>14</td>\n",
       "      <td>178</td>\n",
       "      <td>...</td>\n",
       "      <td>{'Assortative': 0.4000000000000001, 'Core-Peri...</td>\n",
       "      <td>{'Assortative': 0.7826086956521735, 'Core-Peri...</td>\n",
       "      <td>{'Assortative': 0.9999999999999998, 'Core-Peri...</td>\n",
       "      <td>{'Assortative': 1.0000000000000002, 'Core-Peri...</td>\n",
       "      <td>{'Assortative': 0, 'Core-Periphery': 0.9999999...</td>\n",
       "      <td>{'Assortative': 0.7750000000000004, 'Core-Peri...</td>\n",
       "      <td>{'Assortative': 0.8695652173913039, 'Core-Peri...</td>\n",
       "      <td>{'Assortative': 0.9999999999999998, 'Core-Peri...</td>\n",
       "      <td>{'Assortative': 1.0000000000000002, 'Core-Peri...</td>\n",
       "      <td>{'Assortative': 0.9354838709677413, 'Core-Peri...</td>\n",
       "    </tr>\n",
       "    <tr>\n",
       "      <th>11</th>\n",
       "      <td>anybeat</td>\n",
       "      <td>title</td>\n",
       "      <td>None</td>\n",
       "      <td>True</td>\n",
       "      <td>8518</td>\n",
       "      <td>58799</td>\n",
       "      <td>71</td>\n",
       "      <td>47</td>\n",
       "      <td>28</td>\n",
       "      <td>541</td>\n",
       "      <td>...</td>\n",
       "      <td>{'Assortative': 0, 'Core-Periphery': 0.6410256...</td>\n",
       "      <td>{'Assortative': 0, 'Core-Periphery': 0.8235294...</td>\n",
       "      <td>{'Assortative': 1.0, 'Core-Periphery': 0, 'Dis...</td>\n",
       "      <td>{'Assortative': 0.921568627450981, 'Core-Perip...</td>\n",
       "      <td>{'Assortative': 0, 'Core-Periphery': 0.7142857...</td>\n",
       "      <td>{'Assortative': 0.3076923076923077, 'Core-Peri...</td>\n",
       "      <td>{'Assortative': 0.5, 'Core-Periphery': 0, 'Dis...</td>\n",
       "      <td>{'Assortative': 1.0, 'Core-Periphery': 0, 'Dis...</td>\n",
       "      <td>{'Assortative': 0.9607843137254909, 'Core-Peri...</td>\n",
       "      <td>{'Assortative': 0.42857142857142855, 'Core-Per...</td>\n",
       "    </tr>\n",
       "    <tr>\n",
       "      <th>12</th>\n",
       "      <td>digg_reply</td>\n",
       "      <td>title</td>\n",
       "      <td>weight</td>\n",
       "      <td>True</td>\n",
       "      <td>6746</td>\n",
       "      <td>33477</td>\n",
       "      <td>11</td>\n",
       "      <td>2</td>\n",
       "      <td>21</td>\n",
       "      <td>564</td>\n",
       "      <td>...</td>\n",
       "      <td>{'Assortative': 0, 'Core-Periphery': 1.0000000...</td>\n",
       "      <td>{'Assortative': 0, 'Core-Periphery': 1.0, 'Dis...</td>\n",
       "      <td>{'Assortative': 1.0000000000000002, 'Core-Peri...</td>\n",
       "      <td>{'Assortative': 1.0000000000000016, 'Core-Peri...</td>\n",
       "      <td>{'Assortative': 1.0, 'Core-Periphery': 0, 'Dis...</td>\n",
       "      <td>{'Assortative': 0, 'Core-Periphery': 0, 'Disas...</td>\n",
       "      <td>{'Assortative': 0.5, 'Core-Periphery': 0, 'Dis...</td>\n",
       "      <td>{'Assortative': 1.0000000000000002, 'Core-Peri...</td>\n",
       "      <td>{'Assortative': 1.0000000000000016, 'Core-Peri...</td>\n",
       "      <td>{'Assortative': 1.0, 'Core-Periphery': 0, 'Dis...</td>\n",
       "    </tr>\n",
       "    <tr>\n",
       "      <th>13</th>\n",
       "      <td>arxiv_collab</td>\n",
       "      <td>title</td>\n",
       "      <td>value</td>\n",
       "      <td>False</td>\n",
       "      <td>13861</td>\n",
       "      <td>44619</td>\n",
       "      <td>131</td>\n",
       "      <td>119</td>\n",
       "      <td>77</td>\n",
       "      <td>1042</td>\n",
       "      <td>...</td>\n",
       "      <td>{'Assortative': 0.8803418803418797, 'Core-Peri...</td>\n",
       "      <td>{'Assortative': 0.9999999999999981, 'Core-Peri...</td>\n",
       "      <td>{'Assortative': 0.9999999999999987, 'Core-Peri...</td>\n",
       "      <td>{'Assortative': 1.0000000000000033, 'Core-Peri...</td>\n",
       "      <td>NaN</td>\n",
       "      <td>{'Assortative': 0.9401709401709393, 'Core-Peri...</td>\n",
       "      <td>{'Assortative': 0.9999999999999981, 'Core-Peri...</td>\n",
       "      <td>{'Assortative': 0.9999999999999987, 'Core-Peri...</td>\n",
       "      <td>{'Assortative': 1.0000000000000033, 'Core-Peri...</td>\n",
       "      <td>NaN</td>\n",
       "    </tr>\n",
       "    <tr>\n",
       "      <th>14</th>\n",
       "      <td>NYClimate</td>\n",
       "      <td>title</td>\n",
       "      <td>weight</td>\n",
       "      <td>True</td>\n",
       "      <td>3336</td>\n",
       "      <td>22245</td>\n",
       "      <td>44</td>\n",
       "      <td>50</td>\n",
       "      <td>15</td>\n",
       "      <td>265</td>\n",
       "      <td>...</td>\n",
       "      <td>{'Assortative': 0.04, 'Core-Periphery': 0.9600...</td>\n",
       "      <td>{'Assortative': 0.36363636363636354, 'Core-Per...</td>\n",
       "      <td>{'Assortative': 0.9999999999999998, 'Core-Peri...</td>\n",
       "      <td>{'Assortative': 0.9473684210526309, 'Core-Peri...</td>\n",
       "      <td>{'Assortative': 0, 'Core-Periphery': 1.0, 'Dis...</td>\n",
       "      <td>{'Assortative': 0.2, 'Core-Periphery': 0, 'Dis...</td>\n",
       "      <td>{'Assortative': 0.8181818181818177, 'Core-Peri...</td>\n",
       "      <td>{'Assortative': 0.9999999999999998, 'Core-Peri...</td>\n",
       "      <td>{'Assortative': 0.973684210526315, 'Core-Perip...</td>\n",
       "      <td>{'Assortative': 0.5, 'Core-Periphery': 0, 'Dis...</td>\n",
       "    </tr>\n",
       "    <tr>\n",
       "      <th>15</th>\n",
       "      <td>Moscow</td>\n",
       "      <td>title</td>\n",
       "      <td>weight</td>\n",
       "      <td>True</td>\n",
       "      <td>1564</td>\n",
       "      <td>7316</td>\n",
       "      <td>55</td>\n",
       "      <td>32</td>\n",
       "      <td>17</td>\n",
       "      <td>96</td>\n",
       "      <td>...</td>\n",
       "      <td>{'Assortative': 0.38888888888888895, 'Core-Per...</td>\n",
       "      <td>{'Assortative': 0.8947368421052628, 'Core-Peri...</td>\n",
       "      <td>{'Assortative': 0.9999999999999998, 'Core-Peri...</td>\n",
       "      <td>{'Assortative': 0.7857142857142855, 'Core-Peri...</td>\n",
       "      <td>{'Assortative': 0.15384615384615385, 'Core-Per...</td>\n",
       "      <td>{'Assortative': 0.6111111111111113, 'Core-Peri...</td>\n",
       "      <td>{'Assortative': 0.9473684210526312, 'Core-Peri...</td>\n",
       "      <td>{'Assortative': 0.9999999999999998, 'Core-Peri...</td>\n",
       "      <td>{'Assortative': 0.9285714285714283, 'Core-Peri...</td>\n",
       "      <td>{'Assortative': 0.9230769230769229, 'Core-Peri...</td>\n",
       "    </tr>\n",
       "    <tr>\n",
       "      <th>16</th>\n",
       "      <td>MLKing</td>\n",
       "      <td>title</td>\n",
       "      <td>weight</td>\n",
       "      <td>True</td>\n",
       "      <td>18</td>\n",
       "      <td>34</td>\n",
       "      <td>2</td>\n",
       "      <td>2</td>\n",
       "      <td>2</td>\n",
       "      <td>1</td>\n",
       "      <td>...</td>\n",
       "      <td>0</td>\n",
       "      <td>0</td>\n",
       "      <td>0</td>\n",
       "      <td>0</td>\n",
       "      <td>0</td>\n",
       "      <td>0</td>\n",
       "      <td>0</td>\n",
       "      <td>0</td>\n",
       "      <td>0</td>\n",
       "      <td>0</td>\n",
       "    </tr>\n",
       "    <tr>\n",
       "      <th>17</th>\n",
       "      <td>Cannes</td>\n",
       "      <td>title</td>\n",
       "      <td>weight</td>\n",
       "      <td>True</td>\n",
       "      <td>5805</td>\n",
       "      <td>29542</td>\n",
       "      <td>102</td>\n",
       "      <td>67</td>\n",
       "      <td>24</td>\n",
       "      <td>437</td>\n",
       "      <td>...</td>\n",
       "      <td>{'Assortative': 0.3035714285714285, 'Core-Peri...</td>\n",
       "      <td>{'Assortative': 0.9310344827586213, 'Core-Peri...</td>\n",
       "      <td>{'Assortative': 0.9999999999999996, 'Core-Peri...</td>\n",
       "      <td>{'Assortative': 0.9999999999999982, 'Core-Peri...</td>\n",
       "      <td>{'Assortative': 0.17857142857142855, 'Core-Per...</td>\n",
       "      <td>{'Assortative': 0.5178571428571427, 'Core-Peri...</td>\n",
       "      <td>{'Assortative': 0.965517241379311, 'Core-Perip...</td>\n",
       "      <td>{'Assortative': 0.9999999999999996, 'Core-Peri...</td>\n",
       "      <td>{'Assortative': 0.9999999999999982, 'Core-Peri...</td>\n",
       "      <td>{'Assortative': 0.964285714285714, 'Core-Perip...</td>\n",
       "    </tr>\n",
       "    <tr>\n",
       "      <th>18</th>\n",
       "      <td>NYClimatereply</td>\n",
       "      <td>title</td>\n",
       "      <td>weight</td>\n",
       "      <td>True</td>\n",
       "      <td>6</td>\n",
       "      <td>10</td>\n",
       "      <td>2</td>\n",
       "      <td>2</td>\n",
       "      <td>1</td>\n",
       "      <td>1</td>\n",
       "      <td>...</td>\n",
       "      <td>0</td>\n",
       "      <td>0</td>\n",
       "      <td>0</td>\n",
       "      <td>0</td>\n",
       "      <td>0</td>\n",
       "      <td>0</td>\n",
       "      <td>0</td>\n",
       "      <td>0</td>\n",
       "      <td>0</td>\n",
       "      <td>0</td>\n",
       "    </tr>\n",
       "    <tr>\n",
       "      <th>19</th>\n",
       "      <td>Moscowreply</td>\n",
       "      <td>title</td>\n",
       "      <td>weight</td>\n",
       "      <td>True</td>\n",
       "      <td>63</td>\n",
       "      <td>135</td>\n",
       "      <td>6</td>\n",
       "      <td>5</td>\n",
       "      <td>6</td>\n",
       "      <td>11</td>\n",
       "      <td>...</td>\n",
       "      <td>0</td>\n",
       "      <td>0</td>\n",
       "      <td>0</td>\n",
       "      <td>0</td>\n",
       "      <td>0</td>\n",
       "      <td>0</td>\n",
       "      <td>0</td>\n",
       "      <td>0</td>\n",
       "      <td>0</td>\n",
       "      <td>0</td>\n",
       "    </tr>\n",
       "    <tr>\n",
       "      <th>20</th>\n",
       "      <td>MLKingreply</td>\n",
       "      <td>title</td>\n",
       "      <td>weight</td>\n",
       "      <td>True</td>\n",
       "      <td>5</td>\n",
       "      <td>7</td>\n",
       "      <td>1</td>\n",
       "      <td>1</td>\n",
       "      <td>2</td>\n",
       "      <td>1</td>\n",
       "      <td>...</td>\n",
       "      <td>0</td>\n",
       "      <td>0</td>\n",
       "      <td>0</td>\n",
       "      <td>0</td>\n",
       "      <td>0</td>\n",
       "      <td>0</td>\n",
       "      <td>0</td>\n",
       "      <td>0</td>\n",
       "      <td>0</td>\n",
       "      <td>0</td>\n",
       "    </tr>\n",
       "    <tr>\n",
       "      <th>21</th>\n",
       "      <td>Cannesreply</td>\n",
       "      <td>title</td>\n",
       "      <td>weight</td>\n",
       "      <td>True</td>\n",
       "      <td>1813</td>\n",
       "      <td>4526</td>\n",
       "      <td>37</td>\n",
       "      <td>25</td>\n",
       "      <td>26</td>\n",
       "      <td>224</td>\n",
       "      <td>...</td>\n",
       "      <td>{'Assortative': 0.8095238095238098, 'Core-Peri...</td>\n",
       "      <td>{'Assortative': 0.9999999999999997, 'Core-Peri...</td>\n",
       "      <td>{'Assortative': 1.0000000000000004, 'Core-Peri...</td>\n",
       "      <td>{'Assortative': 1.0000000000000002, 'Core-Peri...</td>\n",
       "      <td>{'Assortative': 0.5294117647058824, 'Core-Peri...</td>\n",
       "      <td>{'Assortative': 0.9047619047619051, 'Core-Peri...</td>\n",
       "      <td>{'Assortative': 0.9999999999999997, 'Core-Peri...</td>\n",
       "      <td>{'Assortative': 1.0000000000000004, 'Core-Peri...</td>\n",
       "      <td>{'Assortative': 1.0000000000000002, 'Core-Peri...</td>\n",
       "      <td>{'Assortative': 0.823529411764706, 'Core-Perip...</td>\n",
       "    </tr>\n",
       "    <tr>\n",
       "      <th>22</th>\n",
       "      <td>Slovenian</td>\n",
       "      <td>name</td>\n",
       "      <td>count</td>\n",
       "      <td>True</td>\n",
       "      <td>25697</td>\n",
       "      <td>1053336</td>\n",
       "      <td>NaN</td>\n",
       "      <td>423</td>\n",
       "      <td>NaN</td>\n",
       "      <td>NaN</td>\n",
       "      <td>...</td>\n",
       "      <td>NaN</td>\n",
       "      <td>{'Assortative': 0, 'Core-Periphery': 0.0634146...</td>\n",
       "      <td>NaN</td>\n",
       "      <td>NaN</td>\n",
       "      <td>NaN</td>\n",
       "      <td>NaN</td>\n",
       "      <td>{'Assortative': 0, 'Core-Periphery': 0, 'Disas...</td>\n",
       "      <td>NaN</td>\n",
       "      <td>NaN</td>\n",
       "      <td>NaN</td>\n",
       "    </tr>\n",
       "    <tr>\n",
       "      <th>23</th>\n",
       "      <td>twitter</td>\n",
       "      <td>title</td>\n",
       "      <td>None</td>\n",
       "      <td>True</td>\n",
       "      <td>1726</td>\n",
       "      <td>6901</td>\n",
       "      <td>18</td>\n",
       "      <td>17</td>\n",
       "      <td>20</td>\n",
       "      <td>201</td>\n",
       "      <td>...</td>\n",
       "      <td>{'Assortative': 0, 'Core-Periphery': 0.4999999...</td>\n",
       "      <td>{'Assortative': 0.0625, 'Core-Periphery': 0.81...</td>\n",
       "      <td>{'Assortative': 1.0000000000000002, 'Core-Peri...</td>\n",
       "      <td>{'Assortative': 1.0, 'Core-Periphery': 0, 'Dis...</td>\n",
       "      <td>NaN</td>\n",
       "      <td>{'Assortative': 0.2857142857142857, 'Core-Peri...</td>\n",
       "      <td>{'Assortative': 0.75, 'Core-Periphery': 0, 'Di...</td>\n",
       "      <td>{'Assortative': 1.0000000000000002, 'Core-Peri...</td>\n",
       "      <td>{'Assortative': 1.0, 'Core-Periphery': 0, 'Dis...</td>\n",
       "      <td>NaN</td>\n",
       "    </tr>\n",
       "    <tr>\n",
       "      <th>24</th>\n",
       "      <td>ego_twitter</td>\n",
       "      <td>title</td>\n",
       "      <td>None</td>\n",
       "      <td>True</td>\n",
       "      <td>38</td>\n",
       "      <td>136</td>\n",
       "      <td>3</td>\n",
       "      <td>2</td>\n",
       "      <td>4</td>\n",
       "      <td>4</td>\n",
       "      <td>...</td>\n",
       "      <td>0</td>\n",
       "      <td>0</td>\n",
       "      <td>0</td>\n",
       "      <td>0</td>\n",
       "      <td>NaN</td>\n",
       "      <td>0</td>\n",
       "      <td>0</td>\n",
       "      <td>0</td>\n",
       "      <td>0</td>\n",
       "      <td>NaN</td>\n",
       "    </tr>\n",
       "  </tbody>\n",
       "</table>\n",
       "<p>25 rows × 41 columns</p>\n",
       "</div>"
      ],
      "text/plain": [
       "                       Name vp_name ep_name Directed      N        E  \\\n",
       "0    facebook_organizations   title    None    False    320     2369   \n",
       "1   facebook_organizations2   title    None    False    165      726   \n",
       "2   facebook_organizations3   title    None    False   1429    32876   \n",
       "3   facebook_organizations4   title    None    False   3862    87324   \n",
       "4   facebook_organizations5   title    None    False   5793    45266   \n",
       "5   facebook_organizations6   title    None    False   5524    94218   \n",
       "6                ego_social   title    None    False    324     2514   \n",
       "7          facebook_friends   title    None    False    329     1954   \n",
       "8                 uni_email   title    None     True   1133    10902   \n",
       "9        new_zealand_collab   title  weight    False   1463     4246   \n",
       "10                 advogato   title  weight     True   3140    39995   \n",
       "11                  anybeat   title    None     True   8518    58799   \n",
       "12               digg_reply   title  weight     True   6746    33477   \n",
       "13             arxiv_collab   title   value    False  13861    44619   \n",
       "14                NYClimate   title  weight     True   3336    22245   \n",
       "15                   Moscow   title  weight     True   1564     7316   \n",
       "16                   MLKing   title  weight     True     18       34   \n",
       "17                   Cannes   title  weight     True   5805    29542   \n",
       "18           NYClimatereply   title  weight     True      6       10   \n",
       "19              Moscowreply   title  weight     True     63      135   \n",
       "20              MLKingreply   title  weight     True      5        7   \n",
       "21              Cannesreply   title  weight     True   1813     4526   \n",
       "22                Slovenian    name   count     True  25697  1053336   \n",
       "23                  twitter   title    None     True   1726     6901   \n",
       "24              ego_twitter   title    None     True     38      136   \n",
       "\n",
       "   Community Size-SBM Community Size-SBM_DC Community Size-Louvain  \\\n",
       "0                  21                    16                      9   \n",
       "1                  11                     7                      6   \n",
       "2                  86                    72                      9   \n",
       "3                 145                   130                     13   \n",
       "4                  68                    50                     20   \n",
       "5                 126                   107                     10   \n",
       "6                  19                    11                     10   \n",
       "7                  14                    12                      9   \n",
       "8                  39                    26                     12   \n",
       "9                  43                    32                      8   \n",
       "10                 73                    53                     14   \n",
       "11                 71                    47                     28   \n",
       "12                 11                     2                     21   \n",
       "13                131                   119                     77   \n",
       "14                 44                    50                     15   \n",
       "15                 55                    32                     17   \n",
       "16                  2                     2                      2   \n",
       "17                102                    67                     24   \n",
       "18                  2                     2                      1   \n",
       "19                  6                     5                      6   \n",
       "20                  1                     1                      2   \n",
       "21                 37                    25                     26   \n",
       "22                NaN                   423                    NaN   \n",
       "23                 18                    17                     20   \n",
       "24                  3                     2                      4   \n",
       "\n",
       "   Community Size-Infomap  ...  \\\n",
       "0                      14  ...   \n",
       "1                       8  ...   \n",
       "2                      32  ...   \n",
       "3                      37  ...   \n",
       "4                     248  ...   \n",
       "5                      51  ...   \n",
       "6                      16  ...   \n",
       "7                      21  ...   \n",
       "8                      48  ...   \n",
       "9                      69  ...   \n",
       "10                    178  ...   \n",
       "11                    541  ...   \n",
       "12                    564  ...   \n",
       "13                   1042  ...   \n",
       "14                    265  ...   \n",
       "15                     96  ...   \n",
       "16                      1  ...   \n",
       "17                    437  ...   \n",
       "18                      1  ...   \n",
       "19                     11  ...   \n",
       "20                      1  ...   \n",
       "21                    224  ...   \n",
       "22                    NaN  ...   \n",
       "23                    201  ...   \n",
       "24                      4  ...   \n",
       "\n",
       "                             Community Fraction 1-SBM  \\\n",
       "0   {'Assortative': 0.9999999999999999, 'Core-Peri...   \n",
       "1   {'Assortative': 1.0, 'Core-Periphery': 0, 'Dis...   \n",
       "2   {'Assortative': 0.6666666666666665, 'Core-Peri...   \n",
       "3   {'Assortative': 0.7228915662650607, 'Core-Peri...   \n",
       "4   {'Assortative': 0.5000000000000001, 'Core-Peri...   \n",
       "5   {'Assortative': 0.3936170212765958, 'Core-Peri...   \n",
       "6   {'Assortative': 1.0, 'Core-Periphery': 0, 'Dis...   \n",
       "7   {'Assortative': 1.0, 'Core-Periphery': 0, 'Dis...   \n",
       "8   {'Assortative': 0.30434782608695654, 'Core-Per...   \n",
       "9   {'Assortative': 0.1, 'Core-Periphery': 0.89999...   \n",
       "10  {'Assortative': 0.4000000000000001, 'Core-Peri...   \n",
       "11  {'Assortative': 0, 'Core-Periphery': 0.6410256...   \n",
       "12  {'Assortative': 0, 'Core-Periphery': 1.0000000...   \n",
       "13  {'Assortative': 0.8803418803418797, 'Core-Peri...   \n",
       "14  {'Assortative': 0.04, 'Core-Periphery': 0.9600...   \n",
       "15  {'Assortative': 0.38888888888888895, 'Core-Per...   \n",
       "16                                                  0   \n",
       "17  {'Assortative': 0.3035714285714285, 'Core-Peri...   \n",
       "18                                                  0   \n",
       "19                                                  0   \n",
       "20                                                  0   \n",
       "21  {'Assortative': 0.8095238095238098, 'Core-Peri...   \n",
       "22                                                NaN   \n",
       "23  {'Assortative': 0, 'Core-Periphery': 0.4999999...   \n",
       "24                                                  0   \n",
       "\n",
       "                          Community Fraction 1-SBM_DC  \\\n",
       "0   {'Assortative': 0.9999999999999998, 'Core-Peri...   \n",
       "1   {'Assortative': 1.0, 'Core-Periphery': 0, 'Dis...   \n",
       "2   {'Assortative': 0.9999999999999996, 'Core-Peri...   \n",
       "3   {'Assortative': 0.9787234042553176, 'Core-Peri...   \n",
       "4   {'Assortative': 0.8108108108108103, 'Core-Peri...   \n",
       "5   {'Assortative': 0.9999999999999993, 'Core-Peri...   \n",
       "6   {'Assortative': 0.9999999999999998, 'Core-Peri...   \n",
       "7   {'Assortative': 1.0000000000000002, 'Core-Peri...   \n",
       "8   {'Assortative': 0.9999999999999997, 'Core-Peri...   \n",
       "9   {'Assortative': 0.7272727272727274, 'Core-Peri...   \n",
       "10  {'Assortative': 0.7826086956521735, 'Core-Peri...   \n",
       "11  {'Assortative': 0, 'Core-Periphery': 0.8235294...   \n",
       "12  {'Assortative': 0, 'Core-Periphery': 1.0, 'Dis...   \n",
       "13  {'Assortative': 0.9999999999999981, 'Core-Peri...   \n",
       "14  {'Assortative': 0.36363636363636354, 'Core-Per...   \n",
       "15  {'Assortative': 0.8947368421052628, 'Core-Peri...   \n",
       "16                                                  0   \n",
       "17  {'Assortative': 0.9310344827586213, 'Core-Peri...   \n",
       "18                                                  0   \n",
       "19                                                  0   \n",
       "20                                                  0   \n",
       "21  {'Assortative': 0.9999999999999997, 'Core-Peri...   \n",
       "22  {'Assortative': 0, 'Core-Periphery': 0.0634146...   \n",
       "23  {'Assortative': 0.0625, 'Core-Periphery': 0.81...   \n",
       "24                                                  0   \n",
       "\n",
       "                         Community Fraction 1-Louvain  \\\n",
       "0   {'Assortative': 0.9999999999999998, 'Core-Peri...   \n",
       "1   {'Assortative': 1.0, 'Core-Periphery': 0, 'Dis...   \n",
       "2   {'Assortative': 1.0000000000000002, 'Core-Peri...   \n",
       "3   {'Assortative': 0.9999999999999998, 'Core-Peri...   \n",
       "4   {'Assortative': 0.9999999999999999, 'Core-Peri...   \n",
       "5   {'Assortative': 0.9999999999999999, 'Core-Peri...   \n",
       "6   {'Assortative': 0.9999999999999998, 'Core-Peri...   \n",
       "7   {'Assortative': 1.0, 'Core-Periphery': 0, 'Dis...   \n",
       "8   {'Assortative': 1.0, 'Core-Periphery': 0, 'Dis...   \n",
       "9   {'Assortative': 1.0, 'Core-Periphery': 0, 'Dis...   \n",
       "10  {'Assortative': 0.9999999999999998, 'Core-Peri...   \n",
       "11  {'Assortative': 1.0, 'Core-Periphery': 0, 'Dis...   \n",
       "12  {'Assortative': 1.0000000000000002, 'Core-Peri...   \n",
       "13  {'Assortative': 0.9999999999999987, 'Core-Peri...   \n",
       "14  {'Assortative': 0.9999999999999998, 'Core-Peri...   \n",
       "15  {'Assortative': 0.9999999999999998, 'Core-Peri...   \n",
       "16                                                  0   \n",
       "17  {'Assortative': 0.9999999999999996, 'Core-Peri...   \n",
       "18                                                  0   \n",
       "19                                                  0   \n",
       "20                                                  0   \n",
       "21  {'Assortative': 1.0000000000000004, 'Core-Peri...   \n",
       "22                                                NaN   \n",
       "23  {'Assortative': 1.0000000000000002, 'Core-Peri...   \n",
       "24                                                  0   \n",
       "\n",
       "                         Community Fraction 1-Infomap  \\\n",
       "0   {'Assortative': 0.9999999999999999, 'Core-Peri...   \n",
       "1   {'Assortative': 1.0, 'Core-Periphery': 0, 'Dis...   \n",
       "2   {'Assortative': 1.0, 'Core-Periphery': 0, 'Dis...   \n",
       "3   {'Assortative': 1.0, 'Core-Periphery': 0, 'Dis...   \n",
       "4   {'Assortative': 0.9999999999999982, 'Core-Peri...   \n",
       "5   {'Assortative': 1.0000000000000004, 'Core-Peri...   \n",
       "6   {'Assortative': 1.0, 'Core-Periphery': 0, 'Dis...   \n",
       "7   {'Assortative': 1.0, 'Core-Periphery': 0, 'Dis...   \n",
       "8   {'Assortative': 1.0000000000000002, 'Core-Peri...   \n",
       "9                                                   0   \n",
       "10  {'Assortative': 1.0000000000000002, 'Core-Peri...   \n",
       "11  {'Assortative': 0.921568627450981, 'Core-Perip...   \n",
       "12  {'Assortative': 1.0000000000000016, 'Core-Peri...   \n",
       "13  {'Assortative': 1.0000000000000033, 'Core-Peri...   \n",
       "14  {'Assortative': 0.9473684210526309, 'Core-Peri...   \n",
       "15  {'Assortative': 0.7857142857142855, 'Core-Peri...   \n",
       "16                                                  0   \n",
       "17  {'Assortative': 0.9999999999999982, 'Core-Peri...   \n",
       "18                                                  0   \n",
       "19                                                  0   \n",
       "20                                                  0   \n",
       "21  {'Assortative': 1.0000000000000002, 'Core-Peri...   \n",
       "22                                                NaN   \n",
       "23  {'Assortative': 1.0, 'Core-Periphery': 0, 'Dis...   \n",
       "24                                                  0   \n",
       "\n",
       "                        Community Fraction 1-Spectral  \\\n",
       "0   {'Assortative': 0.6000000000000001, 'Core-Peri...   \n",
       "1   {'Assortative': 1.0, 'Core-Periphery': 0, 'Dis...   \n",
       "2   {'Assortative': 0.20833333333333331, 'Core-Per...   \n",
       "3   {'Assortative': 0.31818181818181807, 'Core-Per...   \n",
       "4   {'Assortative': 0.2058823529411765, 'Core-Peri...   \n",
       "5   {'Assortative': 0.32673267326732686, 'Core-Per...   \n",
       "6   {'Assortative': 0.3333333333333333, 'Core-Peri...   \n",
       "7   {'Assortative': 0.5, 'Core-Periphery': 0.5, 'D...   \n",
       "8   {'Assortative': 0.125, 'Core-Periphery': 0.875...   \n",
       "9   {'Assortative': 1.0, 'Core-Periphery': 0, 'Dis...   \n",
       "10  {'Assortative': 0, 'Core-Periphery': 0.9999999...   \n",
       "11  {'Assortative': 0, 'Core-Periphery': 0.7142857...   \n",
       "12  {'Assortative': 1.0, 'Core-Periphery': 0, 'Dis...   \n",
       "13                                                NaN   \n",
       "14  {'Assortative': 0, 'Core-Periphery': 1.0, 'Dis...   \n",
       "15  {'Assortative': 0.15384615384615385, 'Core-Per...   \n",
       "16                                                  0   \n",
       "17  {'Assortative': 0.17857142857142855, 'Core-Per...   \n",
       "18                                                  0   \n",
       "19                                                  0   \n",
       "20                                                  0   \n",
       "21  {'Assortative': 0.5294117647058824, 'Core-Peri...   \n",
       "22                                                NaN   \n",
       "23                                                NaN   \n",
       "24                                                NaN   \n",
       "\n",
       "                             Community Fraction 2-SBM  \\\n",
       "0   {'Assortative': 0.9999999999999999, 'Core-Peri...   \n",
       "1   {'Assortative': 1.0, 'Core-Periphery': 0, 'Dis...   \n",
       "2   {'Assortative': 0.8148148148148144, 'Core-Peri...   \n",
       "3   {'Assortative': 0.8554216867469888, 'Core-Peri...   \n",
       "4   {'Assortative': 0.7500000000000003, 'Core-Peri...   \n",
       "5   {'Assortative': 0.6702127659574464, 'Core-Peri...   \n",
       "6   {'Assortative': 1.0, 'Core-Periphery': 0, 'Dis...   \n",
       "7   {'Assortative': 1.0, 'Core-Periphery': 0, 'Dis...   \n",
       "8   {'Assortative': 0.7826086956521736, 'Core-Peri...   \n",
       "9   {'Assortative': 0.6, 'Core-Periphery': 0, 'Dis...   \n",
       "10  {'Assortative': 0.7750000000000004, 'Core-Peri...   \n",
       "11  {'Assortative': 0.3076923076923077, 'Core-Peri...   \n",
       "12  {'Assortative': 0, 'Core-Periphery': 0, 'Disas...   \n",
       "13  {'Assortative': 0.9401709401709393, 'Core-Peri...   \n",
       "14  {'Assortative': 0.2, 'Core-Periphery': 0, 'Dis...   \n",
       "15  {'Assortative': 0.6111111111111113, 'Core-Peri...   \n",
       "16                                                  0   \n",
       "17  {'Assortative': 0.5178571428571427, 'Core-Peri...   \n",
       "18                                                  0   \n",
       "19                                                  0   \n",
       "20                                                  0   \n",
       "21  {'Assortative': 0.9047619047619051, 'Core-Peri...   \n",
       "22                                                NaN   \n",
       "23  {'Assortative': 0.2857142857142857, 'Core-Peri...   \n",
       "24                                                  0   \n",
       "\n",
       "                          Community Fraction 2-SBM_DC  \\\n",
       "0   {'Assortative': 0.9999999999999998, 'Core-Peri...   \n",
       "1   {'Assortative': 1.0, 'Core-Periphery': 0, 'Dis...   \n",
       "2   {'Assortative': 0.9999999999999996, 'Core-Peri...   \n",
       "3   {'Assortative': 0.989361702127658, 'Core-Perip...   \n",
       "4   {'Assortative': 0.9189189189189182, 'Core-Peri...   \n",
       "5   {'Assortative': 0.9999999999999993, 'Core-Peri...   \n",
       "6   {'Assortative': 0.9999999999999998, 'Core-Peri...   \n",
       "7   {'Assortative': 1.0000000000000002, 'Core-Peri...   \n",
       "8   {'Assortative': 0.9999999999999997, 'Core-Peri...   \n",
       "9   {'Assortative': 0.8181818181818183, 'Core-Peri...   \n",
       "10  {'Assortative': 0.8695652173913039, 'Core-Peri...   \n",
       "11  {'Assortative': 0.5, 'Core-Periphery': 0, 'Dis...   \n",
       "12  {'Assortative': 0.5, 'Core-Periphery': 0, 'Dis...   \n",
       "13  {'Assortative': 0.9999999999999981, 'Core-Peri...   \n",
       "14  {'Assortative': 0.8181818181818177, 'Core-Peri...   \n",
       "15  {'Assortative': 0.9473684210526312, 'Core-Peri...   \n",
       "16                                                  0   \n",
       "17  {'Assortative': 0.965517241379311, 'Core-Perip...   \n",
       "18                                                  0   \n",
       "19                                                  0   \n",
       "20                                                  0   \n",
       "21  {'Assortative': 0.9999999999999997, 'Core-Peri...   \n",
       "22  {'Assortative': 0, 'Core-Periphery': 0, 'Disas...   \n",
       "23  {'Assortative': 0.75, 'Core-Periphery': 0, 'Di...   \n",
       "24                                                  0   \n",
       "\n",
       "                         Community Fraction 2-Louvain  \\\n",
       "0   {'Assortative': 0.9999999999999998, 'Core-Peri...   \n",
       "1   {'Assortative': 1.0, 'Core-Periphery': 0, 'Dis...   \n",
       "2   {'Assortative': 1.0000000000000002, 'Core-Peri...   \n",
       "3   {'Assortative': 0.9999999999999998, 'Core-Peri...   \n",
       "4   {'Assortative': 0.9999999999999999, 'Core-Peri...   \n",
       "5   {'Assortative': 0.9999999999999999, 'Core-Peri...   \n",
       "6   {'Assortative': 0.9999999999999998, 'Core-Peri...   \n",
       "7   {'Assortative': 1.0, 'Core-Periphery': 0, 'Dis...   \n",
       "8   {'Assortative': 1.0, 'Core-Periphery': 0, 'Dis...   \n",
       "9   {'Assortative': 1.0, 'Core-Periphery': 0, 'Dis...   \n",
       "10  {'Assortative': 0.9999999999999998, 'Core-Peri...   \n",
       "11  {'Assortative': 1.0, 'Core-Periphery': 0, 'Dis...   \n",
       "12  {'Assortative': 1.0000000000000002, 'Core-Peri...   \n",
       "13  {'Assortative': 0.9999999999999987, 'Core-Peri...   \n",
       "14  {'Assortative': 0.9999999999999998, 'Core-Peri...   \n",
       "15  {'Assortative': 0.9999999999999998, 'Core-Peri...   \n",
       "16                                                  0   \n",
       "17  {'Assortative': 0.9999999999999996, 'Core-Peri...   \n",
       "18                                                  0   \n",
       "19                                                  0   \n",
       "20                                                  0   \n",
       "21  {'Assortative': 1.0000000000000004, 'Core-Peri...   \n",
       "22                                                NaN   \n",
       "23  {'Assortative': 1.0000000000000002, 'Core-Peri...   \n",
       "24                                                  0   \n",
       "\n",
       "                         Community Fraction 2-Infomap  \\\n",
       "0   {'Assortative': 0.9999999999999999, 'Core-Peri...   \n",
       "1   {'Assortative': 1.0, 'Core-Periphery': 0, 'Dis...   \n",
       "2   {'Assortative': 1.0, 'Core-Periphery': 0, 'Dis...   \n",
       "3   {'Assortative': 1.0, 'Core-Periphery': 0, 'Dis...   \n",
       "4   {'Assortative': 0.9999999999999982, 'Core-Peri...   \n",
       "5   {'Assortative': 1.0000000000000004, 'Core-Peri...   \n",
       "6   {'Assortative': 1.0, 'Core-Periphery': 0, 'Dis...   \n",
       "7   {'Assortative': 1.0, 'Core-Periphery': 0, 'Dis...   \n",
       "8   {'Assortative': 1.0000000000000002, 'Core-Peri...   \n",
       "9                                                   0   \n",
       "10  {'Assortative': 1.0000000000000002, 'Core-Peri...   \n",
       "11  {'Assortative': 0.9607843137254909, 'Core-Peri...   \n",
       "12  {'Assortative': 1.0000000000000016, 'Core-Peri...   \n",
       "13  {'Assortative': 1.0000000000000033, 'Core-Peri...   \n",
       "14  {'Assortative': 0.973684210526315, 'Core-Perip...   \n",
       "15  {'Assortative': 0.9285714285714283, 'Core-Peri...   \n",
       "16                                                  0   \n",
       "17  {'Assortative': 0.9999999999999982, 'Core-Peri...   \n",
       "18                                                  0   \n",
       "19                                                  0   \n",
       "20                                                  0   \n",
       "21  {'Assortative': 1.0000000000000002, 'Core-Peri...   \n",
       "22                                                NaN   \n",
       "23  {'Assortative': 1.0, 'Core-Periphery': 0, 'Dis...   \n",
       "24                                                  0   \n",
       "\n",
       "                        Community Fraction 2-Spectral  \n",
       "0   {'Assortative': 0.8, 'Core-Periphery': 0, 'Dis...  \n",
       "1   {'Assortative': 1.0, 'Core-Periphery': 0, 'Dis...  \n",
       "2   {'Assortative': 0.9583333333333329, 'Core-Peri...  \n",
       "3   {'Assortative': 0.8863636363636358, 'Core-Peri...  \n",
       "4   {'Assortative': 0.8823529411764707, 'Core-Peri...  \n",
       "5   {'Assortative': 0.9108910891089115, 'Core-Peri...  \n",
       "6   {'Assortative': 0.6666666666666666, 'Core-Peri...  \n",
       "7   {'Assortative': 0.75, 'Core-Periphery': 0, 'Di...  \n",
       "8   {'Assortative': 0.875, 'Core-Periphery': 0, 'D...  \n",
       "9   {'Assortative': 1.0, 'Core-Periphery': 0, 'Dis...  \n",
       "10  {'Assortative': 0.9354838709677413, 'Core-Peri...  \n",
       "11  {'Assortative': 0.42857142857142855, 'Core-Per...  \n",
       "12  {'Assortative': 1.0, 'Core-Periphery': 0, 'Dis...  \n",
       "13                                                NaN  \n",
       "14  {'Assortative': 0.5, 'Core-Periphery': 0, 'Dis...  \n",
       "15  {'Assortative': 0.9230769230769229, 'Core-Peri...  \n",
       "16                                                  0  \n",
       "17  {'Assortative': 0.964285714285714, 'Core-Perip...  \n",
       "18                                                  0  \n",
       "19                                                  0  \n",
       "20                                                  0  \n",
       "21  {'Assortative': 0.823529411764706, 'Core-Perip...  \n",
       "22                                                NaN  \n",
       "23                                                NaN  \n",
       "24                                                NaN  \n",
       "\n",
       "[25 rows x 41 columns]"
      ]
     },
     "execution_count": 74,
     "metadata": {},
     "output_type": "execute_result"
    }
   ],
   "source": [
    "df"
   ]
  },
  {
   "cell_type": "code",
   "execution_count": 20,
   "id": "05591b46",
   "metadata": {},
   "outputs": [],
   "source": [
    "df.to_csv('../Outputs/statistics.csv',index = False)"
   ]
  },
  {
   "cell_type": "code",
   "execution_count": 8,
   "id": "41a6fb3f",
   "metadata": {},
   "outputs": [],
   "source": [
    "df = pd.read_csv('../Outputs/statistics.csv')"
   ]
  },
  {
   "cell_type": "code",
   "execution_count": 9,
   "id": "831431fa",
   "metadata": {},
   "outputs": [],
   "source": [
    "newdf = df.drop([16,18,19,20,22,24], axis=0, inplace=False)"
   ]
  },
  {
   "cell_type": "code",
   "execution_count": 22,
   "id": "3d054230",
   "metadata": {},
   "outputs": [
    {
     "data": {
      "text/plain": [
       "Text(0.5, 1.0, 'N vs Community Size')"
      ]
     },
     "execution_count": 22,
     "metadata": {},
     "output_type": "execute_result"
    },
    {
     "data": {
      "image/png": "[encoded data removed]",
      "text/plain": [
       "<Figure size 432x288 with 1 Axes>"
      ]
     },
     "metadata": {},
     "output_type": "display_data"
    }
   ],
   "source": [
    "plt.plot(newdf['N'],newdf['Community Size-SBM_DC'],\"o\")\n",
    "plt.plot(newdf['N'],newdf['Community Size-Louvain'],\"*\")\n",
    "plt.plot(newdf['N'],newdf['Community Size-Infomap'],\"+\")\n",
    "plt.plot(newdf['N'],newdf['Community Size-Spectral'],\".\")\n",
    "plt.xscale('log')\n",
    "plt.yscale('log')\n",
    "plt.gca().legend((\"SBM\",\"Louvain\",\"Infomap\",'Spectral'))\n",
    "plt.title(\"N vs Community Size\")"
   ]
  },
  {
   "cell_type": "code",
   "execution_count": 23,
   "id": "6ccc691a",
   "metadata": {},
   "outputs": [],
   "source": [
    "irow = newdf.index.values.tolist() "
   ]
  },
  {
   "cell_type": "markdown",
   "id": "f90fa70d",
   "metadata": {},
   "source": [
    "Claim 1: Louvain finds only assortative community"
   ]
  },
  {
   "cell_type": "code",
   "execution_count": 27,
   "id": "43b78439",
   "metadata": {},
   "outputs": [
    {
     "data": {
      "text/plain": [
       "Text(0.5, 1.0, 'N vs Assortative Community Fraction')"
      ]
     },
     "execution_count": 27,
     "metadata": {},
     "output_type": "execute_result"
    },
    {
     "data": {
      "image/png": "[encoded data removed]",
      "text/plain": [
       "<Figure size 432x288 with 1 Axes>"
      ]
     },
     "metadata": {},
     "output_type": "display_data"
    }
   ],
   "source": [
    "plt.plot(newdf['N'],[ast.literal_eval(newdf.at[i,'Community Fraction 1-SBM_DC'])['Assortative'] if 'Assortative' in ast.literal_eval(newdf.at[i,'Community Fraction 1-SBM_DC']).keys() else 0 for i in irow],\"o\")\n",
    "plt.plot(newdf['N'],[ast.literal_eval(newdf.at[i,'Community Fraction 1-Louvain'])['Assortative'] if 'Assortative' in ast.literal_eval(newdf.at[i,'Community Fraction 1-Louvain']).keys() else 0 for i in irow],\"*\")\n",
    "# plt.plot(newdf['N'],[ast.literal_eval(newdf.at[i,'Community Fraction 1-Infomap'])['Assortative'] if 'Assortative' in ast.literal_eval(newdf.at[i,'Community Fraction 1-Infomap']).keys() else 0 for i in irow],\"+\")\n",
    "# plt.plot(newdf['N'],[ast.literal_eval(newdf.at[i,'Community Fraction 1-Spectral'])['Assortative'] if 'Assortative' in ast.literal_eval(newdf.at[i,'Community Fraction 1-Spectral']).keys() else 0 for i in irow],\".\")\n",
    "plt.xscale('log')\n",
    "plt.gca().legend((\"SBM\",\"Louvain\",\"Infomap\",'Spectral'))\n",
    "plt.title(\"N vs Assortative Community Fraction\")"
   ]
  },
  {
   "cell_type": "markdown",
   "id": "58198eef",
   "metadata": {},
   "source": []
  },
  {
   "cell_type": "code",
   "execution_count": 28,
   "id": "128fefd5",
   "metadata": {},
   "outputs": [
    {
     "data": {
      "text/plain": [
       "Text(0.5, 1.0, 'N vs Assortative Interaction Fraction')"
      ]
     },
     "execution_count": 28,
     "metadata": {},
     "output_type": "execute_result"
    },
    {
     "data": {
      "image/png": "[encoded data removed]",
      "text/plain": [
       "<Figure size 432x288 with 1 Axes>"
      ]
     },
     "metadata": {},
     "output_type": "display_data"
    }
   ],
   "source": [
    "plt.plot(newdf['N'],[ast.literal_eval(newdf.at[i,'Interaction Fraction-SBM_DC'])['Assortative'] if 'Assortative' in ast.literal_eval(newdf.at[i,'Interaction Fraction-SBM_DC']).keys() else 0 for i in irow],\"o\")\n",
    "plt.plot(newdf['N'],[ast.literal_eval(newdf.at[i,'Interaction Fraction-Louvain'])['Assortative'] if 'Assortative' in ast.literal_eval(newdf.at[i,'Interaction Fraction-Louvain']).keys() else 0 for i in irow],\"*\")\n",
    "# plt.plot(newdf['N'],[ast.literal_eval(newdf.at[i,'Interaction Fraction-Infomap'])['Assortative'] if 'Assortative' in ast.literal_eval(newdf.at[i,'Interaction Fraction-Infomap']).keys() else 0 for i in irow],\"+\")\n",
    "# plt.plot(newdf['N'],[ast.literal_eval(newdf.at[i,'Community Fraction 1-Spectral'])['Assortative'] if 'Assortative' in ast.literal_eval(newdf.at[i,'Community Fraction 1-Spectral']).keys() else 0 for i in irow],\".\")\n",
    "plt.xscale('log')\n",
    "plt.gca().legend((\"SBM\",\"Louvain\",\"Infomap\",'Spectral'))\n",
    "plt.title(\"N vs Assortative Interaction Fraction\")"
   ]
  },
  {
   "cell_type": "code",
   "execution_count": 68,
   "id": "cbddc45f",
   "metadata": {},
   "outputs": [],
   "source": []
  },
  {
   "cell_type": "code",
   "execution_count": 252,
   "id": "de9fb2e7",
   "metadata": {},
   "outputs": [
    {
     "data": {
      "text/plain": [
       "Text(0.5, 1.0, 'N vs Assortative interaction fraction')"
      ]
     },
     "execution_count": 252,
     "metadata": {},
     "output_type": "execute_result"
    },
    {
     "data": {
      "image/png": "[encoded data removed]",
      "text/plain": [
       "<Figure size 432x288 with 1 Axes>"
      ]
     },
     "metadata": {},
     "output_type": "display_data"
    }
   ],
   "source": [
    "plt.plot([newdf.at[i,'N'] for i in irow[:14]],[ast.literal_eval(newdf.at[i,'Interaction Fraction-SBM_DC'])['Assortative'] if 'Assortative' in ast.literal_eval(newdf.at[i,'Interaction Fraction-SBM_DC']).keys() else 0 for i in irow[:14]],\"o\")\n",
    "plt.plot([newdf.at[i,'N'] for i in irow[14:]],[ast.literal_eval(newdf.at[i,'Interaction Fraction-SBM_DC'])['Assortative'] if 'Assortative' in ast.literal_eval(newdf.at[i,'Interaction Fraction-SBM_DC']).keys() else 0 for i in irow[14:]],\"o\")\n",
    "plt.xscale('log')\n",
    "plt.yscale('log')\n",
    "plt.gca().legend((\"social\",\"retweet\"))\n",
    "plt.title(\"N vs Assortative interaction fraction\")"
   ]
  },
  {
   "cell_type": "code",
   "execution_count": 29,
   "id": "a7390795",
   "metadata": {},
   "outputs": [],
   "source": [
    "ass = [ast.literal_eval(newdf.at[i,'Interaction Fraction-SBM_DC'])['Assortative'] if 'Assortative' in ast.literal_eval(newdf.at[i,'Interaction Fraction-SBM_DC']).keys() else 0 for i in irow]\n",
    "cp = [ast.literal_eval(newdf.at[i,'Interaction Fraction-SBM_DC'])['Core-Periphery'] if 'Core-Periphery' in ast.literal_eval(newdf.at[i,'Interaction Fraction-SBM_DC']).keys() else 0 for i in irow]\n",
    "dis = [ast.literal_eval(newdf.at[i,'Interaction Fraction-SBM_DC'])['Disassortative'] if 'Disassortative' in ast.literal_eval(newdf.at[i,'Interaction Fraction-SBM_DC']).keys() else 0 for i in irow]\n"
   ]
  },
  {
   "cell_type": "code",
   "execution_count": 30,
   "id": "ce0d80df",
   "metadata": {},
   "outputs": [
    {
     "data": {
      "text/plain": [
       "Text(0.5, 1.0, 'SBM Interaction Fraction')"
      ]
     },
     "execution_count": 30,
     "metadata": {},
     "output_type": "execute_result"
    },
    {
     "data": {
      "image/png": "[encoded data removed]",
      "text/plain": [
       "<Figure size 648x648 with 1 Axes>"
      ]
     },
     "metadata": {},
     "output_type": "display_data"
    }
   ],
   "source": [
    "plt.figure(figsize=(9, 9))\n",
    "plt.errorbar(newdf['N'], np.array(ass),yerr = np.array(ass),uplims=True,capsize = 1,fmt = 'none')\n",
    "\n",
    "# plt.errorbar(newdf['N'], np.array(ass)+np.array(cp),fmt = 'r.')\n",
    "plt.errorbar(newdf['N'], np.array(ass)+np.array(cp),yerr = np.array(cp),uplims=True,ecolor = 'red',capsize = 1,fmt = 'none')\n",
    "\n",
    "plt.errorbar(newdf['N'], np.array(ass)+np.array(cp),yerr = np.array(dis),lolims=True,ecolor = 'green',capsize = 1,fmt = 'none')\n",
    "plt.gca().legend((\"Assortative\",\"Core-Periphery\",\"Disassortative\"))\n",
    "plt.xscale('log')\n",
    "plt.title('SBM Interaction Fraction')"
   ]
  },
  {
   "cell_type": "markdown",
   "id": "56502ee0",
   "metadata": {},
   "source": [
    "## facebook_organizations5\n",
    "undirected,unweighted"
   ]
  },
  {
   "cell_type": "code",
   "execution_count": 4,
   "id": "7c19f334",
   "metadata": {},
   "outputs": [],
   "source": [
    "fname = \"facebook_organizations5\"\n",
    "path_data = \"../Data\"\n",
    "fname_data = fname + \".xml.gz\"\n",
    "filename = os.path.join(path_data,fname_data)\n",
    "G_gt = gt.load_graph(filename)\n",
    "G_nx = GM.convert_gt_to_nx(G_gt, vp_name = \"title\",ep_name = None)"
   ]
  },
  {
   "cell_type": "code",
   "execution_count": 5,
   "id": "b9b71d78",
   "metadata": {},
   "outputs": [],
   "source": [
    "with open(\"../Outputs/\"+fname+\"_sbm_dc.list\",\"rb\") as f:\n",
    "    sbm_dc_par = pickle.load(f)\n",
    "\n",
    "\n",
    "sbm_dc_par_dict = SS.get_par_dict(G_gt,[G_gt.vp.title[n] for n in G_gt.vertices()],sbm_dc_par)"
   ]
  },
  {
   "cell_type": "code",
   "execution_count": 6,
   "id": "22a10e1c",
   "metadata": {},
   "outputs": [],
   "source": [
    "d_sbm_dc = SS.get_density(G_gt,sbm_dc_par_dict)\n",
    "n = SS.number_of_groups(sbm_dc_par)\n",
    "d_sbm_dc = d_sbm_dc[0:n,0:n]"
   ]
  },
  {
   "cell_type": "code",
   "execution_count": 7,
   "id": "5c770e52",
   "metadata": {},
   "outputs": [
    {
     "data": {
      "text/plain": [
       "{'U1': 0.7874564459930313,\n",
       " 'U2': 0.18815331010452963,\n",
       " 'U3': 0.0011614401858304297,\n",
       " 'U5': 0.022067363530778164,\n",
       " 'U6': 0.0011614401858304297}"
      ]
     },
     "execution_count": 7,
     "metadata": {},
     "output_type": "execute_result"
    }
   ],
   "source": [
    "deg_list = SS.get_degree_par(G_gt,sbm_dc_par_dict)\n",
    "SS.interaction_type_prob(d_sbm_dc,deg_list,directed = False)"
   ]
  },
  {
   "cell_type": "markdown",
   "id": "f17d1474",
   "metadata": {},
   "source": [
    "## Case"
   ]
  },
  {
   "cell_type": "code",
   "execution_count": 7,
   "id": "52cabd6e",
   "metadata": {},
   "outputs": [],
   "source": [
    "fname = \"anybeat\"\n",
    "path_data = \"../Data\"\n",
    "fname_data = fname + \".xml.gz\"\n",
    "filename = os.path.join(path_data,fname_data)\n",
    "G_gt = gt.load_graph(filename)\n",
    "G_nx = GM.convert_gt_to_nx(G_gt, vp_name = \"title\",ep_name = None)"
   ]
  },
  {
   "cell_type": "code",
   "execution_count": 8,
   "id": "cae60286",
   "metadata": {},
   "outputs": [],
   "source": [
    "with open(\"../Outputs/\"+fname+\"_sbm_dc.list\",\"rb\") as f:\n",
    "    sbm_dc_par = pickle.load(f)\n",
    "\n",
    "\n",
    "sbm_dc_par_dict = SS.get_par_dict(G_gt,[G_gt.vp.title[n] for n in G_gt.vertices()],sbm_dc_par)\n",
    "\n",
    "    \n",
    "d_sbm_dc = SS.get_density(G_gt,sbm_dc_par_dict)\n",
    "n = SS.number_of_groups(sbm_dc_par)\n",
    "# d_sbm_dc = d_sbm_dc[0:n,0:n]"
   ]
  },
  {
   "cell_type": "code",
   "execution_count": 9,
   "id": "18813b81",
   "metadata": {},
   "outputs": [
    {
     "data": {
      "text/plain": [
       "{'D1': 0.28292682926829266,\n",
       " 'D11': 0.007317073170731708,\n",
       " 'D13': 0.10609756097560975,\n",
       " 'D14': 0.03780487804878049,\n",
       " 'D15': 0.0012195121951219512,\n",
       " 'D17': 0.0012195121951219512,\n",
       " 'D18': 0.0012195121951219512,\n",
       " 'D19': 0.012195121951219513,\n",
       " 'D2': 0.14878048780487804,\n",
       " 'D20': 0.03414634146341464,\n",
       " 'D21': 0.0024390243902439024,\n",
       " 'D22': 0.003658536585365854,\n",
       " 'D23': 0.0024390243902439024,\n",
       " 'D24': 0.006097560975609756,\n",
       " 'D3': 0.07804878048780488,\n",
       " 'D4': 0.08414634146341464,\n",
       " 'D5': 0.007317073170731708,\n",
       " 'D6': 0.0524390243902439,\n",
       " 'D7': 0.006097560975609756,\n",
       " 'D8': 0.03048780487804878,\n",
       " 'D9': 0.09390243902439024}"
      ]
     },
     "execution_count": 9,
     "metadata": {},
     "output_type": "execute_result"
    }
   ],
   "source": [
    "deg_list = SS.get_degree_par(G_gt,sbm_dc_par_dict)\n",
    "SS.interaction_type_prob(d_sbm_dc,deg_list,directed = True)"
   ]
  },
  {
   "cell_type": "code",
   "execution_count": 35,
   "id": "bef30268",
   "metadata": {},
   "outputs": [
    {
     "data": {
      "image/png": "[encoded data removed]",
      "text/plain": [
       "<Figure size 1152x864 with 2 Axes>"
      ]
     },
     "metadata": {},
     "output_type": "display_data"
    }
   ],
   "source": [
    "plt.figure(figsize=(16, 12))\n",
    "annot = SS.interaction_matrix(d_sbm_dc,deg_list,directed = True)\n",
    "N,_ = annot.shape\n",
    "for i in range(N):\n",
    "    for j in range(N):\n",
    "        if annot[i,j] == 'D1' or annot[i,j] == 'D2' or annot[i,j] == 'D3' or annot[i,j] == 'D4':\n",
    "            annot[i,j] = ''\n",
    "ax = sns.heatmap(d_sbm_dc,annot=annot,fmt = '', cmap=\"YlGnBu\")"
   ]
  },
  {
   "cell_type": "code",
   "execution_count": 36,
   "id": "c19dab4e",
   "metadata": {},
   "outputs": [
    {
     "data": {
      "image/png": "[encoded data removed]",
      "text/plain": [
       "<Figure size 1152x864 with 2 Axes>"
      ]
     },
     "metadata": {},
     "output_type": "display_data"
    }
   ],
   "source": [
    "plt.figure(figsize=(16, 12))\n",
    "annot = SS.interaction_matrix(d_sbm_dc,deg_list,directed = True)\n",
    "N,_ = annot.shape\n",
    "for i in range(N):\n",
    "    for j in range(N):\n",
    "        if annot[i,j] == 'D1' or annot[i,j] == 'D2' or annot[i,j] == 'D3' or annot[i,j] == 'D4':\n",
    "            annot[i,j] = ''\n",
    "ax = sns.heatmap(d_sbm_dc[0:11,0:11],annot=annot[0:11,0:11],fmt = '', cmap=\"YlGnBu\")"
   ]
  },
  {
   "cell_type": "code",
   "execution_count": null,
   "id": "e53d21ae",
   "metadata": {},
   "outputs": [],
   "source": [
    "#inference\n",
    "#filter ->project to community level/weight by node/links or uncertrnty(boostrap)\n"
   ]
  },
  {
   "cell_type": "code",
   "execution_count": 37,
   "id": "e08ae471",
   "metadata": {},
   "outputs": [
    {
     "name": "stdout",
     "output_type": "stream",
     "text": [
      "[2022, 670, 654, 416, 369, 331, 304, 261, 248, 247, 226, 219, 193, 182, 179, 173, 157, 153, 132, 130, 123, 112, 109, 102, 99, 99, 93, 86, 82, 81, 61, 46, 40, 36, 27, 21, 17, 10, 6, 1, 1]\n"
     ]
    }
   ],
   "source": [
    "#Community Size\n",
    "size = list(Counter(sbm_dc_par).values())\n",
    "size.sort(reverse = True)\n",
    "print(size)"
   ]
  },
  {
   "cell_type": "code",
   "execution_count": 8,
   "id": "33c62b1f",
   "metadata": {},
   "outputs": [
    {
     "name": "stdout",
     "output_type": "stream",
     "text": [
      "clear cp structure\n",
      "[[0.78571429 0.14285714 0.28571429]\n",
      " [0.16666667 0.06666667 0.27777778]\n",
      " [0.47619048 0.27777778 0.5       ]]\n",
      " \n",
      "weak cp structure\n",
      "[[0.03171247 0.01060606]\n",
      " [0.00227273 0.14482759]]\n",
      " \n",
      "clear dis structure\n",
      "[[0.06666667 0.5       ]\n",
      " [0.5        0.        ]]\n",
      " \n",
      "weak dis structure\n",
      "[[0.00084321 0.01984115]\n",
      " [0.00785212 0.00164738]]\n"
     ]
    }
   ],
   "source": [
    "##Core-Peripheriy example\n",
    "print('clear cp structure')\n",
    "print(d_sbm_dc[np.ix_([39,40,41],[39,40,41])])\n",
    "print(\" \")\n",
    "print('weak cp structure')\n",
    "print(d_sbm_dc[np.ix_([29,32],[29,32])])\n",
    "\n",
    "##Disassortative example\n",
    "print(\" \")\n",
    "print('clear dis structure')\n",
    "print(d_sbm_dc[np.ix_([40,44],[40,44])])\n",
    "\n",
    "print(\" \")\n",
    "print('weak dis structure')\n",
    "print(d_sbm_dc[np.ix_([2,10],[2,10])])"
   ]
  },
  {
   "cell_type": "code",
   "execution_count": 38,
   "id": "c4db0850",
   "metadata": {},
   "outputs": [],
   "source": [
    "#block graph\n",
    "sbm_dc_par_vp = SS.create_par_vp(G_gt,\"sbm_dc\",sbm_dc_par_dict)\n",
    "sbm_dc_state = gt.BlockState(G_gt, sbm_dc_par_vp)"
   ]
  },
  {
   "cell_type": "code",
   "execution_count": 93,
   "id": "47a3c22d",
   "metadata": {},
   "outputs": [
    {
     "data": {
      "image/png": "[encoded data removed]",
      "text/plain": [
       "<IPython.core.display.Image object>"
      ]
     },
     "metadata": {
      "image/png": {
       "height": 600,
       "width": 463
      }
     },
     "output_type": "display_data"
    },
    {
     "data": {
      "text/plain": [
       "<VertexPropertyMap object with value type 'vector<double>', for Graph 0x13f25e190, at 0x16998f730>"
      ]
     },
     "execution_count": 93,
     "metadata": {},
     "output_type": "execute_result"
    }
   ],
   "source": [
    "num = 11\n",
    "block_graph = sbm_dc_state.get_block_state().g\n",
    "nr = block_graph.vp[\"nr\"] = block_graph.new_vp(\"int\")\n",
    "name = block_graph.vp[\"name\"] = block_graph.new_vp(\"string\")\n",
    "color = block_graph.vp[\"assortativity\"] = block_graph.new_vp(\"int\")\n",
    "ers = block_graph.ep[\"ers\"] = block_graph.new_ep(\"int\")\n",
    "drs = block_graph.ep[\"drs\"] = block_graph.new_ep(\"float\")\n",
    "    \n",
    "par = sbm_dc_state.get_blocks()\n",
    "spar = SS.sort_par(par)\n",
    "    \n",
    "#    den = get_density(G,state)\n",
    "#    Mrs = interaction_types(den)\n",
    "N,_ = d_sbm_dc.shape\n",
    "#    Prt_out, Prt_in = interaction_prob(Mrs)\n",
    "\n",
    "extra = 0\n",
    "del_list = [v for v in block_graph.vertices()]\n",
    "for v in reversed(sorted(del_list)):\n",
    "    nr[v] = sbm_dc_state.get_nr()[v]/20\n",
    "    par = int(str(v))\n",
    "        \n",
    "    if par in spar.keys() and spar[par]<num:\n",
    "        i = spar[int(v)]\n",
    "        name[v] = str(i)\n",
    "#            color[v] = 1 if Prt_out[i,0] == 1.0 and Prt_in[i,0] == 1.0 else 0\n",
    "        color[v] = 1 if d_sbm_dc[i,i] == np.amax(d_sbm_dc[:,i]) and den[i,i] == np.amax(d_sbm_dc[i,:]) else 0\n",
    "    else:\n",
    "        block_graph.remove_vertex(v)\n",
    "        \n",
    "for e in block_graph.edges():\n",
    "    s = e.source()\n",
    "    t = e.target()\n",
    "    ers[e] = sbm_dc_state.get_ers()[e]\n",
    "    if block_graph.is_directed():\n",
    "        drs[e] = sbm_dc_state.get_ers()[e]/nr[s]/nr[t]\n",
    "    else:\n",
    "        if s != t:\n",
    "            drs[e] = np.log(sbm_dc_state.get_ers()[e]/nr[s]/nr[t])\n",
    "        else:\n",
    "            drs[e] = np.log(sbm_dc_state.get_ers()[e]/nr[s]/(nr[s]-1)*2)\n",
    "                \n",
    "    \n",
    "pos = gt.sfdp_layout(block_graph)\n",
    "gt.graph_draw(block_graph, pos=pos, vertex_size=nr, vertex_fill_color=color, vorder=nr\n",
    "              , vertex_text = name,edge_pen_width=drs)"
   ]
  },
  {
   "cell_type": "code",
   "execution_count": 125,
   "id": "d3fb6bcf",
   "metadata": {},
   "outputs": [
    {
     "data": {
      "text/plain": [
       "<Graph object, directed, with 10 vertices and 85 edges, 3 internal vertex properties, 2 internal edge properties, at 0x16ff85e80>"
      ]
     },
     "execution_count": 125,
     "metadata": {},
     "output_type": "execute_result"
    }
   ],
   "source": [
    "block_graph"
   ]
  },
  {
   "cell_type": "code",
   "execution_count": 43,
   "id": "f51a21ce",
   "metadata": {},
   "outputs": [],
   "source": [
    "for i in range(len(sbm_dc_par)):\n",
    "    if sbm_dc_par[i] == 6461:\n",
    "        sbm_dc_par[i] = 674"
   ]
  },
  {
   "cell_type": "code",
   "execution_count": 44,
   "id": "7382f7fe",
   "metadata": {},
   "outputs": [],
   "source": [
    "sbm_dc_par_dict2 = SS.get_par_dict(G_gt,[G_gt.vp.title[n] for n in G_gt.vertices()],sbm_dc_par)\n",
    "sbm_dc_par_vp2 = SS.create_par_vp(G_gt,\"sbm_dc_2\",sbm_dc_par_dict2)\n",
    "sbm_dc_state2 = gt.BlockState(G_gt, sbm_dc_par_vp2)"
   ]
  },
  {
   "cell_type": "code",
   "execution_count": 51,
   "id": "a3f2227e",
   "metadata": {},
   "outputs": [
    {
     "name": "stdout",
     "output_type": "stream",
     "text": [
      "241284.3201548833\n",
      "242402.30904208572\n"
     ]
    }
   ],
   "source": [
    "print(sbm_dc_state.entropy())\n",
    "print(sbm_dc_state2.entropy())"
   ]
  },
  {
   "cell_type": "code",
   "execution_count": 52,
   "id": "3a0b77b7",
   "metadata": {},
   "outputs": [
    {
     "name": "stdout",
     "output_type": "stream",
     "text": [
      "9.360885750961762e-05\n",
      "0.0002740094472317687\n"
     ]
    }
   ],
   "source": [
    "print(newdf.at[11,'Modularity-SBM_DC'])\n",
    "print(nxcom.modularity(G_nx, SS.convert_par_to_iter(G_nx,sbm_dc_par)))"
   ]
  },
  {
   "cell_type": "markdown",
   "id": "b861293a",
   "metadata": {},
   "source": [
    "## Robustness"
   ]
  },
  {
   "cell_type": "code",
   "execution_count": 11,
   "id": "801d8718",
   "metadata": {},
   "outputs": [],
   "source": [
    "import socialonline_stats as SS\n",
    "import random"
   ]
  },
  {
   "cell_type": "code",
   "execution_count": 18,
   "id": "7c77529a",
   "metadata": {},
   "outputs": [
    {
     "ename": "KeyboardInterrupt",
     "evalue": "",
     "output_type": "error",
     "traceback": [
      "\u001b[0;31m---------------------------------------------------------------------------\u001b[0m",
      "\u001b[0;31mKeyboardInterrupt\u001b[0m                         Traceback (most recent call last)",
      "\u001b[0;32m<timed exec>\u001b[0m in \u001b[0;36m<module>\u001b[0;34m\u001b[0m\n",
      "\u001b[0;32m~/Desktop/API/src/socialonline_stats.py\u001b[0m in \u001b[0;36muncertainty\u001b[0;34m(G, par_dict, deg_list, ep_name, iteration)\u001b[0m\n\u001b[1;32m    367\u001b[0m         \u001b[0mthread\u001b[0m\u001b[0;34m.\u001b[0m\u001b[0mstart\u001b[0m\u001b[0;34m(\u001b[0m\u001b[0;34m)\u001b[0m\u001b[0;34m\u001b[0m\u001b[0;34m\u001b[0m\u001b[0m\n\u001b[1;32m    368\u001b[0m     \u001b[0;32mfor\u001b[0m \u001b[0mthread\u001b[0m \u001b[0;32min\u001b[0m \u001b[0mthread_list\u001b[0m\u001b[0;34m:\u001b[0m\u001b[0;34m\u001b[0m\u001b[0;34m\u001b[0m\u001b[0m\n\u001b[0;32m--> 369\u001b[0;31m         \u001b[0mthread\u001b[0m\u001b[0;34m.\u001b[0m\u001b[0mjoin\u001b[0m\u001b[0;34m(\u001b[0m\u001b[0;34m)\u001b[0m\u001b[0;34m\u001b[0m\u001b[0;34m\u001b[0m\u001b[0m\n\u001b[0m\u001b[1;32m    370\u001b[0m \u001b[0;34m\u001b[0m\u001b[0m\n\u001b[1;32m    371\u001b[0m     \u001b[0;31m#calculate proportion\u001b[0m\u001b[0;34m\u001b[0m\u001b[0;34m\u001b[0m\u001b[0m\n",
      "\u001b[0;32m/usr/local/Cellar/python@3.9/3.9.12/Frameworks/Python.framework/Versions/3.9/lib/python3.9/threading.py\u001b[0m in \u001b[0;36mjoin\u001b[0;34m(self, timeout)\u001b[0m\n\u001b[1;32m   1051\u001b[0m \u001b[0;34m\u001b[0m\u001b[0m\n\u001b[1;32m   1052\u001b[0m         \u001b[0;32mif\u001b[0m \u001b[0mtimeout\u001b[0m \u001b[0;32mis\u001b[0m \u001b[0;32mNone\u001b[0m\u001b[0;34m:\u001b[0m\u001b[0;34m\u001b[0m\u001b[0;34m\u001b[0m\u001b[0m\n\u001b[0;32m-> 1053\u001b[0;31m             \u001b[0mself\u001b[0m\u001b[0;34m.\u001b[0m\u001b[0m_wait_for_tstate_lock\u001b[0m\u001b[0;34m(\u001b[0m\u001b[0;34m)\u001b[0m\u001b[0;34m\u001b[0m\u001b[0;34m\u001b[0m\u001b[0m\n\u001b[0m\u001b[1;32m   1054\u001b[0m         \u001b[0;32melse\u001b[0m\u001b[0;34m:\u001b[0m\u001b[0;34m\u001b[0m\u001b[0;34m\u001b[0m\u001b[0m\n\u001b[1;32m   1055\u001b[0m             \u001b[0;31m# the behavior of a negative timeout isn't documented, but\u001b[0m\u001b[0;34m\u001b[0m\u001b[0;34m\u001b[0m\u001b[0m\n",
      "\u001b[0;32m/usr/local/Cellar/python@3.9/3.9.12/Frameworks/Python.framework/Versions/3.9/lib/python3.9/threading.py\u001b[0m in \u001b[0;36m_wait_for_tstate_lock\u001b[0;34m(self, block, timeout)\u001b[0m\n\u001b[1;32m   1071\u001b[0m \u001b[0;34m\u001b[0m\u001b[0m\n\u001b[1;32m   1072\u001b[0m         \u001b[0;32mtry\u001b[0m\u001b[0;34m:\u001b[0m\u001b[0;34m\u001b[0m\u001b[0;34m\u001b[0m\u001b[0m\n\u001b[0;32m-> 1073\u001b[0;31m             \u001b[0;32mif\u001b[0m \u001b[0mlock\u001b[0m\u001b[0;34m.\u001b[0m\u001b[0macquire\u001b[0m\u001b[0;34m(\u001b[0m\u001b[0mblock\u001b[0m\u001b[0;34m,\u001b[0m \u001b[0mtimeout\u001b[0m\u001b[0;34m)\u001b[0m\u001b[0;34m:\u001b[0m\u001b[0;34m\u001b[0m\u001b[0;34m\u001b[0m\u001b[0m\n\u001b[0m\u001b[1;32m   1074\u001b[0m                 \u001b[0mlock\u001b[0m\u001b[0;34m.\u001b[0m\u001b[0mrelease\u001b[0m\u001b[0;34m(\u001b[0m\u001b[0;34m)\u001b[0m\u001b[0;34m\u001b[0m\u001b[0;34m\u001b[0m\u001b[0m\n\u001b[1;32m   1075\u001b[0m                 \u001b[0mself\u001b[0m\u001b[0;34m.\u001b[0m\u001b[0m_stop\u001b[0m\u001b[0;34m(\u001b[0m\u001b[0;34m)\u001b[0m\u001b[0;34m\u001b[0m\u001b[0;34m\u001b[0m\u001b[0m\n",
      "\u001b[0;31mKeyboardInterrupt\u001b[0m: "
     ]
    }
   ],
   "source": [
    "%%time\n",
    "P20 = SS.uncertainty(G_gt,sbm_dc_par_dict,deg_list, iteration = 50) #threshold = 20"
   ]
  },
  {
   "cell_type": "code",
   "execution_count": 17,
   "id": "dc922f2f",
   "metadata": {},
   "outputs": [
    {
     "data": {
      "text/plain": [
       "array([[1. , 0.8, 1. , 0.3, 0.7, 1. , 0.9, 0.9, 1. , 0.8, 1. , 1. , 0.8,\n",
       "        1. , 1. , 1. , 1. , 1. , 1. , 1. , 0.9, 1. , 0.5, 1. , 1. , 1. ,\n",
       "        0.7, 1. , 0.8, 1. , 0.8, 1. , 1. , 0.8, 1. , 1. , 1. , 0.4, 0.9,\n",
       "        1. , 1. ]])"
      ]
     },
     "execution_count": 17,
     "metadata": {},
     "output_type": "execute_result"
    }
   ],
   "source": [
    "P20['Interation-all'][np.ix_([5])]"
   ]
  },
  {
   "cell_type": "code",
   "execution_count": 42,
   "id": "134ba8d0",
   "metadata": {},
   "outputs": [],
   "source": [
    "n = SS.number_of_groups(sbm_dc_par) #threshold = 10"
   ]
  },
  {
   "cell_type": "code",
   "execution_count": 43,
   "id": "ea839644",
   "metadata": {},
   "outputs": [
    {
     "name": "stdout",
     "output_type": "stream",
     "text": [
      "CPU times: user 1h 41min 58s, sys: 45min 54s, total: 2h 27min 53s\n",
      "Wall time: 2h 27min 58s\n"
     ]
    }
   ],
   "source": [
    "%%time\n",
    "P10 = SS.uncertainty(G_gt,sbm_dc_par_dict,deg_list,n, iteration = 10)"
   ]
  },
  {
   "cell_type": "code",
   "execution_count": 44,
   "id": "341a8e1c",
   "metadata": {},
   "outputs": [
    {
     "data": {
      "text/plain": [
       "{'Assortative': [0.7147147147147147,\n",
       "  0.7267267267267268,\n",
       "  0.7027027027027027,\n",
       "  0.7117117117117117,\n",
       "  0.7162162162162162,\n",
       "  0.6921921921921922,\n",
       "  0.7297297297297297,\n",
       "  0.7117117117117117,\n",
       "  0.7252252252252253,\n",
       "  0.7087087087087087],\n",
       " 'Core-Periphery': [0.27177177177177175,\n",
       "  0.25975975975975973,\n",
       "  0.27627627627627627,\n",
       "  0.2747747747747748,\n",
       "  0.2702702702702703,\n",
       "  0.2927927927927928,\n",
       "  0.25675675675675674,\n",
       "  0.2747747747747748,\n",
       "  0.26126126126126126,\n",
       "  0.2777777777777778],\n",
       " 'Disassortative': [0.013513513513513514,\n",
       "  0.013513513513513514,\n",
       "  0.021021021021021023,\n",
       "  0.013513513513513514,\n",
       "  0.013513513513513514,\n",
       "  0.015015015015015015,\n",
       "  0.013513513513513514,\n",
       "  0.013513513513513514,\n",
       "  0.013513513513513514,\n",
       "  0.013513513513513514]}"
      ]
     },
     "execution_count": 44,
     "metadata": {},
     "output_type": "execute_result"
    }
   ],
   "source": [
    "P10['Graph']"
   ]
  },
  {
   "cell_type": "code",
   "execution_count": 46,
   "id": "a7aec782",
   "metadata": {},
   "outputs": [],
   "source": [
    "n = SS.number_of_groups(sbm_dc_par) #threshold = 1"
   ]
  },
  {
   "cell_type": "code",
   "execution_count": 47,
   "id": "d9f8b588",
   "metadata": {},
   "outputs": [
    {
     "name": "stdout",
     "output_type": "stream",
     "text": [
      "CPU times: user 1h 42min 34s, sys: 39min 44s, total: 2h 22min 18s\n",
      "Wall time: 2h 22min 18s\n"
     ]
    }
   ],
   "source": [
    "%%time\n",
    "P1 = SS.uncertainty(G_gt,sbm_dc_par_dict,deg_list,n, iteration = 10)"
   ]
  },
  {
   "cell_type": "markdown",
   "id": "91e53fb7",
   "metadata": {},
   "source": [
    "## Community Structure Distribution"
   ]
  },
  {
   "cell_type": "code",
   "execution_count": 11,
   "id": "56817b62",
   "metadata": {},
   "outputs": [],
   "source": [
    "# Undirected\n",
    "data = newdf.loc[newdf['Directed'] == False]"
   ]
  },
  {
   "cell_type": "code",
   "execution_count": 25,
   "id": "c30cbcee",
   "metadata": {},
   "outputs": [],
   "source": [
    "P = {'U1':[],'U2':[],'U3':[],'U4':[],'U5':[],'U6':[]}\n",
    "irow = data.index.values.tolist() \n",
    "count = 1\n",
    "for i in irow:\n",
    "    fname = newdf.at[i,'Name']\n",
    "    path_data = \"../Data\"\n",
    "    fname_data = fname + \".xml.gz\"\n",
    "    filename = os.path.join(path_data,fname_data)\n",
    "    G_gt = gt.load_graph(filename)\n",
    "    vp_name = newdf.at[i,'vp_name']\n",
    "    ep_name = newdf.at[i,'ep_name']\n",
    "    if str(ep_name) == 'nan':\n",
    "        ep_name = None\n",
    "    \n",
    "    #density\n",
    "    with open(\"../Outputs/\"+fname+\"_sbm_dc.list\",\"rb\") as f:\n",
    "        sbm_dc_par = pickle.load(f)\n",
    "        \n",
    "    sbm_dc_par_dict = SS.get_par_dict(G_gt,[G_gt.vp[vp_name][n] for n in G_gt.vertices()],sbm_dc_par,vp_name=vp_name)\n",
    "    d_sbm_dc = SS.get_density(G_gt,sbm_dc_par_dict,ep_name=ep_name)\n",
    "    n = SS.number_of_groups(sbm_dc_par)\n",
    "    d_sbm_dc = d_sbm_dc[0:n,0:n]\n",
    "    deg_list = SS.get_degree_par(G_gt,sbm_dc_par_dict)\n",
    "    \n",
    "    #classification\n",
    "    p1 = SS.interaction_type_prob(d_sbm_dc,deg_list,directed = False)\n",
    "    p2 = ast.literal_eval(newdf.at[i,'Interaction Fraction-SBM_DC'])\n",
    "    \n",
    "    for key in p1.keys():\n",
    "        if key in ['U1','U2']:\n",
    "            if 'Assortative' in p2.keys():\n",
    "                P[key].append(p1[key]/p2['Assortative'])\n",
    "        elif key in ['U3','U4']:\n",
    "            if 'Disassortative' in p2.keys():\n",
    "                P[key].append(p1[key]/p2['Disassortative'])\n",
    "        else:\n",
    "            if 'Core-Periphery' in p2.keys():\n",
    "                P[key].append(p1[key]/p2['Core-Periphery'])\n",
    "    for key in P.keys():\n",
    "        if len(P[key])<count:\n",
    "            P[key].append(0)\n",
    "    \n",
    "    count += 1        "
   ]
  },
  {
   "cell_type": "code",
   "execution_count": 26,
   "id": "9cddb9ee",
   "metadata": {},
   "outputs": [],
   "source": [
    "with open(\"../Outputs/P.dict\",\"wb\") as f:\n",
    "    pickle.dump(P,f)"
   ]
  },
  {
   "cell_type": "code",
   "execution_count": 27,
   "id": "81a3e36f",
   "metadata": {},
   "outputs": [
    {
     "data": {
      "image/png": "[encoded data removed]",
      "text/plain": [
       "<Figure size 1440x288 with 1 Axes>"
      ]
     },
     "metadata": {},
     "output_type": "display_data"
    },
    {
     "data": {
      "image/png": "[encoded data removed]",
      "text/plain": [
       "<Figure size 1440x288 with 1 Axes>"
      ]
     },
     "metadata": {},
     "output_type": "display_data"
    },
    {
     "data": {
      "image/png": "[encoded data removed]",
      "text/plain": [
       "<Figure size 1440x288 with 1 Axes>"
      ]
     },
     "metadata": {},
     "output_type": "display_data"
    }
   ],
   "source": [
    "plt.figure(figsize=(20, 4))\n",
    "columns = [data.at[i,'Name'] for i in irow]\n",
    "rows = ['U1','U2']\n",
    "\n",
    "values = np.arange(0, 1.1, 0.1)\n",
    "value_increment = 1\n",
    "\n",
    "# Get some pastel shades for the colors\n",
    "colors = plt.cm.BuPu(np.linspace(0, 0.5, len(rows)))\n",
    "n_rows = len(rows)\n",
    "\n",
    "index = np.arange(len(columns)) + 0.3\n",
    "bar_width = 0.4\n",
    "\n",
    "# Initialize the vertical-offset for the stacked bar chart.\n",
    "y_offset = np.zeros(len(columns))\n",
    "\n",
    "# Plot bars and create text labels for the table\n",
    "cell_text = []\n",
    "for i in range(n_rows):\n",
    "    plt.bar(index, P[rows[i]], bar_width, bottom=y_offset, color=colors[i])\n",
    "    y_offset = y_offset + P[rows[i]]\n",
    "    cell_text.append(['%1.2f' % (x / 1.0) for x in P[rows[i]]])\n",
    "# Reverse colors and text labels to display the last value at the top.\n",
    "colors = colors[::-1]\n",
    "cell_text.reverse()\n",
    "\n",
    "# Add a table at the bottom of the axes\n",
    "the_table = plt.table(cellText=cell_text,\n",
    "                      rowLabels=rows,\n",
    "                      rowColours=colors,\n",
    "                      colLabels=columns,\n",
    "                      loc='bottom')\n",
    "\n",
    "# Adjust layout to make room for the table:\n",
    "plt.subplots_adjust(left=0.2, bottom=0.2)\n",
    "\n",
    "plt.ylabel(\"Probability\")\n",
    "plt.yticks(values * value_increment, ['%1.1f' % val for val in values])\n",
    "plt.xticks([])\n",
    "plt.title('Assortative Structure Distribution')\n",
    "\n",
    "plt.show()\n",
    "\n",
    "plt.figure(figsize=(20, 4))\n",
    "columns = [newdf.at[i,'Name'] for i in irow]\n",
    "rows = ['U3','U4']\n",
    "\n",
    "values = np.arange(0, 1.1, 0.1)\n",
    "value_increment = 1\n",
    "\n",
    "# Get some pastel shades for the colors\n",
    "colors = plt.cm.BuPu(np.linspace(0, 0.5, len(rows)))\n",
    "n_rows = len(rows)\n",
    "\n",
    "index = np.arange(len(columns)) + 0.3\n",
    "bar_width = 0.4\n",
    "\n",
    "# Initialize the vertical-offset for the stacked bar chart.\n",
    "y_offset = np.zeros(len(columns))\n",
    "\n",
    "# Plot bars and create text labels for the table\n",
    "cell_text = []\n",
    "for i in range(n_rows):\n",
    "    plt.bar(index, P[rows[i]], bar_width, bottom=y_offset, color=colors[i])\n",
    "    y_offset = y_offset + P[rows[i]]\n",
    "    cell_text.append(['%1.2f' % (x / 1.0) for x in P[rows[i]]])\n",
    "# Reverse colors and text labels to display the last value at the top.\n",
    "colors = colors[::-1]\n",
    "cell_text.reverse()\n",
    "\n",
    "# Add a table at the bottom of the axes\n",
    "the_table = plt.table(cellText=cell_text,\n",
    "                      rowLabels=rows,\n",
    "                      rowColours=colors,\n",
    "                      colLabels=columns,\n",
    "                      loc='bottom')\n",
    "\n",
    "# Adjust layout to make room for the table:\n",
    "plt.subplots_adjust(left=0.2, bottom=0.2)\n",
    "\n",
    "plt.ylabel(\"Probability\")\n",
    "plt.yticks(values * value_increment, ['%1.1f' % val for val in values])\n",
    "plt.xticks([])\n",
    "plt.title('Disassortative Structure Distribution')\n",
    "\n",
    "plt.show()\n",
    "\n",
    "plt.figure(figsize=(20, 4))\n",
    "columns = [newdf.at[i,'Name'] for i in irow]\n",
    "rows = ['U5','U6']\n",
    "\n",
    "values = np.arange(0, 1.1, 0.1)\n",
    "value_increment = 1\n",
    "\n",
    "# Get some pastel shades for the colors\n",
    "colors = plt.cm.BuPu(np.linspace(0, 0.5, len(rows)))\n",
    "n_rows = len(rows)\n",
    "\n",
    "index = np.arange(len(columns)) + 0.3\n",
    "bar_width = 0.4\n",
    "\n",
    "# Initialize the vertical-offset for the stacked bar chart.\n",
    "y_offset = np.zeros(len(columns))\n",
    "# Plot bars and create text labels for the table\n",
    "cell_text = []\n",
    "for i in range(n_rows):\n",
    "    plt.bar(index, P[rows[i]], bar_width, bottom=y_offset, color=colors[i])\n",
    "    y_offset = y_offset + P[rows[i]]\n",
    "    cell_text.append(['%1.2f' % (x / 1.0) for x in P[rows[i]]])\n",
    "# Reverse colors and text labels to display the last value at the top.\n",
    "colors = colors[::-1]\n",
    "cell_text.reverse()\n",
    "\n",
    "# Add a table at the bottom of the axes\n",
    "the_table = plt.table(cellText=cell_text,\n",
    "                      rowLabels=rows,\n",
    "                      rowColours=colors,\n",
    "                      colLabels=columns,\n",
    "                      loc='bottom')\n",
    "\n",
    "# Adjust layout to make room for the table:\n",
    "plt.subplots_adjust(left=0.2, bottom=0.2)\n",
    "\n",
    "plt.ylabel(\"Probability\")\n",
    "plt.yticks(values * value_increment, ['%1.1f' % val for val in values])\n",
    "plt.xticks([])\n",
    "plt.title('Core-Periphery Structure Distribution')\n",
    "\n",
    "plt.show()"
   ]
  },
  {
   "cell_type": "code",
   "execution_count": 28,
   "id": "8ce9d7cb",
   "metadata": {},
   "outputs": [],
   "source": [
    "#Directed\n",
    "data = newdf.loc[newdf['Directed'] == True]"
   ]
  },
  {
   "cell_type": "code",
   "execution_count": 29,
   "id": "4e4b3b80",
   "metadata": {},
   "outputs": [],
   "source": [
    "P = {}\n",
    "for i in range(1,25):\n",
    "    P['D'+str(i)] = []\n",
    "irow = data.index.values.tolist() \n",
    "count = 1\n",
    "for i in irow:\n",
    "    fname = newdf.at[i,'Name']\n",
    "    path_data = \"../Data\"\n",
    "    fname_data = fname + \".xml.gz\"\n",
    "    filename = os.path.join(path_data,fname_data)\n",
    "    G_gt = gt.load_graph(filename)\n",
    "    vp_name = newdf.at[i,'vp_name']\n",
    "    ep_name = newdf.at[i,'ep_name']\n",
    "    if str(ep_name) == 'nan':\n",
    "        ep_name = None\n",
    "    \n",
    "    #density\n",
    "    with open(\"../Outputs/\"+fname+\"_sbm_dc.list\",\"rb\") as f:\n",
    "        sbm_dc_par = pickle.load(f)\n",
    "        \n",
    "    sbm_dc_par_dict = SS.get_par_dict(G_gt,[G_gt.vp[vp_name][n] for n in G_gt.vertices()],sbm_dc_par,vp_name=vp_name)\n",
    "    d_sbm_dc = SS.get_density(G_gt,sbm_dc_par_dict,ep_name=ep_name)\n",
    "    n = SS.number_of_groups(sbm_dc_par)\n",
    "    d_sbm_dc = d_sbm_dc[0:n,0:n]\n",
    "    deg_list = SS.get_degree_par(G_gt,sbm_dc_par_dict)\n",
    "    \n",
    "    #classification\n",
    "    p1 = SS.interaction_type_prob(d_sbm_dc,deg_list,directed = True)\n",
    "    p2 = ast.literal_eval(newdf.at[i,'Interaction Fraction-SBM_DC'])\n",
    "    \n",
    "    for key in p1.keys():\n",
    "        if key in ['D1','D2','D3','D4']:\n",
    "            if 'Assortative' in p2.keys():\n",
    "                P[key].append(p1[key]/p2['Assortative'])\n",
    "        elif key in ['D5','D6','D7','D8']:\n",
    "            if 'Disassortative' in p2.keys():\n",
    "                P[key].append(p1[key]/p2['Disassortative'])\n",
    "        else:\n",
    "            if 'Core-Periphery' in p2.keys():\n",
    "                P[key].append(p1[key]/p2['Core-Periphery'])\n",
    "    for key in P.keys():\n",
    "        if len(P[key])<count:\n",
    "            P[key].append(0)\n",
    "    \n",
    "    count += 1        "
   ]
  },
  {
   "cell_type": "code",
   "execution_count": 30,
   "id": "ef1cb5ab",
   "metadata": {},
   "outputs": [],
   "source": [
    "with open(\"../Outputs/P_directed.dict\",\"wb\") as f:\n",
    "    pickle.dump(P,f)"
   ]
  },
  {
   "cell_type": "code",
   "execution_count": 31,
   "id": "b057884b",
   "metadata": {},
   "outputs": [
    {
     "data": {
      "image/png": "[encoded data removed]",
      "text/plain": [
       "<Figure size 1440x288 with 1 Axes>"
      ]
     },
     "metadata": {},
     "output_type": "display_data"
    },
    {
     "data": {
      "image/png": "[encoded data removed]",
      "text/plain": [
       "<Figure size 1440x288 with 1 Axes>"
      ]
     },
     "metadata": {},
     "output_type": "display_data"
    },
    {
     "data": {
      "image/png": "[encoded data removed]",
      "text/plain": [
       "<Figure size 1440x288 with 1 Axes>"
      ]
     },
     "metadata": {},
     "output_type": "display_data"
    }
   ],
   "source": [
    "plt.figure(figsize=(20, 4))\n",
    "columns = [newdf.at[i,'Name'] for i in irow]\n",
    "rows = ['D1','D2','D3','D4']\n",
    "\n",
    "values = np.arange(0, 1.1, 0.1)\n",
    "value_increment = 1\n",
    "\n",
    "# Get some pastel shades for the colors\n",
    "colors = plt.cm.BuPu(np.linspace(0, 0.5, len(rows)))\n",
    "n_rows = len(rows)\n",
    "\n",
    "index = np.arange(len(columns)) + 0.3\n",
    "bar_width = 0.4\n",
    "\n",
    "# Initialize the vertical-offset for the stacked bar chart.\n",
    "y_offset = np.zeros(len(columns))\n",
    "\n",
    "# Plot bars and create text labels for the table\n",
    "cell_text = []\n",
    "for i in range(n_rows):\n",
    "    plt.bar(index, P[rows[i]], bar_width, bottom=y_offset, color=colors[i])\n",
    "    y_offset = y_offset + P[rows[i]]\n",
    "    cell_text.append(['%1.2f' % (x / 1.0) for x in P[rows[i]]])\n",
    "# Reverse colors and text labels to display the last value at the top.\n",
    "colors = colors[::-1]\n",
    "cell_text.reverse()\n",
    "\n",
    "# Add a table at the bottom of the axes\n",
    "the_table = plt.table(cellText=cell_text,\n",
    "                      rowLabels=rows,\n",
    "                      rowColours=colors,\n",
    "                      colLabels=columns,\n",
    "                      loc='bottom')\n",
    "\n",
    "# Adjust layout to make room for the table:\n",
    "plt.subplots_adjust(left=0.2, bottom=0.2)\n",
    "\n",
    "plt.ylabel(\"Probability\")\n",
    "plt.yticks(values * value_increment, ['%1.1f' % val for val in values])\n",
    "plt.xticks([])\n",
    "plt.title('Assortative Structure Distribution')\n",
    "\n",
    "plt.show()\n",
    "\n",
    "plt.figure(figsize=(20, 4))\n",
    "columns = [newdf.at[i,'Name'] for i in irow]\n",
    "rows = ['D5','D6','D7','D8']\n",
    "\n",
    "values = np.arange(0, 1.1, 0.1)\n",
    "value_increment = 1\n",
    "\n",
    "# Get some pastel shades for the colors\n",
    "colors = plt.cm.BuPu(np.linspace(0, 0.5, len(rows)))\n",
    "n_rows = len(rows)\n",
    "\n",
    "index = np.arange(len(columns)) + 0.3\n",
    "bar_width = 0.4\n",
    "\n",
    "# Initialize the vertical-offset for the stacked bar chart.\n",
    "y_offset = np.zeros(len(columns))\n",
    "\n",
    "# Plot bars and create text labels for the table\n",
    "cell_text = []\n",
    "for i in range(n_rows):\n",
    "    plt.bar(index, P[rows[i]], bar_width, bottom=y_offset, color=colors[i])\n",
    "    y_offset = y_offset + P[rows[i]]\n",
    "    cell_text.append(['%1.2f' % (x / 1.0) for x in P[rows[i]]])\n",
    "# Reverse colors and text labels to display the last value at the top.\n",
    "colors = colors[::-1]\n",
    "cell_text.reverse()\n",
    "\n",
    "# Add a table at the bottom of the axes\n",
    "the_table = plt.table(cellText=cell_text,\n",
    "                      rowLabels=rows,\n",
    "                      rowColours=colors,\n",
    "                      colLabels=columns,\n",
    "                      loc='bottom')\n",
    "\n",
    "# Adjust layout to make room for the table:\n",
    "plt.subplots_adjust(left=0.2, bottom=0.2)\n",
    "\n",
    "plt.ylabel(\"Probability\")\n",
    "plt.yticks(values * value_increment, ['%1.1f' % val for val in values])\n",
    "plt.xticks([])\n",
    "plt.title('Disassortative Structure Distribution')\n",
    "\n",
    "plt.show()\n",
    "\n",
    "plt.figure(figsize=(20, 4))\n",
    "columns = [newdf.at[i,'Name'] for i in irow]\n",
    "rows = ['D9','D10','D11','D12','D13','D14','D15','D16','D17','D18','D19','D20','D21','D22','D23','D24']\n",
    "\n",
    "values = np.arange(0, 1.1, 0.1)\n",
    "value_increment = 1\n",
    "\n",
    "# Get some pastel shades for the colors\n",
    "colors = plt.cm.BuPu(np.linspace(0, 0.5, len(rows)))\n",
    "n_rows = len(rows)\n",
    "\n",
    "index = np.arange(len(columns)) + 0.3\n",
    "bar_width = 0.4\n",
    "\n",
    "# Initialize the vertical-offset for the stacked bar chart.\n",
    "y_offset = np.zeros(len(columns))\n",
    "# Plot bars and create text labels for the table\n",
    "cell_text = []\n",
    "for i in range(n_rows):\n",
    "    plt.bar(index, P[rows[i]], bar_width, bottom=y_offset, color=colors[i])\n",
    "    y_offset = y_offset + P[rows[i]]\n",
    "    cell_text.append(['%1.2f' % (x / 1.0) for x in P[rows[i]]])\n",
    "# Reverse colors and text labels to display the last value at the top.\n",
    "colors = colors[::-1]\n",
    "cell_text.reverse()\n",
    "\n",
    "# Add a table at the bottom of the axes\n",
    "the_table = plt.table(cellText=cell_text,\n",
    "                      rowLabels=rows,\n",
    "                      rowColours=colors,\n",
    "                      colLabels=columns,\n",
    "                      loc='bottom')\n",
    "\n",
    "# Adjust layout to make room for the table:\n",
    "plt.subplots_adjust(left=0.2, bottom=0.2)\n",
    "\n",
    "plt.ylabel(\"Probability\")\n",
    "plt.yticks(values * value_increment, ['%1.1f' % val for val in values])\n",
    "plt.xticks([])\n",
    "plt.title('Core-Periphery Structure Distribution')\n",
    "\n",
    "plt.show()"
   ]
  },
  {
   "cell_type": "code",
   "execution_count": null,
   "id": "4d4f1b2c",
   "metadata": {},
   "outputs": [],
   "source": []
  },
  {
   "cell_type": "code",
   "execution_count": null,
   "id": "bea4033e",
   "metadata": {},
   "outputs": [],
   "source": []
  },
  {
   "cell_type": "code",
   "execution_count": null,
   "id": "e3d8f768",
   "metadata": {},
   "outputs": [],
   "source": []
  }
 ],
 "metadata": {
  "kernelspec": {
   "display_name": "Python 3",
   "language": "python",
   "name": "python3"
  },
  "language_info": {
   "codemirror_mode": {
    "name": "ipython",
    "version": 3
   },
   "file_extension": ".py",
   "mimetype": "text/x-python",
   "name": "python",
   "nbconvert_exporter": "python",
   "pygments_lexer": "ipython3",
   "version": "3.9.12"
  }
 },
 "nbformat": 4,
 "nbformat_minor": 5
}
