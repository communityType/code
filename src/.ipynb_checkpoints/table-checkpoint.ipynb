{
 "cells": [
  {
   "cell_type": "code",
   "execution_count": 12,
   "id": "a0e6cb2c",
   "metadata": {},
   "outputs": [],
   "source": [
    "import networkx as nx\n",
    "import GenModel as GM\n",
    "import networkx.algorithms.community as nx_comm\n",
    "import numpy as np"
   ]
  },
  {
   "cell_type": "code",
   "execution_count": 2,
   "id": "fbd047da",
   "metadata": {},
   "outputs": [],
   "source": [
    "g = nx.stochastic_block_model([10,10,10], [[0.5,0.2,0.0],[0.2,0.01,0.01,0.01],[0.01,0.01,0.6,0.01],[0.01,0.01,0.01,0.6]], seed=0,directed = False)"
   ]
  },
  {
   "cell_type": "code",
   "execution_count": 5,
   "id": "7bc0ea3a",
   "metadata": {},
   "outputs": [
    {
     "data": {
      "image/png": "[encoded data removed]",
      "text/plain": [
       "<Figure size 432x288 with 1 Axes>"
      ]
     },
     "metadata": {},
     "output_type": "display_data"
    }
   ],
   "source": [
    "nx.draw(g,node_color = [0]*5+[1]*15+[2]*10+[3]*10)"
   ]
  },
  {
   "cell_type": "code",
   "execution_count": 6,
   "id": "1abd01e9",
   "metadata": {},
   "outputs": [],
   "source": [
    "louvain_par,r = GM.Louvain_partition(g,iteration = 10)"
   ]
  },
  {
   "cell_type": "code",
   "execution_count": 7,
   "id": "7c9cce06",
   "metadata": {},
   "outputs": [
    {
     "data": {
      "text/plain": [
       "[2,\n",
       " 2,\n",
       " 2,\n",
       " 2,\n",
       " 2,\n",
       " 2,\n",
       " 2,\n",
       " 0,\n",
       " 2,\n",
       " 2,\n",
       " 2,\n",
       " 2,\n",
       " 2,\n",
       " 2,\n",
       " 2,\n",
       " 2,\n",
       " 2,\n",
       " 2,\n",
       " 2,\n",
       " 2,\n",
       " 1,\n",
       " 1,\n",
       " 1,\n",
       " 1,\n",
       " 1,\n",
       " 1,\n",
       " 1,\n",
       " 1,\n",
       " 1,\n",
       " 1,\n",
       " 3,\n",
       " 3,\n",
       " 3,\n",
       " 3,\n",
       " 3,\n",
       " 3,\n",
       " 3,\n",
       " 3,\n",
       " 3,\n",
       " 3]"
      ]
     },
     "execution_count": 7,
     "metadata": {},
     "output_type": "execute_result"
    }
   ],
   "source": [
    "louvain_par"
   ]
  },
  {
   "cell_type": "code",
   "execution_count": 8,
   "id": "4ebc5632",
   "metadata": {},
   "outputs": [
    {
     "data": {
      "text/plain": [
       "0.6214829126917039"
      ]
     },
     "execution_count": 8,
     "metadata": {},
     "output_type": "execute_result"
    }
   ],
   "source": [
    "nx_comm.modularity(g, GM.convert_par_to_iter(g,louvain_par))"
   ]
  },
  {
   "cell_type": "code",
   "execution_count": 9,
   "id": "c85ffbed",
   "metadata": {},
   "outputs": [
    {
     "data": {
      "text/plain": [
       "0.4306846999154691"
      ]
     },
     "execution_count": 9,
     "metadata": {},
     "output_type": "execute_result"
    }
   ],
   "source": [
    "nx_comm.modularity(g, GM.convert_par_to_iter(g,[0]*5+[1]*15+[2]*10+[3]*10))"
   ]
  },
  {
   "cell_type": "code",
   "execution_count": 26,
   "id": "9ab255f9",
   "metadata": {},
   "outputs": [],
   "source": [
    "def delta_Q(w00,w11,w22,w01,w02,w12,n0,n1,n2):\n",
    "    value = n0*n1*w01**2+n2*(n2-1)*w01*w22+n0*n2*w01*w02+n1*n2*w01*w12-(n0-1)*(n1-1)*w00*w11-(n0-1)*n2*w00*w12-(n1-1)*n2*w11*w02-n2**2*w02*w12\n",
    "    return value;"
   ]
  },
  {
   "cell_type": "code",
   "execution_count": 27,
   "id": "974abc3f",
   "metadata": {},
   "outputs": [],
   "source": [
    "N = 100\n",
    "W00 = np.linspace(0.5, 1, N, endpoint=True)\n",
    "W22 = np.linspace(0.5, 1, N, endpoint=True)\n",
    "W01 = np.linspace(0.2, 0.5, N, endpoint=False)\n",
    "W11 = np.linspace(0.1, 0.2, N, endpoint=False)\n",
    "\n",
    "N=10\n",
    "W02 = np.linspace(0, 0.1, N, endpoint=False)\n",
    "W12 = np.linspace(0, 0.1, N, endpoint=False)\n",
    "\n",
    "N0 = np.linspace(10, 100, N, endpoint=True)\n",
    "N1 = np.linspace(10, 100, N, endpoint=True)\n",
    "N2 = np.linspace(10, 100, N, endpoint=True)"
   ]
  },
  {
   "cell_type": "code",
   "execution_count": 29,
   "id": "943fe3ea",
   "metadata": {},
   "outputs": [
    {
     "name": "stdout",
     "output_type": "stream",
     "text": [
      "0.5 0.0 0.5 0.2 0.0 0.09 90.0 10.0 20.0\n",
      "0.5 0.0 0.5 0.2 0.0 0.09 100.0 10.0 20.0\n",
      "0.5 0.0 0.5 0.2 0.0 0.09 100.0 10.0 30.0\n",
      "0.5 0.0 0.5 0.2 0.01 0.09 100.0 10.0 20.0\n",
      "0.5 0.0 0.5 0.2 0.02 0.09 100.0 10.0 20.0\n",
      "0.5 0.0 0.5 0.203 0.0 0.09 90.0 10.0 20.0\n",
      "0.5 0.0 0.5 0.203 0.0 0.09 100.0 10.0 20.0\n",
      "0.5 0.0 0.5 0.203 0.01 0.09 100.0 10.0 20.0\n",
      "0.5 0.0 0.5 0.20600000000000002 0.0 0.09 100.0 10.0 20.0\n",
      "0.5 0.0 0.5 0.20600000000000002 0.01 0.09 100.0 10.0 20.0\n",
      "0.5 0.0 0.5 0.20900000000000002 0.0 0.09 100.0 10.0 20.0\n",
      "0.5 0.0 0.5 0.21200000000000002 0.0 0.09 100.0 10.0 20.0\n"
     ]
    },
    {
     "ename": "KeyboardInterrupt",
     "evalue": "",
     "output_type": "error",
     "traceback": [
      "\u001b[0;31m---------------------------------------------------------------------------\u001b[0m",
      "\u001b[0;31mKeyboardInterrupt\u001b[0m                         Traceback (most recent call last)",
      "\u001b[0;32m<ipython-input-29-648fdc1f9a15>\u001b[0m in \u001b[0;36m<module>\u001b[0;34m\u001b[0m\n\u001b[1;32m      8\u001b[0m                             \u001b[0;32mfor\u001b[0m \u001b[0mn1\u001b[0m \u001b[0;32min\u001b[0m \u001b[0mN1\u001b[0m\u001b[0;34m:\u001b[0m\u001b[0;34m\u001b[0m\u001b[0;34m\u001b[0m\u001b[0m\n\u001b[1;32m      9\u001b[0m                                 \u001b[0;32mfor\u001b[0m \u001b[0mn2\u001b[0m \u001b[0;32min\u001b[0m \u001b[0mN2\u001b[0m\u001b[0;34m:\u001b[0m\u001b[0;34m\u001b[0m\u001b[0;34m\u001b[0m\u001b[0m\n\u001b[0;32m---> 10\u001b[0;31m                                     \u001b[0;32mif\u001b[0m \u001b[0mdelta_Q\u001b[0m\u001b[0;34m(\u001b[0m\u001b[0mw00\u001b[0m\u001b[0;34m,\u001b[0m\u001b[0mw11\u001b[0m\u001b[0;34m,\u001b[0m\u001b[0mw22\u001b[0m\u001b[0;34m,\u001b[0m\u001b[0mw01\u001b[0m\u001b[0;34m,\u001b[0m\u001b[0mw02\u001b[0m\u001b[0;34m,\u001b[0m\u001b[0mw12\u001b[0m\u001b[0;34m,\u001b[0m\u001b[0mn0\u001b[0m\u001b[0;34m,\u001b[0m\u001b[0mn1\u001b[0m\u001b[0;34m,\u001b[0m\u001b[0mn2\u001b[0m\u001b[0;34m)\u001b[0m \u001b[0;34m<=\u001b[0m\u001b[0;36m0\u001b[0m\u001b[0;34m:\u001b[0m\u001b[0;34m\u001b[0m\u001b[0;34m\u001b[0m\u001b[0m\n\u001b[0m\u001b[1;32m     11\u001b[0m                                         \u001b[0mprint\u001b[0m\u001b[0;34m(\u001b[0m\u001b[0mw00\u001b[0m\u001b[0;34m,\u001b[0m\u001b[0mw11\u001b[0m\u001b[0;34m,\u001b[0m\u001b[0mw22\u001b[0m\u001b[0;34m,\u001b[0m\u001b[0mw01\u001b[0m\u001b[0;34m,\u001b[0m\u001b[0mw02\u001b[0m\u001b[0;34m,\u001b[0m\u001b[0mw12\u001b[0m\u001b[0;34m,\u001b[0m\u001b[0mn0\u001b[0m\u001b[0;34m,\u001b[0m\u001b[0mn1\u001b[0m\u001b[0;34m,\u001b[0m\u001b[0mn2\u001b[0m\u001b[0;34m)\u001b[0m\u001b[0;34m\u001b[0m\u001b[0;34m\u001b[0m\u001b[0m\n",
      "\u001b[0;32m<ipython-input-26-a1759bb59ad6>\u001b[0m in \u001b[0;36mdelta_Q\u001b[0;34m(w00, w11, w22, w01, w02, w12, n0, n1, n2)\u001b[0m\n\u001b[1;32m      1\u001b[0m \u001b[0;32mdef\u001b[0m \u001b[0mdelta_Q\u001b[0m\u001b[0;34m(\u001b[0m\u001b[0mw00\u001b[0m\u001b[0;34m,\u001b[0m\u001b[0mw11\u001b[0m\u001b[0;34m,\u001b[0m\u001b[0mw22\u001b[0m\u001b[0;34m,\u001b[0m\u001b[0mw01\u001b[0m\u001b[0;34m,\u001b[0m\u001b[0mw02\u001b[0m\u001b[0;34m,\u001b[0m\u001b[0mw12\u001b[0m\u001b[0;34m,\u001b[0m\u001b[0mn0\u001b[0m\u001b[0;34m,\u001b[0m\u001b[0mn1\u001b[0m\u001b[0;34m,\u001b[0m\u001b[0mn2\u001b[0m\u001b[0;34m)\u001b[0m\u001b[0;34m:\u001b[0m\u001b[0;34m\u001b[0m\u001b[0;34m\u001b[0m\u001b[0m\n\u001b[0;32m----> 2\u001b[0;31m     \u001b[0mvalue\u001b[0m \u001b[0;34m=\u001b[0m \u001b[0mn0\u001b[0m\u001b[0;34m*\u001b[0m\u001b[0mn1\u001b[0m\u001b[0;34m*\u001b[0m\u001b[0mw01\u001b[0m\u001b[0;34m**\u001b[0m\u001b[0;36m2\u001b[0m\u001b[0;34m+\u001b[0m\u001b[0mn2\u001b[0m\u001b[0;34m*\u001b[0m\u001b[0;34m(\u001b[0m\u001b[0mn2\u001b[0m\u001b[0;34m-\u001b[0m\u001b[0;36m1\u001b[0m\u001b[0;34m)\u001b[0m\u001b[0;34m*\u001b[0m\u001b[0mw01\u001b[0m\u001b[0;34m*\u001b[0m\u001b[0mw22\u001b[0m\u001b[0;34m+\u001b[0m\u001b[0mn0\u001b[0m\u001b[0;34m*\u001b[0m\u001b[0mn2\u001b[0m\u001b[0;34m*\u001b[0m\u001b[0mw01\u001b[0m\u001b[0;34m*\u001b[0m\u001b[0mw02\u001b[0m\u001b[0;34m+\u001b[0m\u001b[0mn1\u001b[0m\u001b[0;34m*\u001b[0m\u001b[0mn2\u001b[0m\u001b[0;34m*\u001b[0m\u001b[0mw01\u001b[0m\u001b[0;34m*\u001b[0m\u001b[0mw12\u001b[0m\u001b[0;34m-\u001b[0m\u001b[0;34m(\u001b[0m\u001b[0mn0\u001b[0m\u001b[0;34m-\u001b[0m\u001b[0;36m1\u001b[0m\u001b[0;34m)\u001b[0m\u001b[0;34m*\u001b[0m\u001b[0;34m(\u001b[0m\u001b[0mn1\u001b[0m\u001b[0;34m-\u001b[0m\u001b[0;36m1\u001b[0m\u001b[0;34m)\u001b[0m\u001b[0;34m*\u001b[0m\u001b[0mw00\u001b[0m\u001b[0;34m*\u001b[0m\u001b[0mw11\u001b[0m\u001b[0;34m-\u001b[0m\u001b[0;34m(\u001b[0m\u001b[0mn0\u001b[0m\u001b[0;34m-\u001b[0m\u001b[0;36m1\u001b[0m\u001b[0;34m)\u001b[0m\u001b[0;34m*\u001b[0m\u001b[0mn2\u001b[0m\u001b[0;34m*\u001b[0m\u001b[0mw00\u001b[0m\u001b[0;34m*\u001b[0m\u001b[0mw12\u001b[0m\u001b[0;34m-\u001b[0m\u001b[0;34m(\u001b[0m\u001b[0mn1\u001b[0m\u001b[0;34m-\u001b[0m\u001b[0;36m1\u001b[0m\u001b[0;34m)\u001b[0m\u001b[0;34m*\u001b[0m\u001b[0mn2\u001b[0m\u001b[0;34m*\u001b[0m\u001b[0mw11\u001b[0m\u001b[0;34m*\u001b[0m\u001b[0mw02\u001b[0m\u001b[0;34m-\u001b[0m\u001b[0mn2\u001b[0m\u001b[0;34m**\u001b[0m\u001b[0;36m2\u001b[0m\u001b[0;34m*\u001b[0m\u001b[0mw02\u001b[0m\u001b[0;34m*\u001b[0m\u001b[0mw12\u001b[0m\u001b[0;34m\u001b[0m\u001b[0;34m\u001b[0m\u001b[0m\n\u001b[0m\u001b[1;32m      3\u001b[0m     \u001b[0;32mreturn\u001b[0m \u001b[0mvalue\u001b[0m\u001b[0;34m;\u001b[0m\u001b[0;34m\u001b[0m\u001b[0;34m\u001b[0m\u001b[0m\n",
      "\u001b[0;31mKeyboardInterrupt\u001b[0m: "
     ]
    }
   ],
   "source": [
    "for w00 in W00:\n",
    "    for w11 in W11:\n",
    "        for w22 in W22:\n",
    "            for w01 in W01:\n",
    "                for w02 in W02:\n",
    "                    for w12 in W12:\n",
    "                        for n0 in N0:\n",
    "                            for n1 in N1:\n",
    "                                for n2 in N2:\n",
    "                                    if delta_Q(w00,w11,w22,w01,w02,w12,n0,n1,n2) <=0:\n",
    "                                        print(w00,w11,w22,w01,w02,w12,n0,n1,n2)"
   ]
  },
  {
   "cell_type": "code",
   "execution_count": 25,
   "id": "125ac400",
   "metadata": {},
   "outputs": [
    {
     "data": {
      "text/plain": [
       "21.75"
      ]
     },
     "execution_count": 25,
     "metadata": {},
     "output_type": "execute_result"
    }
   ],
   "source": [
    "delta_Q(0.5,0.5,0.5,0.2,0.0,0.0,10.0,10.0,20.0)"
   ]
  },
  {
   "cell_type": "code",
   "execution_count": null,
   "id": "f55009b1",
   "metadata": {},
   "outputs": [],
   "source": []
  }
 ],
 "metadata": {
  "kernelspec": {
   "display_name": "Python 3",
   "language": "python",
   "name": "python3"
  },
  "language_info": {
   "codemirror_mode": {
    "name": "ipython",
    "version": 3
   },
   "file_extension": ".py",
   "mimetype": "text/x-python",
   "name": "python",
   "nbconvert_exporter": "python",
   "pygments_lexer": "ipython3",
   "version": "3.9.12"
  }
 },
 "nbformat": 4,
 "nbformat_minor": 5
}
